{
 "cells": [
  {
   "cell_type": "code",
   "execution_count": 65,
   "metadata": {},
   "outputs": [],
   "source": [
    "import random\n",
    "import numpy as np\n",
    "import pandas as pd\n",
    "import matplotlib.pyplot as plt\n",
    "import copy\n",
    "#random.seed(4)\n",
    "#according to fillrate calc other transport qty"
   ]
  },
  {
   "cell_type": "code",
   "execution_count": 66,
   "metadata": {},
   "outputs": [],
   "source": [
    "# Problem paramters\n",
    "I=4\n",
    "J=4\n",
    "K=4\n",
    "L=4\n",
    "M=4\n",
    "N=4\n",
    "P=4\n",
    "R=4\n",
    "S=4\n",
    "nvar=5\n",
    "nobj=2\n",
    "varmax=150\n",
    "varmin=50\n",
    "demand=500\n",
    "#check"
   ]
  },
  {
   "cell_type": "code",
   "execution_count": 67,
   "metadata": {},
   "outputs": [],
   "source": [
    "# import random\n",
    "def generate_numbers():\n",
    "    numbers = []\n",
    "    total_sum = 0\n",
    "    for i in range(nvar-1):\n",
    "        number = random.randint(1, demand - total_sum - (nvar-1- i))\n",
    "        numbers.append(number)\n",
    "        total_sum += number\n",
    "    numbers.append(demand - total_sum)\n",
    "    return numbers\n",
    "\n",
    "# Example usage:\n"
   ]
  },
  {
   "cell_type": "code",
   "execution_count": 68,
   "metadata": {},
   "outputs": [
    {
     "data": {
      "text/plain": [
       "array([145, 111, 133, 118, 111])"
      ]
     },
     "execution_count": 68,
     "metadata": {},
     "output_type": "execute_result"
    }
   ],
   "source": [
    "a=np.random.randint(100,150,size=5)\n",
    "a"
   ]
  },
  {
   "cell_type": "code",
   "execution_count": 48,
   "metadata": {},
   "outputs": [
    {
     "name": "stdout",
     "output_type": "stream",
     "text": [
      "Original list: [10, 20, 30, 25, 20]\n",
      "New list: [19, 17, 14, 35, 20]\n",
      "Sum of original list: 105\n",
      "Sum of new list: 105\n"
     ]
    }
   ],
   "source": [
    "import random\n",
    "\n",
    "def replace_items_in_list(lst, replace_idx, min_val, max_val):\n",
    "    # Save the original sum\n",
    "    original_sum = sum(lst)\n",
    "    \n",
    "    # Make a copy of the list so that we don't modify the original list\n",
    "    new_lst = lst.copy()\n",
    "    \n",
    "    # Generate new values for the items to be replaced\n",
    "    for idx in replace_idx:\n",
    "        new_lst[idx] = random.randint(min_val, max_val)\n",
    "    \n",
    "    # Adjust other items if necessary to maintain the original sum\n",
    "    while sum(new_lst) != original_sum:\n",
    "        if sum(new_lst) < original_sum:\n",
    "            idx = random.choice([i for i in range(len(new_lst)) if i not in replace_idx])\n",
    "            new_lst[idx] += original_sum - sum(new_lst)\n",
    "        else:\n",
    "            idx = random.choice([i for i in replace_idx])\n",
    "            new_lst[idx] -= sum(new_lst) - original_sum\n",
    "    \n",
    "    return new_lst\n",
    "original_lst = [10, 20, 30, 25, 20]\n",
    "new_lst = replace_items_in_list(original_lst,[0,2,1], 10, 20)\n",
    "print(\"Original list:\", original_lst)\n",
    "print(\"New list:\", new_lst)\n",
    "print(\"Sum of original list:\", sum(original_lst))\n",
    "print(\"Sum of new list:\", sum(new_lst))"
   ]
  },
  {
   "cell_type": "code",
   "execution_count": 69,
   "metadata": {},
   "outputs": [],
   "source": [
    "#parameters\n",
    "pci=np.random.randint(100,150,size=I)\n",
    "#fixed cost\n",
    "fcj=np.random.randint(10000,150000,size=J)\n",
    "fck=np.random.randint(5000,10000,size=K)\n",
    "fcl=np.random.randint(5000,10000,size=L)\n",
    "fcm=np.random.randint(5000,10000,size=M)\n",
    "fcn=np.random.randint(5000,10000,size=N)\n",
    "fcp=np.random.randint(5000,10000,size=P)\n",
    "fcr=np.random.randint(5000,10000,size=R)\n",
    "fcs=np.random.randint(5000,10000,size=S)\n",
    "#fill rate assumption\n",
    "fill_j=1\n",
    "fill_k=0.99\n",
    "fill_l=0.95\n",
    "#variable cost (manufacturing cost)\n",
    "mcj=np.random.randint(10,150,size=J)\n",
    "#Inventory cost\n",
    "invj=np.random.randint(10,15,size=J)\n",
    "invk=np.random.randint(15,25,size=K)\n",
    "invl=np.random.randint(20,50,size=L)\n",
    "invm=np.random.randint(20,50,size=M)\n",
    "invn=np.random.randint(20,50,size=N)\n",
    "invp=np.random.randint(20,50,size=P)\n",
    "invr=np.random.randint(15,25,size=R)\n",
    "invs=np.random.randint(10,15,size=S)\n",
    "#Transportation cost\n",
    "tcij=np.random.randint(10,15,size=(I,J))\n",
    "tcjk=np.random.randint(10,15,size=(J,K))\n",
    "tckl=np.random.randint(10,15,size=(K,L))\n",
    "tclm=np.random.randint(10,15,size=(L,M))\n",
    "tcmn=np.random.randint(10,15,size=(M,N))\n",
    "tcmp=np.random.randint(10,15,size=(M,P))\n",
    "tcmr=np.random.randint(10,15,size=(M,R))\n",
    "tcms=np.random.randint(10,15,size=(M,S))\n",
    "tcns=np.random.randint(10,15,size=(N,S))\n",
    "tcps=np.random.randint(10,15,size=(P,S))\n",
    "tcrs=np.random.randint(10,15,size=(R,S))\n",
    "tcri=np.random.randint(10,15,size=(R,I))\n",
    "tcpj=np.random.randint(10,15,size=(P,J))\n",
    "tcnk=np.random.randint(10,15,size=(N,K))\n",
    "#Time present in the inventory\n",
    "invtj=np.random.randint(10,15,size=J)\n",
    "invtk=np.random.randint(15,25,size=K)\n",
    "invtl=np.random.randint(20,50,size=L)\n",
    "invtm=np.random.randint(20,50,size=M)\n",
    "invtn=np.random.randint(20,50,size=N)\n",
    "invtp=np.random.randint(20,50,size=P)\n",
    "invtr=np.random.randint(15,25,size=R)\n",
    "invts=np.random.randint(10,15,size=S)\n",
    "#Fixed job oppurtunities\n",
    "fjj=np.random.randint(500,1000,size=J)\n",
    "fjk=np.random.randint(100,150,size=K)\n",
    "fjl=np.random.randint(100,150,size=L)\n",
    "fjm=np.random.randint(100,150,size=M)\n",
    "fjn=np.random.randint(100,150,size=N)\n",
    "fjp=np.random.randint(100,150,size=P)\n",
    "fjr=np.random.randint(100,150,size=R)\n",
    "fjs=np.random.randint(100,150,size=S)\n",
    "#Variable job oppurtunities\n",
    "vjj=np.random.randint(50,100,size=J)\n",
    "vjk=np.random.randint(10,15,size=K)\n",
    "vjl=np.random.randint(10,15,size=L)\n",
    "vjm=np.random.randint(10,15,size=M)\n",
    "vjn=np.random.randint(10,15,size=N)\n",
    "vjp=np.random.randint(10,15,size=P)\n",
    "vjr=np.random.randint(10,15,size=R)\n",
    "vjs=np.random.randint(10,15,size=S)\n",
    "#Capacity\n",
    "pj=np.random.randint(15,25,size=J)\n",
    "pk=np.random.randint(50,100,size=K)\n",
    "pl=np.random.randint(50,100,size=L)\n",
    "pm=np.random.randint(50,100,size=M)\n",
    "pn=np.random.randint(50,100,size=N)\n",
    "pp=np.random.randint(50,100,size=P)\n",
    "pr=np.random.randint(50,100,size=R)\n",
    "ps=np.random.randint(50,100,size=S)\n",
    "#Distance between facilities\n",
    "dij=np.random.randint(1000,1500,size=(I,J))\n",
    "djk=np.random.randint(100,150,size=(J,K))\n",
    "dkl=np.random.randint(70,120,size=(K,L))\n",
    "dlm=np.random.randint(50,75,size=(L,M))\n",
    "dmn=np.random.randint(50,75,size=(M,N))\n",
    "dmp=np.random.randint(100,150,size=(M,P))\n",
    "dmr=np.random.randint(100,150,size=(M,R))\n",
    "dms=np.random.randint(100,150,size=(M,S))\n",
    "dns=np.random.randint(100,150,size=(N,S))\n",
    "dps=np.random.randint(100,150,size=(P,S))\n",
    "drs=np.random.randint(100,150,size=(R,S))\n",
    "dri=np.random.randint(100,150,size=(R,I))\n",
    "dpj=np.random.randint(100,150,size=(P,J))\n",
    "dnk=np.random.randint(100,150,size=(N,K))"
   ]
  },
  {
   "cell_type": "code",
   "execution_count": 70,
   "metadata": {},
   "outputs": [],
   "source": [
    "#Hyper paramters\n",
    "#alpha\n",
    "al=0.1\n",
    "#betta\n",
    "bn=0.3\n",
    "bp=0.3\n",
    "br=0.15\n",
    "bs=0.15\n",
    "#Gamma\n",
    "gn=0.9\n",
    "gp=0.9\n",
    "gr=0.9\n",
    "#Monetary gain\n",
    "scd=0.5\n",
    "scm=0.4\n",
    "scr=0.35\n",
    "scu=0.15\n",
    "#Product weight\n",
    "pw=0.450/1000\n",
    "#Social cost of carbon\n",
    "co2e=73.45\n",
    "scc=86\n",
    "#Maximum desired facilities\n",
    "maxi=2\n",
    "maxj=2\n",
    "maxk=3\n",
    "maxl=4\n",
    "maxm=3\n",
    "maxn=2\n",
    "maxp=2\n",
    "maxr=1\n",
    "maxs=1"
   ]
  },
  {
   "cell_type": "code",
   "execution_count": 71,
   "metadata": {},
   "outputs": [],
   "source": [
    "#Cost function1\n",
    "def calc_objective1(lst_pq):\n",
    "    p_q=round(np.average(lst_pq))\n",
    "    Yi=np.ones(maxi,dtype=np.int16)\n",
    "    Yj=np.ones(maxj,dtype=np.int16)\n",
    "    Yk=np.ones(maxk,dtype=np.int16)\n",
    "    Yl=np.ones(maxl,dtype=np.int16)\n",
    "    Ym=np.ones(maxm,dtype=np.int16)\n",
    "    Yn=np.ones(maxn,dtype=np.int16)\n",
    "    Yp=np.ones(maxp,dtype=np.int16)\n",
    "    Yr=np.ones(maxr,dtype=np.int16)\n",
    "    Ys=np.ones(maxs,dtype=np.int16)\n",
    "    #cost paramters calc\n",
    "    zfc=0\n",
    "    for i in range(maxi):\n",
    "        zfc+=fcj[i]*Yi[i]\n",
    "    for j in range(maxj):\n",
    "        zfc+=fcj[j]*Yj[j]\n",
    "    for k in range(maxk):\n",
    "        zfc+=fcn[k]*Yk[k]\n",
    "    for l in range(maxl):\n",
    "        zfc+=fcn[l]*Yl[l]\n",
    "    for m in range(maxm):\n",
    "        zfc+=fcn[m]*Ym[m]\n",
    "    for n in range(maxn):\n",
    "        zfc+=fcn[n]*Yn[n]\n",
    "    for p in range(maxp):\n",
    "        zfc+=fcp[p]*Yp[p]\n",
    "    for r in range(maxr):\n",
    "        zfc+=fcr[r]*Yr[r]\n",
    "    for s in range(maxs):\n",
    "        zfc+=fcs[s]*Ys[s]\n",
    "    #purchasing cost\n",
    "    zpc=0\n",
    "    for i in range(maxi):\n",
    "        zpc+=pci[i]*Yi[i]*p_q\n",
    "    #mfg cost\n",
    "    zmc=0\n",
    "    for i in range(maxj):\n",
    "        zmc+=mcj[i]*Yj[i]*p_q\n",
    "    #inv\n",
    "    zinv=0\n",
    "    for i in range(maxj):\n",
    "        zinv+=invj[i]*invtj[i]*Yj[i]*p_q*fill_j\n",
    "    for i in range(maxk):\n",
    "        zinv+=invk[i]*invtk[i]*Yk[i]*p_q*fill_k\n",
    "    for i in range(maxl):\n",
    "        zinv+=invl[i]*invtl[i]*Yl[i]*p_q*fill_l\n",
    "    for i in range(maxm):\n",
    "        zinv+=invm[i]*invtm[i]*Ym[i]*p_q*al\n",
    "    for i in range(maxn):\n",
    "        zinv+=invn[i]*invtn[i]*Yn[i]*p_q*al*bn\n",
    "    for i in range(maxp):\n",
    "        zinv+=invp[i]*invtp[i]*Yp[i]*p_q*al*bp\n",
    "    for i in range(maxr):\n",
    "        zinv+=invr[i]*invtr[i]*Yr[i]*p_q*al*br\n",
    "    for i in range(maxs):\n",
    "        zinv+=invs[i]*invts[i]*Ys[i]*p_q*al*bs*(3-(gn+gp+gr))\n",
    "    #tc\n",
    "    ztc=0\n",
    "    for temp1 in range(maxi):\n",
    "        for temp2 in range(maxj):\n",
    "            ztc+=tcij[temp1][temp2]*dij[temp1][temp2]*p_q*Yi[temp1]*Yj[temp2]*fill_j\n",
    "    for temp1 in range(maxj):\n",
    "        for temp2 in range(maxk):\n",
    "            ztc+=tcjk[temp1][temp2]*djk[temp1][temp2]*p_q*Yj[temp1]*Yk[temp2]*fill_k\n",
    "    for temp1 in range(maxk):\n",
    "        for temp2 in range(maxl):\n",
    "            ztc+=tckl[temp1][temp2]*dkl[temp1][temp2]*p_q*Yk[temp1]*Yl[temp2]*fill_l\n",
    "    for temp1 in range(maxl):\n",
    "        for temp2 in range(maxm):\n",
    "            ztc+=tclm[temp1][temp2]*dlm[temp1][temp2]*p_q*Yl[temp1]*Ym[temp2]*al\n",
    "    for temp1 in range(maxm):\n",
    "        for temp2 in range(maxn):\n",
    "            ztc+=tcmn[temp1][temp2]*dmn[temp1][temp2]*p_q*Ym[temp1]*Yn[temp2]*al*bn\n",
    "    for temp1 in range(maxm):\n",
    "        for temp2 in range(maxp):\n",
    "            ztc+=tcmp[temp1][temp2]*dmp[temp1][temp2]*p_q*Ym[temp1]*Yp[temp2]*al*bp\n",
    "    for temp1 in range(maxm):\n",
    "        for temp2 in range(maxr):\n",
    "            ztc+=tcmr[temp1][temp2]*dmr[temp1][temp2]*p_q*Ym[temp1]*Yr[temp2]*al*br\n",
    "    for temp1 in range(maxm):\n",
    "        for temp2 in range(maxs):\n",
    "            ztc+=tcms[temp1][temp2]*dms[temp1][temp2]*p_q*Ym[temp1]*Ys[temp2]*al*bs\n",
    "    for temp1 in range(maxr):\n",
    "        for temp2 in range(maxs):\n",
    "            ztc+=tcrs[temp1][temp2]*drs[temp1][temp2]*p_q*Yr[temp1]*Ys[temp2]*al*(1-gr)*br\n",
    "    for temp1 in range(maxp):\n",
    "        for temp2 in range(maxs):\n",
    "            ztc+=tcps[temp1][temp2]*dps[temp1][temp2]*p_q*Yp[temp1]*Ys[temp2]*al*(1-gp)*bp\n",
    "    for temp1 in range(maxn):\n",
    "        for temp2 in range(maxs):\n",
    "            ztc+=tcns[temp1][temp2]*dns[temp1][temp2]*p_q*Yn[temp1]*Ys[temp2]*al*(1-gn)*bn\n",
    "    for temp1 in range(maxn):\n",
    "        for temp2 in range(maxk):\n",
    "            ztc+=tcns[temp1][temp2]*dnk[temp1][temp2]*p_q*Yn[temp1]*Yk[temp2]*al*gn*bn\n",
    "    for temp1 in range(maxp):\n",
    "        for temp2 in range(maxj):\n",
    "            ztc+=tcpj[temp1][temp2]*dpj[temp1][temp2]*p_q*Yp[temp1]*Yj[temp2]*al*gp*bp\n",
    "    for temp1 in range(maxr):\n",
    "        for temp2 in range(maxi):\n",
    "            ztc+=tcri[temp1][temp2]*dri[temp1][temp2]*p_q*Yr[temp1]*Yi[temp2]*al*gr*br\n",
    "    #Monetry savings due to reselling\n",
    "    zscd=0\n",
    "    for i in range(maxn):\n",
    "        for j in range(maxk):\n",
    "            zscd+=scd*(gn*p_q*al*bn*Yn[i]*Yk[j])\n",
    "    zscm=0\n",
    "    for i in range(maxp):\n",
    "        for j in range(maxj):\n",
    "            zscm+=scm*(gp*p_q*al*bp*Yp[i]*Yj[j])\n",
    "    zscr=0\n",
    "    for i in range(maxr):\n",
    "        for j in range(maxi):\n",
    "            zscr+=scr*(gr*p_q*al*br*Yr[i]*Yi[j])\n",
    "    #Co2 emission\n",
    "    zco2ec=0\n",
    "    for temp1 in range(maxi):\n",
    "        for temp2 in range(maxj):\n",
    "            zco2ec+=co2e*scc*dij[temp1][temp2]*pw*p_q*Yi[temp1]*Yj[temp2]*fill_j\n",
    "    for temp1 in range(maxj):\n",
    "        for temp2 in range(maxk):\n",
    "            zco2ec+=co2e*scc*djk[temp1][temp2]*pw*p_q*Yj[temp1]*Yk[temp2]*fill_k\n",
    "    for temp1 in range(maxk):\n",
    "        for temp2 in range(maxl):\n",
    "            zco2ec+=co2e*scc*dkl[temp1][temp2]*pw*p_q*Yk[temp1]*Yl[temp2]*fill_l\n",
    "    for temp1 in range(maxl):\n",
    "        for temp2 in range(maxm):\n",
    "            zco2ec+=co2e*scc*dlm[temp1][temp2]*pw*p_q*Yl[temp1]*Ym[temp2]*al\n",
    "    for temp1 in range(maxm):\n",
    "        for temp2 in range(maxn):\n",
    "            zco2ec+=co2e*scc*dmn[temp1][temp2]*pw*p_q*Ym[temp1]*Yn[temp2]*al*bn\n",
    "    for temp1 in range(maxm):\n",
    "        for temp2 in range(maxp):\n",
    "            zco2ec+=co2e*scc*dmp[temp1][temp2]*pw*p_q*Ym[temp1]*Yp[temp2]*al*bp\n",
    "    for temp1 in range(maxm):\n",
    "        for temp2 in range(maxr):\n",
    "            zco2ec+=co2e*scc*dmr[temp1][temp2]*pw*p_q*Ym[temp1]*Yr[temp2]*al*br\n",
    "    for temp1 in range(maxm):\n",
    "        for temp2 in range(maxs):\n",
    "            zco2ec+=co2e*scc*dms[temp1][temp2]*pw*p_q*Ym[temp1]*Ys[temp2]*al*bs\n",
    "    for temp1 in range(maxr):\n",
    "        for temp2 in range(maxs):\n",
    "            zco2ec+=co2e*scc*drs[temp1][temp2]*pw*p_q*Yr[temp1]*Ys[temp2]*al*(1-gr)*br\n",
    "    for temp1 in range(maxp):\n",
    "        for temp2 in range(maxs):\n",
    "            zco2ec+=co2e*scc*dps[temp1][temp2]*pw*p_q*Yp[temp1]*Ys[temp2]*al*(1-gp)*bp\n",
    "    for temp1 in range(maxn):\n",
    "        for temp2 in range(maxs):\n",
    "            zco2ec+=co2e*scc*dns[temp1][temp2]*pw*p_q*Yn[temp1]*Ys[temp2]*al*(1-gn)*bn\n",
    "    for temp1 in range(maxn):\n",
    "        for temp2 in range(maxk):\n",
    "            zco2ec+=co2e*scc*dnk[temp1][temp2]*pw*p_q*Yn[temp1]*Yk[temp2]*al*gn\n",
    "    for temp1 in range(maxp):\n",
    "        for temp2 in range(maxj):\n",
    "            zco2ec+=co2e*scc*dpj[temp1][temp2]*pw*p_q*Yp[temp1]*Yj[temp2]*al*gp\n",
    "    for temp1 in range(maxr):\n",
    "        for temp2 in range(maxi):\n",
    "            zco2ec+=co2e*scc*dri[temp1][temp2]*pw*p_q*Yr[temp1]*Yi[temp2]*al*gr\n",
    "    #selling waste\n",
    "    zsw=scu*p_q*al*bs*(3-(gn+gp+gr))\n",
    "    #Social paramters\n",
    "    zfj=0\n",
    "    for i in range(maxi):\n",
    "        zfj+=fjj[i]*Yi[i]\n",
    "    for j in range(maxj):\n",
    "        zfj+=fjj[j]*Yj[j]\n",
    "    for k in range(maxk):\n",
    "        zfj+=fjn[k]*Yk[k]\n",
    "    for l in range(maxl):\n",
    "        zfj+=fjn[l]*Yl[l]\n",
    "    for m in range(maxm):\n",
    "        zfj+=fjn[m]*Ym[m]\n",
    "    for n in range(maxn):\n",
    "        zfj+=fjn[n]*Yn[n]\n",
    "    for p in range(maxp):\n",
    "        zfj+=fjp[p]*Yp[p]\n",
    "    for r in range(maxr):\n",
    "        zfj+=fjr[r]*Yr[r]\n",
    "    for s in range(maxs):\n",
    "        zfj+=fjs[s]*Ys[s]\n",
    "    zvj=0\n",
    "    for j in range(maxj):\n",
    "        zvj+=vjj[j]*p_q*fill_j/pj[j]\n",
    "    for k in range(maxk):\n",
    "        zvj+=vjn[k]*p_q*fill_k/pk[k]\n",
    "    for l in range(maxl):\n",
    "        zvj+=vjn[l]*p_q*fill_l/pl[l]\n",
    "    for m in range(maxm):\n",
    "        zvj+=vjn[m]*p_q*al/pm[m]\n",
    "    for n in range(maxn):\n",
    "        zvj+=vjn[n]*p_q*al*bn/pn[n]\n",
    "    for p in range(maxp):\n",
    "        zvj+=vjp[p]*p_q*al*bp/pp[p]\n",
    "    for r in range(maxr):\n",
    "        zvj+=vjr[r]*p_q*al*br/pr[r]\n",
    "    for s in range(maxs):\n",
    "        zvj+=vjs[s]*p_q*al*bs*(3-(gn+gp+gr))/ps[s]\n",
    "    z1=zfc+zpc+zmc+zinv+ztc-zscd-zscm-zscr+zco2ec-zsw\n",
    "    z2=zfj+zvj\n",
    "    return z1"
   ]
  },
  {
   "cell_type": "code",
   "execution_count": 72,
   "metadata": {},
   "outputs": [],
   "source": [
    "#Cost function2\n",
    "def calc_objective2(lst_pq):\n",
    "    p_q=round(np.average(lst_pq))\n",
    "    Yi=np.ones(maxi,dtype=np.int16)\n",
    "    Yj=np.ones(maxj,dtype=np.int16)\n",
    "    Yk=np.ones(maxk,dtype=np.int16)\n",
    "    Yl=np.ones(maxl,dtype=np.int16)\n",
    "    Ym=np.ones(maxm,dtype=np.int16)\n",
    "    Yn=np.ones(maxn,dtype=np.int16)\n",
    "    Yp=np.ones(maxp,dtype=np.int16)\n",
    "    Yr=np.ones(maxr,dtype=np.int16)\n",
    "    Ys=np.ones(maxs,dtype=np.int16)\n",
    "    #cost paramters calc\n",
    "    zfc=0\n",
    "    for i in range(maxi):\n",
    "        zfc+=fcj[i]*Yi[i]\n",
    "    for j in range(maxj):\n",
    "        zfc+=fcj[j]*Yj[j]\n",
    "    for k in range(maxk):\n",
    "        zfc+=fcn[k]*Yk[k]\n",
    "    for l in range(maxl):\n",
    "        zfc+=fcn[l]*Yl[l]\n",
    "    for m in range(maxm):\n",
    "        zfc+=fcn[m]*Ym[m]\n",
    "    for n in range(maxn):\n",
    "        zfc+=fcn[n]*Yn[n]\n",
    "    for p in range(maxp):\n",
    "        zfc+=fcp[p]*Yp[p]\n",
    "    for r in range(maxr):\n",
    "        zfc+=fcr[r]*Yr[r]\n",
    "    for s in range(maxs):\n",
    "        zfc+=fcs[s]*Ys[s]\n",
    "    #purchasing cost\n",
    "    zpc=0\n",
    "    for i in range(maxi):\n",
    "        zpc+=pci[i]*Yi[i]*p_q\n",
    "    #mfg cost\n",
    "    zmc=0\n",
    "    for i in range(maxj):\n",
    "        zmc+=mcj[i]*Yj[i]*p_q\n",
    "    #inv\n",
    "    zinv=0\n",
    "    for i in range(maxj):\n",
    "        zinv+=invj[i]*invtj[i]*Yj[i]*p_q*fill_j\n",
    "    for i in range(maxk):\n",
    "        zinv+=invk[i]*invtk[i]*Yk[i]*p_q*fill_k\n",
    "    for i in range(maxl):\n",
    "        zinv+=invl[i]*invtl[i]*Yl[i]*p_q*fill_l\n",
    "    for i in range(maxm):\n",
    "        zinv+=invm[i]*invtm[i]*Ym[i]*p_q*al\n",
    "    for i in range(maxn):\n",
    "        zinv+=invn[i]*invtn[i]*Yn[i]*p_q*al*bn\n",
    "    for i in range(maxp):\n",
    "        zinv+=invp[i]*invtp[i]*Yp[i]*p_q*al*bp\n",
    "    for i in range(maxr):\n",
    "        zinv+=invr[i]*invtr[i]*Yr[i]*p_q*al*br\n",
    "    for i in range(maxs):\n",
    "        zinv+=invs[i]*invts[i]*Ys[i]*p_q*al*bs*(3-(gn+gp+gr))\n",
    "    #tc\n",
    "    ztc=0\n",
    "    for temp1 in range(maxi):\n",
    "        for temp2 in range(maxj):\n",
    "            ztc+=tcij[temp1][temp2]*dij[temp1][temp2]*p_q*Yi[temp1]*Yj[temp2]*fill_j\n",
    "    for temp1 in range(maxj):\n",
    "        for temp2 in range(maxk):\n",
    "            ztc+=tcjk[temp1][temp2]*djk[temp1][temp2]*p_q*Yj[temp1]*Yk[temp2]*fill_k\n",
    "    for temp1 in range(maxk):\n",
    "        for temp2 in range(maxl):\n",
    "            ztc+=tckl[temp1][temp2]*dkl[temp1][temp2]*p_q*Yk[temp1]*Yl[temp2]*fill_l\n",
    "    for temp1 in range(maxl):\n",
    "        for temp2 in range(maxm):\n",
    "            ztc+=tclm[temp1][temp2]*dlm[temp1][temp2]*p_q*Yl[temp1]*Ym[temp2]*al\n",
    "    for temp1 in range(maxm):\n",
    "        for temp2 in range(maxn):\n",
    "            ztc+=tcmn[temp1][temp2]*dmn[temp1][temp2]*p_q*Ym[temp1]*Yn[temp2]*al*bn\n",
    "    for temp1 in range(maxm):\n",
    "        for temp2 in range(maxp):\n",
    "            ztc+=tcmp[temp1][temp2]*dmp[temp1][temp2]*p_q*Ym[temp1]*Yp[temp2]*al*bp\n",
    "    for temp1 in range(maxm):\n",
    "        for temp2 in range(maxr):\n",
    "            ztc+=tcmr[temp1][temp2]*dmr[temp1][temp2]*p_q*Ym[temp1]*Yr[temp2]*al*br\n",
    "    for temp1 in range(maxm):\n",
    "        for temp2 in range(maxs):\n",
    "            ztc+=tcms[temp1][temp2]*dms[temp1][temp2]*p_q*Ym[temp1]*Ys[temp2]*al*bs\n",
    "    for temp1 in range(maxr):\n",
    "        for temp2 in range(maxs):\n",
    "            ztc+=tcrs[temp1][temp2]*drs[temp1][temp2]*p_q*Yr[temp1]*Ys[temp2]*al*(1-gr)*br\n",
    "    for temp1 in range(maxp):\n",
    "        for temp2 in range(maxs):\n",
    "            ztc+=tcps[temp1][temp2]*dps[temp1][temp2]*p_q*Yp[temp1]*Ys[temp2]*al*(1-gp)*bp\n",
    "    for temp1 in range(maxn):\n",
    "        for temp2 in range(maxs):\n",
    "            ztc+=tcns[temp1][temp2]*dns[temp1][temp2]*p_q*Yn[temp1]*Ys[temp2]*al*(1-gn)*bn\n",
    "    for temp1 in range(maxn):\n",
    "        for temp2 in range(maxk):\n",
    "            ztc+=tcns[temp1][temp2]*dnk[temp1][temp2]*p_q*Yn[temp1]*Yk[temp2]*al*gn*bn\n",
    "    for temp1 in range(maxp):\n",
    "        for temp2 in range(maxj):\n",
    "            ztc+=tcpj[temp1][temp2]*dpj[temp1][temp2]*p_q*Yp[temp1]*Yj[temp2]*al*gp*bp\n",
    "    for temp1 in range(maxr):\n",
    "        for temp2 in range(maxi):\n",
    "            ztc+=tcri[temp1][temp2]*dri[temp1][temp2]*p_q*Yr[temp1]*Yi[temp2]*al*gr*br\n",
    "    #Monetry savings due to reselling\n",
    "    zscd=0\n",
    "    for i in range(maxn):\n",
    "        for j in range(maxk):\n",
    "            zscd+=scd*(gn*p_q*al*bn*Yn[i]*Yk[j])\n",
    "    zscm=0\n",
    "    for i in range(maxp):\n",
    "        for j in range(maxj):\n",
    "            zscm+=scm*(gp*p_q*al*bp*Yp[i]*Yj[j])\n",
    "    zscr=0\n",
    "    for i in range(maxr):\n",
    "        for j in range(maxi):\n",
    "            zscr+=scr*(gr*p_q*al*br*Yr[i]*Yi[j])\n",
    "    #Co2 emission\n",
    "    zco2ec=0\n",
    "    for temp1 in range(maxi):\n",
    "        for temp2 in range(maxj):\n",
    "            zco2ec+=co2e*scc*dij[temp1][temp2]*pw*p_q*Yi[temp1]*Yj[temp2]*fill_j\n",
    "    for temp1 in range(maxj):\n",
    "        for temp2 in range(maxk):\n",
    "            zco2ec+=co2e*scc*djk[temp1][temp2]*pw*p_q*Yj[temp1]*Yk[temp2]*fill_k\n",
    "    for temp1 in range(maxk):\n",
    "        for temp2 in range(maxl):\n",
    "            zco2ec+=co2e*scc*dkl[temp1][temp2]*pw*p_q*Yk[temp1]*Yl[temp2]*fill_l\n",
    "    for temp1 in range(maxl):\n",
    "        for temp2 in range(maxm):\n",
    "            zco2ec+=co2e*scc*dlm[temp1][temp2]*pw*p_q*Yl[temp1]*Ym[temp2]*al\n",
    "    for temp1 in range(maxm):\n",
    "        for temp2 in range(maxn):\n",
    "            zco2ec+=co2e*scc*dmn[temp1][temp2]*pw*p_q*Ym[temp1]*Yn[temp2]*al*bn\n",
    "    for temp1 in range(maxm):\n",
    "        for temp2 in range(maxp):\n",
    "            zco2ec+=co2e*scc*dmp[temp1][temp2]*pw*p_q*Ym[temp1]*Yp[temp2]*al*bp\n",
    "    for temp1 in range(maxm):\n",
    "        for temp2 in range(maxr):\n",
    "            zco2ec+=co2e*scc*dmr[temp1][temp2]*pw*p_q*Ym[temp1]*Yr[temp2]*al*br\n",
    "    for temp1 in range(maxm):\n",
    "        for temp2 in range(maxs):\n",
    "            zco2ec+=co2e*scc*dms[temp1][temp2]*pw*p_q*Ym[temp1]*Ys[temp2]*al*bs\n",
    "    for temp1 in range(maxr):\n",
    "        for temp2 in range(maxs):\n",
    "            zco2ec+=co2e*scc*drs[temp1][temp2]*pw*p_q*Yr[temp1]*Ys[temp2]*al*(1-gr)*br\n",
    "    for temp1 in range(maxp):\n",
    "        for temp2 in range(maxs):\n",
    "            zco2ec+=co2e*scc*dps[temp1][temp2]*pw*p_q*Yp[temp1]*Ys[temp2]*al*(1-gp)*bp\n",
    "    for temp1 in range(maxn):\n",
    "        for temp2 in range(maxs):\n",
    "            zco2ec+=co2e*scc*dns[temp1][temp2]*pw*p_q*Yn[temp1]*Ys[temp2]*al*(1-gn)*bn\n",
    "    for temp1 in range(maxn):\n",
    "        for temp2 in range(maxk):\n",
    "            zco2ec+=co2e*scc*dnk[temp1][temp2]*pw*p_q*Yn[temp1]*Yk[temp2]*al*gn\n",
    "    for temp1 in range(maxp):\n",
    "        for temp2 in range(maxj):\n",
    "            zco2ec+=co2e*scc*dpj[temp1][temp2]*pw*p_q*Yp[temp1]*Yj[temp2]*al*gp\n",
    "    for temp1 in range(maxr):\n",
    "        for temp2 in range(maxi):\n",
    "            zco2ec+=co2e*scc*dri[temp1][temp2]*pw*p_q*Yr[temp1]*Yi[temp2]*al*gr\n",
    "    #selling waste\n",
    "    zsw=scu*p_q*al*bs*(3-(gn+gp+gr))\n",
    "    #Social paramters\n",
    "    zfj=0\n",
    "    for i in range(maxi):\n",
    "        zfj+=fjj[i]*Yi[i]\n",
    "    for j in range(maxj):\n",
    "        zfj+=fjj[j]*Yj[j]\n",
    "    for k in range(maxk):\n",
    "        zfj+=fjn[k]*Yk[k]\n",
    "    for l in range(maxl):\n",
    "        zfj+=fjn[l]*Yl[l]\n",
    "    for m in range(maxm):\n",
    "        zfj+=fjn[m]*Ym[m]\n",
    "    for n in range(maxn):\n",
    "        zfj+=fjn[n]*Yn[n]\n",
    "    for p in range(maxp):\n",
    "        zfj+=fjp[p]*Yp[p]\n",
    "    for r in range(maxr):\n",
    "        zfj+=fjr[r]*Yr[r]\n",
    "    for s in range(maxs):\n",
    "        zfj+=fjs[s]*Ys[s]\n",
    "    zvj=0\n",
    "    for j in range(maxj):\n",
    "        zvj+=vjj[j]*p_q*fill_j/pj[j]\n",
    "    for k in range(maxk):\n",
    "        zvj+=vjn[k]*p_q*fill_k/pk[k]\n",
    "    for l in range(maxl):\n",
    "        zvj+=vjn[l]*p_q*fill_l/pl[l]\n",
    "    for m in range(maxm):\n",
    "        zvj+=vjn[m]*p_q*al/pm[m]\n",
    "    for n in range(maxn):\n",
    "        zvj+=vjn[n]*p_q*al*bn/pn[n]\n",
    "    for p in range(maxp):\n",
    "        zvj+=vjp[p]*p_q*al*bp/pp[p]\n",
    "    for r in range(maxr):\n",
    "        zvj+=vjr[r]*p_q*al*br/pr[r]\n",
    "    for s in range(maxs):\n",
    "        zvj+=vjs[s]*p_q*al*bs*(3-(gn+gp+gr))/ps[s]\n",
    "    z1=zfc+zpc+zmc+zinv+ztc-zscd-zscm-zscr+zco2ec-zsw\n",
    "    z2=zfj+zvj\n",
    "    return -z2"
   ]
  },
  {
   "cell_type": "code",
   "execution_count": 73,
   "metadata": {},
   "outputs": [],
   "source": [
    "# #Non dominated sorting\n",
    "# def NonDominatedSorting(pop):\n",
    "#     npop=len(pop)\n",
    "#     for i in range(npop):\n",
    "#         dominatedset=[]\n",
    "#         dominatedcount=0\n",
    "#     for i in range(npop):\n",
    "#         for j in range(i,npop):\n",
    "#             p=pop(i)\n",
    "#             q=pop(j)\n",
    "#             if \n",
    "\n"
   ]
  },
  {
   "cell_type": "code",
   "execution_count": 74,
   "metadata": {},
   "outputs": [],
   "source": [
    "# SEO Paramters\n",
    "maxit=150\n",
    "alpha=0.9\n",
    "betta=0.5\n",
    "num_c=50"
   ]
  },
  {
   "cell_type": "code",
   "execution_count": 75,
   "metadata": {},
   "outputs": [
    {
     "data": {
      "text/plain": [
       "\"{'Position': [], 'Cost1': [],'Cost2': [], 'Rank': [], 'DominationSet': [], 'DominatedCount': [], 'CrowdingDistance': []}\""
      ]
     },
     "execution_count": 75,
     "metadata": {},
     "output_type": "execute_result"
    }
   ],
   "source": [
    "# Initialization\n",
    "persons={'Position':[],'Cost1':[],'Cost2': []}\n",
    "'''{'Position': [], 'Cost1': [],'Cost2': [], 'Rank': [], 'DominationSet': [], 'DominatedCount': [], 'CrowdingDistance': []}'''"
   ]
  },
  {
   "cell_type": "code",
   "execution_count": 79,
   "metadata": {},
   "outputs": [
    {
     "ename": "ValueError",
     "evalue": "empty range for randrange() (1, -3, -4)",
     "output_type": "error",
     "traceback": [
      "\u001b[1;31m---------------------------------------------------------------------------\u001b[0m",
      "\u001b[1;31mValueError\u001b[0m                                Traceback (most recent call last)",
      "\u001b[1;32mf:\\Python files\\Practice\\MTech project\\MOSEO_parts.ipynb Cell 12\u001b[0m in \u001b[0;36m<module>\u001b[1;34m\u001b[0m\n\u001b[0;32m     <a href='vscode-notebook-cell:/f%3A/Python%20files/Practice/MTech%20project/MOSEO_parts.ipynb#X60sZmlsZQ%3D%3D?line=15'>16</a>\u001b[0m max_value \u001b[39m=\u001b[39m \u001b[39m300\u001b[39m\n\u001b[0;32m     <a href='vscode-notebook-cell:/f%3A/Python%20files/Practice/MTech%20project/MOSEO_parts.ipynb#X60sZmlsZQ%3D%3D?line=16'>17</a>\u001b[0m total_sum \u001b[39m=\u001b[39m \u001b[39m0\u001b[39m\n\u001b[1;32m---> <a href='vscode-notebook-cell:/f%3A/Python%20files/Practice/MTech%20project/MOSEO_parts.ipynb#X60sZmlsZQ%3D%3D?line=17'>18</a>\u001b[0m numbers \u001b[39m=\u001b[39m generate_numbers(min_value, max_value, total_sum)\n\u001b[0;32m     <a href='vscode-notebook-cell:/f%3A/Python%20files/Practice/MTech%20project/MOSEO_parts.ipynb#X60sZmlsZQ%3D%3D?line=18'>19</a>\u001b[0m \u001b[39mprint\u001b[39m(numbers)\n",
      "\u001b[1;32mf:\\Python files\\Practice\\MTech project\\MOSEO_parts.ipynb Cell 12\u001b[0m in \u001b[0;36mgenerate_numbers\u001b[1;34m(min_value, max_value, total_sum)\u001b[0m\n\u001b[0;32m      <a href='vscode-notebook-cell:/f%3A/Python%20files/Practice/MTech%20project/MOSEO_parts.ipynb#X60sZmlsZQ%3D%3D?line=6'>7</a>\u001b[0m min_val \u001b[39m=\u001b[39m \u001b[39mmax\u001b[39m(min_value, total_sum \u001b[39m-\u001b[39m max_value \u001b[39m*\u001b[39m (\u001b[39m4\u001b[39m \u001b[39m-\u001b[39m i))\n\u001b[0;32m      <a href='vscode-notebook-cell:/f%3A/Python%20files/Practice/MTech%20project/MOSEO_parts.ipynb#X60sZmlsZQ%3D%3D?line=7'>8</a>\u001b[0m max_val \u001b[39m=\u001b[39m \u001b[39mmin\u001b[39m(max_value, total_sum \u001b[39m-\u001b[39m min_value \u001b[39m*\u001b[39m (\u001b[39m4\u001b[39m \u001b[39m-\u001b[39m i))\n\u001b[1;32m----> <a href='vscode-notebook-cell:/f%3A/Python%20files/Practice/MTech%20project/MOSEO_parts.ipynb#X60sZmlsZQ%3D%3D?line=8'>9</a>\u001b[0m number \u001b[39m=\u001b[39m random\u001b[39m.\u001b[39;49mrandint(min_val, max_val)\n\u001b[0;32m     <a href='vscode-notebook-cell:/f%3A/Python%20files/Practice/MTech%20project/MOSEO_parts.ipynb#X60sZmlsZQ%3D%3D?line=9'>10</a>\u001b[0m a\u001b[39m.\u001b[39mappend(number)\n\u001b[0;32m     <a href='vscode-notebook-cell:/f%3A/Python%20files/Practice/MTech%20project/MOSEO_parts.ipynb#X60sZmlsZQ%3D%3D?line=10'>11</a>\u001b[0m total_sum \u001b[39m+\u001b[39m\u001b[39m=\u001b[39m number\n",
      "File \u001b[1;32mC:\\Program Files\\Python39\\lib\\random.py:338\u001b[0m, in \u001b[0;36mRandom.randint\u001b[1;34m(self, a, b)\u001b[0m\n\u001b[0;32m    334\u001b[0m \u001b[39mdef\u001b[39;00m \u001b[39mrandint\u001b[39m(\u001b[39mself\u001b[39m, a, b):\n\u001b[0;32m    335\u001b[0m     \u001b[39m\"\"\"Return random integer in range [a, b], including both end points.\u001b[39;00m\n\u001b[0;32m    336\u001b[0m \u001b[39m    \"\"\"\u001b[39;00m\n\u001b[1;32m--> 338\u001b[0m     \u001b[39mreturn\u001b[39;00m \u001b[39mself\u001b[39;49m\u001b[39m.\u001b[39;49mrandrange(a, b\u001b[39m+\u001b[39;49m\u001b[39m1\u001b[39;49m)\n",
      "File \u001b[1;32mC:\\Program Files\\Python39\\lib\\random.py:316\u001b[0m, in \u001b[0;36mRandom.randrange\u001b[1;34m(self, start, stop, step)\u001b[0m\n\u001b[0;32m    314\u001b[0m     \u001b[39mreturn\u001b[39;00m istart \u001b[39m+\u001b[39m \u001b[39mself\u001b[39m\u001b[39m.\u001b[39m_randbelow(width)\n\u001b[0;32m    315\u001b[0m \u001b[39mif\u001b[39;00m step \u001b[39m==\u001b[39m \u001b[39m1\u001b[39m:\n\u001b[1;32m--> 316\u001b[0m     \u001b[39mraise\u001b[39;00m \u001b[39mValueError\u001b[39;00m(\u001b[39m\"\u001b[39m\u001b[39mempty range for randrange() (\u001b[39m\u001b[39m%d\u001b[39;00m\u001b[39m, \u001b[39m\u001b[39m%d\u001b[39;00m\u001b[39m, \u001b[39m\u001b[39m%d\u001b[39;00m\u001b[39m)\u001b[39m\u001b[39m\"\u001b[39m \u001b[39m%\u001b[39m (istart, istop, width))\n\u001b[0;32m    318\u001b[0m \u001b[39m# Non-unit step argument supplied.\u001b[39;00m\n\u001b[0;32m    319\u001b[0m istep \u001b[39m=\u001b[39m \u001b[39mint\u001b[39m(step)\n",
      "\u001b[1;31mValueError\u001b[0m: empty range for randrange() (1, -3, -4)"
     ]
    }
   ],
   "source": [
    "import random\n",
    "\n",
    "def generate_numbers(min_value, max_value,total_sum):\n",
    "    total_sum=0\n",
    "    a = []\n",
    "    for i in range(4):\n",
    "        min_val = max(min_value, total_sum - max_value * (4 - i))\n",
    "        max_val = min(max_value, total_sum - min_value * (4 - i))\n",
    "        number = random.randint(min_val, max_val)\n",
    "        a.append(number)\n",
    "        total_sum += number\n",
    "    a.append(demand - total_sum)\n",
    "\n",
    "# Example usage:\n",
    "# min_value = 1\n",
    "# max_value = 300\n",
    "# total_sum = 0\n",
    "# numbers = generate_numbers(min_value, max_value, total_sum)\n",
    "# print(numbers)\n"
   ]
  },
  {
   "cell_type": "code",
   "execution_count": 99,
   "metadata": {},
   "outputs": [
    {
     "name": "stdout",
     "output_type": "stream",
     "text": [
      "Random numbers: [102, 87, 103, 107, 101]\n"
     ]
    }
   ],
   "source": [
    "import random\n",
    "\n",
    "def generate_random_numbers(min_val, max_val, total_sum, num_elements):\n",
    "    # Define an initial list of numbers with the minimum value\n",
    "    random_numbers = [min_val] * num_elements\n",
    "    # Subtract the total sum by the sum of the initial numbers\n",
    "    remaining_sum = total_sum - (min_val * num_elements)\n",
    "\n",
    "    # Randomly distribute the remaining sum to the numbers\n",
    "    for i in range(remaining_sum):\n",
    "        index = random.randint(0, num_elements - 1)\n",
    "        random_numbers[index] += 1\n",
    "\n",
    "    return random_numbers\n",
    "\n",
    "# Define the minimum and maximum limits for the random numbers\n",
    "min_val = 50\n",
    "max_val = 100\n",
    "\n",
    "# Define the target sum and number of elements\n",
    "total_sum = 500\n",
    "num_elements = 5\n",
    "\n",
    "# Generate random numbers that satisfy the criteria\n",
    "random_numbers = generate_random_numbers(min_val, max_val, total_sum, num_elements)\n",
    "\n",
    "# Print the result\n",
    "print(\"Random numbers:\", random_numbers)\n"
   ]
  },
  {
   "cell_type": "code",
   "execution_count": 128,
   "metadata": {},
   "outputs": [
    {
     "name": "stdout",
     "output_type": "stream",
     "text": [
      "Random numbers: [98, 101, 100, 111, 90]\n",
      "SUM 500\n"
     ]
    }
   ],
   "source": [
    "import random\n",
    "\n",
    "def generate_random_numbers(min_val, max_val, total_sum, num_elements):\n",
    "    # Calculate the minimum sum and maximum sum that can be achieved\n",
    "    min_sum = min_val * num_elements\n",
    "    max_sum = max_val * num_elements\n",
    "\n",
    "    # Check if the target sum is within the valid range\n",
    "    if total_sum < min_sum or total_sum > max_sum:\n",
    "        raise ValueError(f\"Invalid target sum. Must be between {min_sum} and {max_sum}.\")\n",
    "\n",
    "    # Define an initial list of numbers with the minimum value\n",
    "    random_numbers = [min_val] * num_elements\n",
    "    # Subtract the total sum by the sum of the initial numbers\n",
    "    remaining_sum = total_sum - (min_val * num_elements)\n",
    "\n",
    "    # Randomly distribute the remaining sum to the numbers\n",
    "    for i in range(remaining_sum):\n",
    "        index = random.randint(0, num_elements - 1)\n",
    "        # Increment the number at the randomly selected index by 1\n",
    "        # but don't exceed the maximum value\n",
    "        if random_numbers[index] < max_val:\n",
    "            random_numbers[index] += 1\n",
    "\n",
    "    return random_numbers\n",
    "\n",
    "# Define the minimum and maximum limits for the random numbers\n",
    "min_val = 50\n",
    "max_val = 150\n",
    "\n",
    "# Define the target sum and number of elements\n",
    "total_sum = 500\n",
    "num_elements = 5\n",
    "\n",
    "# Generate random numbers that satisfy the criteria\n",
    "random_numbers = generate_random_numbers(min_val, max_val, total_sum, num_elements)\n",
    "\n",
    "# Print the result\n",
    "print(\"Random numbers:\", random_numbers)\n",
    "print(\"SUM\",sum(random_numbers))\n"
   ]
  },
  {
   "cell_type": "code",
   "execution_count": 109,
   "metadata": {},
   "outputs": [
    {
     "name": "stdout",
     "output_type": "stream",
     "text": [
      "[110, 96, 104, 100, 90]\n"
     ]
    }
   ],
   "source": [
    "import random\n",
    "\n",
    "def generate_random_numbers(min_val, max_val, total_sum, num_elements):\n",
    "    if total_sum < num_elements * min_val or total_sum > num_elements * max_val:\n",
    "        raise ValueError(\"No valid solution exists with the given parameters.\")\n",
    "\n",
    "    remaining_sum = total_sum - num_elements * min_val\n",
    "    random_numbers = [min_val] * num_elements\n",
    "    for i in range(remaining_sum):\n",
    "        idx = random.randint(0, num_elements - 1)\n",
    "        if random_numbers[idx] < max_val:\n",
    "            random_numbers[idx] += 1\n",
    "\n",
    "    return random_numbers\n",
    "\n",
    "# Example usage:\n",
    "min_val = 50\n",
    "max_val = 150\n",
    "total_sum = 500\n",
    "num_elements = 5\n",
    "\n",
    "random_numbers = generate_random_numbers(min_val, max_val, total_sum, num_elements)\n",
    "print(random_numbers)\n"
   ]
  },
  {
   "cell_type": "code",
   "execution_count": 77,
   "metadata": {},
   "outputs": [
    {
     "ename": "ValueError",
     "evalue": "empty range for randrange() (50, -199, -249)",
     "output_type": "error",
     "traceback": [
      "\u001b[1;31m---------------------------------------------------------------------------\u001b[0m",
      "\u001b[1;31mValueError\u001b[0m                                Traceback (most recent call last)",
      "\u001b[1;32mf:\\Python files\\Practice\\MTech project\\MOSEO_parts.ipynb Cell 13\u001b[0m in \u001b[0;36m<module>\u001b[1;34m\u001b[0m\n\u001b[0;32m      <a href='vscode-notebook-cell:/f%3A/Python%20files/Practice/MTech%20project/MOSEO_parts.ipynb#X13sZmlsZQ%3D%3D?line=4'>5</a>\u001b[0m min_val \u001b[39m=\u001b[39m \u001b[39mmax\u001b[39m(varmin, total_sum \u001b[39m-\u001b[39m varmax \u001b[39m*\u001b[39m (nvar\u001b[39m-\u001b[39m\u001b[39m1\u001b[39m \u001b[39m-\u001b[39m i))\n\u001b[0;32m      <a href='vscode-notebook-cell:/f%3A/Python%20files/Practice/MTech%20project/MOSEO_parts.ipynb#X13sZmlsZQ%3D%3D?line=5'>6</a>\u001b[0m max_val \u001b[39m=\u001b[39m \u001b[39mmin\u001b[39m(varmax, total_sum \u001b[39m-\u001b[39m varmin \u001b[39m*\u001b[39m (nvar\u001b[39m-\u001b[39m\u001b[39m1\u001b[39m \u001b[39m-\u001b[39m i))\n\u001b[1;32m----> <a href='vscode-notebook-cell:/f%3A/Python%20files/Practice/MTech%20project/MOSEO_parts.ipynb#X13sZmlsZQ%3D%3D?line=6'>7</a>\u001b[0m number \u001b[39m=\u001b[39m random\u001b[39m.\u001b[39;49mrandint(min_val, max_val)\n\u001b[0;32m      <a href='vscode-notebook-cell:/f%3A/Python%20files/Practice/MTech%20project/MOSEO_parts.ipynb#X13sZmlsZQ%3D%3D?line=7'>8</a>\u001b[0m a\u001b[39m.\u001b[39mappend(number)\n\u001b[0;32m      <a href='vscode-notebook-cell:/f%3A/Python%20files/Practice/MTech%20project/MOSEO_parts.ipynb#X13sZmlsZQ%3D%3D?line=8'>9</a>\u001b[0m total_sum \u001b[39m+\u001b[39m\u001b[39m=\u001b[39m number\n",
      "File \u001b[1;32mC:\\Program Files\\Python39\\lib\\random.py:338\u001b[0m, in \u001b[0;36mRandom.randint\u001b[1;34m(self, a, b)\u001b[0m\n\u001b[0;32m    334\u001b[0m \u001b[39mdef\u001b[39;00m \u001b[39mrandint\u001b[39m(\u001b[39mself\u001b[39m, a, b):\n\u001b[0;32m    335\u001b[0m     \u001b[39m\"\"\"Return random integer in range [a, b], including both end points.\u001b[39;00m\n\u001b[0;32m    336\u001b[0m \u001b[39m    \"\"\"\u001b[39;00m\n\u001b[1;32m--> 338\u001b[0m     \u001b[39mreturn\u001b[39;00m \u001b[39mself\u001b[39;49m\u001b[39m.\u001b[39;49mrandrange(a, b\u001b[39m+\u001b[39;49m\u001b[39m1\u001b[39;49m)\n",
      "File \u001b[1;32mC:\\Program Files\\Python39\\lib\\random.py:316\u001b[0m, in \u001b[0;36mRandom.randrange\u001b[1;34m(self, start, stop, step)\u001b[0m\n\u001b[0;32m    314\u001b[0m     \u001b[39mreturn\u001b[39;00m istart \u001b[39m+\u001b[39m \u001b[39mself\u001b[39m\u001b[39m.\u001b[39m_randbelow(width)\n\u001b[0;32m    315\u001b[0m \u001b[39mif\u001b[39;00m step \u001b[39m==\u001b[39m \u001b[39m1\u001b[39m:\n\u001b[1;32m--> 316\u001b[0m     \u001b[39mraise\u001b[39;00m \u001b[39mValueError\u001b[39;00m(\u001b[39m\"\u001b[39m\u001b[39mempty range for randrange() (\u001b[39m\u001b[39m%d\u001b[39;00m\u001b[39m, \u001b[39m\u001b[39m%d\u001b[39;00m\u001b[39m, \u001b[39m\u001b[39m%d\u001b[39;00m\u001b[39m)\u001b[39m\u001b[39m\"\u001b[39m \u001b[39m%\u001b[39m (istart, istop, width))\n\u001b[0;32m    318\u001b[0m \u001b[39m# Non-unit step argument supplied.\u001b[39;00m\n\u001b[0;32m    319\u001b[0m istep \u001b[39m=\u001b[39m \u001b[39mint\u001b[39m(step)\n",
      "\u001b[1;31mValueError\u001b[0m: empty range for randrange() (50, -199, -249)"
     ]
    }
   ],
   "source": [
    "for i in range(2):\n",
    "    total_sum=0\n",
    "    a = []\n",
    "    for i in range(nvar-1):\n",
    "        min_val = max(varmin, total_sum - varmax * (nvar-1 - i))\n",
    "        max_val = min(varmax, total_sum - varmin * (nvar-1 - i))\n",
    "        number = random.randint(min_val, max_val)\n",
    "        a.append(number)\n",
    "        total_sum += number\n",
    "    a.append(demand - total_sum)\n",
    "    ##persons['Cost'].append(calc_objective(temp))\n",
    "    persons['Position'].append(a)\n",
    "    persons['Cost1'].append(calc_objective1(a))\n",
    "    persons['Cost2'].append(calc_objective2(a))\n",
    "persons_df=pd.DataFrame(persons)\n",
    "print(persons_df)"
   ]
  },
  {
   "cell_type": "code",
   "execution_count": null,
   "metadata": {},
   "outputs": [],
   "source": [
    "gamma=round(nvar*alpha)\n",
    "#tetta=np.zeros((nobj,gamma),dtype=np.int32)\n",
    "#sigma=0.1*varmax\n",
    "# bestsol_index=attacker_index\n",
    "# bestcost1=np.zeros((maxit,1),dtype=np.int64)\n",
    "# bestcost2=np.zeros((maxit,1),dtype=np.int64)\n",
    "# paretocost=np.zeros((maxit,1),dtype=np.int64)"
   ]
  },
  {
   "cell_type": "code",
   "execution_count": null,
   "metadata": {},
   "outputs": [],
   "source": [
    "#connect functions\n",
    "def connect_1(a_index,d_index,betta,varmin,varmax):\n",
    "    a=random.random()\n",
    "    b=np.sin(betta)*a\n",
    "    y=[]\n",
    "    x1=persons_df.iloc[a_index,0]\n",
    "    x2=persons_df.iloc[d_index,0]\n",
    "    for i in range(len(x1)):\n",
    "        c=x1[i]*((1-b)+((x1[i]+x2[i])/2)*b)\n",
    "        #print(c)\n",
    "        z=max(c,varmin)\n",
    "        z=min(z,varmax)\n",
    "        y.append(z)\n",
    "    return y\n",
    "def connect_2(a_index,d_index,betta,varmin,varmax):\n",
    "    a=random.random()\n",
    "    b=np.sin(betta)*a\n",
    "    bb=np.cos(betta)*a\n",
    "    x1=persons_df.iloc[a_index,0]\n",
    "    x2=persons_df.iloc[d_index,0]\n",
    "    y1=[]\n",
    "    y2=[]\n",
    "    for i in range(len(x1)):\n",
    "        c=x1[i]*((1-b)+((x1[i]+x2[i])/2)*b)\n",
    "        cc=x2[i]*((1-bb)+((x1[i]+x2[i])/2)*bb)\n",
    "        #print(c)\n",
    "        z=max(c,varmin)\n",
    "        z=min(z,varmax)\n",
    "        y1.append(z)\n",
    "        z=max(cc,varmin)\n",
    "        z=min(z,varmax)\n",
    "        y2.append(z)\n",
    "    return [y1,y2]\n",
    "def connect_3(a_index,d_index,betta,varmin,varmax):\n",
    "    a=random.random()\n",
    "    b=np.sin(betta)*a\n",
    "    bb=np.cos(betta)*a\n",
    "    x1=persons_df.iloc[a_index,0]\n",
    "    x2=persons_df.iloc[d_index,0]\n",
    "    y=[]\n",
    "    for i in range(len(x1)):\n",
    "        c=x2[i]*((1-b)+((x1[i]*bb*(x1[i]+x2[i])/2))*b)\n",
    "        #print(c)\n",
    "        z=max(c,varmin)\n",
    "        z=min(z,varmax)\n",
    "        y.append(z)\n",
    "    return y \n",
    "def connect_4(a_index,d_index,betta,varmin,varmax):\n",
    "    a=random.random()\n",
    "    b=np.sin(betta)*a\n",
    "    bb=np.cos(betta)*a\n",
    "    x1=persons_df.iloc[a_index,0]\n",
    "    x2=persons_df.iloc[d_index,0]\n",
    "    y=[]\n",
    "    for i in range(len(x1)):\n",
    "        c=x2[i]*bb*b+(((x2[i]*bb+x1[i])/2)*b)\n",
    "        #print(c)\n",
    "        z=max(c,varmin)\n",
    "        z=min(z,varmax)\n",
    "        y.append(z)\n",
    "    return y"
   ]
  },
  {
   "cell_type": "code",
   "execution_count": null,
   "metadata": {},
   "outputs": [
    {
     "data": {
      "text/plain": [
       "0.19866933079506122"
      ]
     },
     "execution_count": 20,
     "metadata": {},
     "output_type": "execute_result"
    }
   ],
   "source": [
    "np.sin(0.2)"
   ]
  },
  {
   "cell_type": "code",
   "execution_count": null,
   "metadata": {},
   "outputs": [
    {
     "name": "stdout",
     "output_type": "stream",
     "text": [
      "1 0\n"
     ]
    }
   ],
   "source": [
    "# # attacker_index=[x for x in range(2) if persons_df['Cost1'].iloc[x]<=persons_df['Cost2'].iloc[x]]\n",
    "for i in range(2):\n",
    "    for j in range(2):\n",
    "        if i==j:\n",
    "            continue\n",
    "        if persons_df.iloc[i,1]<=persons_df.iloc[j,1]:\n",
    "            attacker_index=i\n",
    "        else:\n",
    "            attacker_index=j\n",
    "if attacker_index==0:\n",
    "    defender_index=1\n",
    "else:\n",
    "    defender_index=0\n",
    "print(attacker_index,defender_index)"
   ]
  },
  {
   "cell_type": "code",
   "execution_count": null,
   "metadata": {},
   "outputs": [
    {
     "data": {
      "text/plain": [
       "[476, 15, 6, 2, 1]"
      ]
     },
     "execution_count": 22,
     "metadata": {},
     "output_type": "execute_result"
    }
   ],
   "source": [
    "persons_df.iloc[attacker_index,0]"
   ]
  },
  {
   "cell_type": "code",
   "execution_count": null,
   "metadata": {},
   "outputs": [
    {
     "data": {
      "text/plain": [
       "[284, 120, 61, 5, 30]"
      ]
     },
     "execution_count": 23,
     "metadata": {},
     "output_type": "execute_result"
    }
   ],
   "source": [
    "persons_df.iloc[defender_index,0]"
   ]
  },
  {
   "cell_type": "code",
   "execution_count": null,
   "metadata": {},
   "outputs": [
    {
     "name": "stdout",
     "output_type": "stream",
     "text": [
      "[[476, 15, 6, 2, 1]] [[284, 120, 61, 5, 30]]\n"
     ]
    }
   ],
   "source": [
    "att_lst1=[]\n",
    "def_lst1=[]\n",
    "a=copy.deepcopy(persons_df.iloc[attacker_index,0])\n",
    "att_lst1.append(a)\n",
    "a=copy.deepcopy(persons_df.iloc[defender_index,0])\n",
    "def_lst1.append(a)\n",
    "print(att_lst1,def_lst1)"
   ]
  },
  {
   "cell_type": "code",
   "execution_count": null,
   "metadata": {},
   "outputs": [
    {
     "name": "stdout",
     "output_type": "stream",
     "text": [
      "Iteration no.  2\n",
      "Iteration no.  3\n",
      "Iteration no.  4\n",
      "Iteration no.  5\n",
      "Iteration no.  6\n",
      "Iteration no.  7\n",
      "Iteration no.  8\n",
      "Iteration no.  9\n",
      "Iteration no.  10\n",
      "Iteration no.  11\n",
      "Iteration no.  12\n",
      "Iteration no.  13\n",
      "Iteration no.  14\n",
      "Iteration no.  15\n",
      "Iteration no.  16\n",
      "Iteration no.  17\n",
      "Iteration no.  18\n",
      "Iteration no.  19\n",
      "Iteration no.  20\n",
      "Iteration no.  21\n",
      "Iteration no.  22\n",
      "Iteration no.  23\n",
      "Iteration no.  24\n",
      "Iteration no.  25\n",
      "Iteration no.  26\n",
      "Iteration no.  27\n",
      "Iteration no.  28\n",
      "Iteration no.  29\n",
      "Iteration no.  30\n",
      "Iteration no.  31\n",
      "Iteration no.  32\n",
      "Iteration no.  33\n",
      "Iteration no.  34\n",
      "Iteration no.  35\n",
      "Iteration no.  36\n",
      "Iteration no.  37\n",
      "Iteration no.  38\n",
      "Iteration no.  39\n",
      "Iteration no.  40\n",
      "Iteration no.  41\n",
      "Iteration no.  42\n",
      "Iteration no.  43\n",
      "Iteration no.  44\n",
      "Iteration no.  45\n",
      "Iteration no.  46\n",
      "Iteration no.  47\n",
      "Iteration no.  48\n",
      "Iteration no.  49\n",
      "Iteration no.  50\n",
      "Iteration no.  51\n",
      "Iteration no.  52\n",
      "Iteration no.  53\n",
      "Iteration no.  54\n",
      "Iteration no.  55\n",
      "Iteration no.  56\n",
      "Iteration no.  57\n",
      "Iteration no.  58\n",
      "Iteration no.  59\n",
      "Iteration no.  60\n",
      "Iteration no.  61\n",
      "Iteration no.  62\n",
      "Iteration no.  63\n",
      "Iteration no.  64\n",
      "Iteration no.  65\n",
      "Iteration no.  66\n",
      "Iteration no.  67\n",
      "Iteration no.  68\n",
      "Iteration no.  69\n",
      "Iteration no.  70\n",
      "Iteration no.  71\n",
      "Iteration no.  72\n",
      "Iteration no.  73\n",
      "Iteration no.  74\n",
      "Iteration no.  75\n",
      "Iteration no.  76\n",
      "Iteration no.  77\n",
      "Iteration no.  78\n",
      "Iteration no.  79\n",
      "Iteration no.  80\n",
      "Iteration no.  81\n",
      "Iteration no.  82\n",
      "Iteration no.  83\n",
      "Iteration no.  84\n",
      "Iteration no.  85\n",
      "Iteration no.  86\n",
      "Iteration no.  87\n",
      "Iteration no.  88\n",
      "Iteration no.  89\n",
      "Iteration no.  90\n",
      "Iteration no.  91\n",
      "Iteration no.  92\n",
      "Iteration no.  93\n",
      "Iteration no.  94\n",
      "Iteration no.  95\n",
      "Iteration no.  96\n",
      "Iteration no.  97\n",
      "Iteration no.  98\n",
      "Iteration no.  99\n",
      "Iteration no.  100\n",
      "Iteration no.  101\n",
      "Iteration no.  102\n",
      "Iteration no.  103\n",
      "Iteration no.  104\n",
      "Iteration no.  105\n",
      "Iteration no.  106\n",
      "Iteration no.  107\n",
      "Iteration no.  108\n",
      "Iteration no.  109\n",
      "Iteration no.  110\n",
      "Iteration no.  111\n",
      "Iteration no.  112\n",
      "Iteration no.  113\n",
      "Iteration no.  114\n",
      "Iteration no.  115\n",
      "Iteration no.  116\n",
      "Iteration no.  117\n",
      "Iteration no.  118\n",
      "Iteration no.  119\n",
      "Iteration no.  120\n",
      "Iteration no.  121\n",
      "Iteration no.  122\n",
      "Iteration no.  123\n",
      "Iteration no.  124\n",
      "Iteration no.  125\n",
      "Iteration no.  126\n",
      "Iteration no.  127\n",
      "Iteration no.  128\n",
      "Iteration no.  129\n",
      "Iteration no.  130\n",
      "Iteration no.  131\n",
      "Iteration no.  132\n",
      "Iteration no.  133\n",
      "Iteration no.  134\n",
      "Iteration no.  135\n",
      "Iteration no.  136\n",
      "Iteration no.  137\n",
      "Iteration no.  138\n",
      "Iteration no.  139\n",
      "Iteration no.  140\n",
      "Iteration no.  141\n",
      "Iteration no.  142\n",
      "Iteration no.  143\n",
      "Iteration no.  144\n",
      "Iteration no.  145\n",
      "Iteration no.  146\n",
      "Iteration no.  147\n",
      "Iteration no.  148\n",
      "Iteration no.  149\n",
      "Iteration no.  150\n"
     ]
    }
   ],
   "source": [
    "# SEO main loop\n",
    "paretoposition=[]\n",
    "paretocost1=[]\n",
    "paretocost2=[]\n",
    "sno=[]\n",
    "att_lst=[]\n",
    "def_lst=[]\n",
    "for it in range(2,maxit+1):\n",
    "    a=copy.deepcopy(persons_df.iloc[attacker_index,0])\n",
    "    att_lst.append(a)\n",
    "    a=copy.deepcopy(persons_df.iloc[defender_index,0])\n",
    "    def_lst.append(a)\n",
    "    new_defender=persons_df.iloc[defender_index,0]\n",
    "    # print(new_defender)\n",
    "    # print(persons_df.iloc[defender_index,0])\n",
    "    for i in range(gamma):\n",
    "        temp=np.random.randint(0,nvar)\n",
    "        new_defender[temp]=persons_df.iloc[attacker_index,0][temp]\n",
    "        #print(new_defender[temp])\n",
    "        # curr_def_cost1=calc_objective1(curr_defender)\n",
    "        # curr_def_cost2=calc_objective2(curr_defender)\n",
    "        #Calc cost\n",
    "    #     for j in range(nobj):\n",
    "    #         tetta[j][i]= \n",
    "    #         #current ddefender cost - calc cost of trained defender\n",
    "    #     tetta[0][i]+=tetta[1][i]\n",
    "    # [value,index]=[max(tetta[0]),tetta[0].index(max(tetta[0]))]\n",
    "    # print(new_defender)\n",
    "    if  calc_objective1(new_defender)<=calc_objective1(persons_df.iloc[defender_index,0]) or calc_objective2(new_defender)<=calc_objective2(persons_df.iloc[defender_index,0]):\n",
    "        #### persons_df.iloc[defender_index,0]=new_defender\n",
    "        for xyz in range(nvar):\n",
    "            persons_df.iloc[defender_index,0][xyz]=new_defender[xyz]\n",
    "    # Spotting a attack\n",
    "    for j in range(num_c):\n",
    "        temp=random.randint(1,5)\n",
    "        if temp==1:\n",
    "            new_defender=connect_1(attacker_index,defender_index,betta,varmin,varmax)\n",
    "        elif temp==2:\n",
    "            [new_defender1,new_defender2]=connect_2(attacker_index,defender_index,betta,varmin,varmax)\n",
    "            if  calc_objective1(new_defender1)<=calc_objective1(new_defender2) or calc_objective2(new_defender1)<=calc_objective2(new_defender2):\n",
    "                new_defender=new_defender1\n",
    "                #persons_df['Position'].iloc[defender_index]=\n",
    "            #calculate cost of both new defenders then take best out of it\n",
    "            else:\n",
    "                new_defender=new_defender2\n",
    "        elif temp==3:\n",
    "            new_defender=connect_3(attacker_index,defender_index,betta,varmin,varmax)\n",
    "        else:\n",
    "            new_defender=connect_4(attacker_index,defender_index,betta,varmin,varmax)\n",
    "    # Responding to  SE attack\n",
    "    if calc_objective1(new_defender)<=calc_objective1(persons_df.iloc[defender_index,0]) or calc_objective2(new_defender) <= calc_objective2(persons_df.iloc[defender_index,0]):\n",
    "        if calc_objective1(new_defender)<=calc_objective1(persons_df.iloc[attacker_index,0]) or calc_objective2(new_defender) <= calc_objective2(persons_df.iloc[attacker_index,0]):\n",
    "            ### persons_df.iloc[attacker_index,0]=new_defender\n",
    "            for xyz in range(nvar):\n",
    "                persons_df.iloc[attacker_index,0][xyz]=new_defender[xyz]\n",
    "        else:\n",
    "            ### persons_df.iloc[defender_index,0]=new_defender\n",
    "            for xyz in range(nvar):\n",
    "                persons_df.iloc[defender_index,0][xyz]=new_defender[xyz]\n",
    "    # elif <= or <=:\n",
    "    #     ParetoCost(it)=new_defender #check can be combined with above\n",
    "    elif calc_objective1(new_defender)>=calc_objective1(persons_df.iloc[defender_index,0]) or calc_objective2(new_defender) >= calc_objective2(persons_df.iloc[defender_index,0]):\n",
    "        if calc_objective1(persons_df.iloc[defender_index,0])<=calc_objective1(persons_df.iloc[attacker_index,0]) or calc_objective2(persons_df.iloc[defender_index,0]) <= calc_objective2(persons_df.iloc[attacker_index,0]):\n",
    "            ### persons_df.iloc[attacker_index,0]=persons_df.iloc[defender_index,0]\n",
    "            for xyz in range(nvar):\n",
    "                persons_df.iloc[attacker_index,0][xyz]=persons_df.iloc[defender_index,0][xyz]\n",
    "    else:\n",
    "        print(\"ERROR\")\n",
    "    \n",
    "    att=copy.deepcopy(persons_df.iloc[attacker_index,0])\n",
    "    paretoposition.append(att)\n",
    "    paretocost=calc_objective1(persons_df.iloc[attacker_index,0])\n",
    "    paretocost1.append(paretocost)\n",
    "    paretocost=calc_objective2(persons_df.iloc[attacker_index,0])\n",
    "    paretocost2.append(paretocost)\n",
    "    print(\"Iteration no. \",it)\n",
    "    sno.append(it)\n",
    "    # new random defender\n",
    "bestcost1=min(paretocost1)\n",
    "bestcost2=min(paretocost2)\n",
    "# print(bestcost1,bestcost2)"
   ]
  },
  {
   "cell_type": "code",
   "execution_count": null,
   "metadata": {},
   "outputs": [
    {
     "data": {
      "image/png": "[encoded data removed]",
      "text/plain": [
       "<Figure size 432x288 with 1 Axes>"
      ]
     },
     "metadata": {
      "needs_background": "light"
     },
     "output_type": "display_data"
    }
   ],
   "source": [
    "temp=[]\n",
    "for i in paretoposition:\n",
    "    temp.append(np.average(i))\n",
    "plt.scatter(sno,temp)\n",
    "plt.show()"
   ]
  },
  {
   "cell_type": "code",
   "execution_count": null,
   "metadata": {},
   "outputs": [
    {
     "data": {
      "image/png": "[encoded data removed]",
      "text/plain": [
       "<Figure size 432x288 with 1 Axes>"
      ]
     },
     "metadata": {
      "needs_background": "light"
     },
     "output_type": "display_data"
    }
   ],
   "source": [
    "plt.scatter(sno,paretocost1)\n",
    "plt.show()"
   ]
  },
  {
   "cell_type": "code",
   "execution_count": null,
   "metadata": {},
   "outputs": [
    {
     "data": {
      "image/png": "[encoded data removed]",
      "text/plain": [
       "<Figure size 432x288 with 1 Axes>"
      ]
     },
     "metadata": {
      "needs_background": "light"
     },
     "output_type": "display_data"
    }
   ],
   "source": [
    "temp=[]\n",
    "for i in paretocost2:\n",
    "    temp.append(abs(i))\n",
    "plt.scatter(sno,temp)\n",
    "plt.show()"
   ]
  },
  {
   "cell_type": "code",
   "execution_count": null,
   "metadata": {},
   "outputs": [
    {
     "data": {
      "image/png": "[encoded data removed]",
      "text/plain": [
       "<Figure size 432x288 with 1 Axes>"
      ]
     },
     "metadata": {
      "needs_background": "light"
     },
     "output_type": "display_data"
    }
   ],
   "source": [
    "plt.scatter(paretocost1,paretocost2)\n",
    "plt.show()"
   ]
  },
  {
   "cell_type": "code",
   "execution_count": null,
   "metadata": {},
   "outputs": [],
   "source": [
    "#print(att_lst)"
   ]
  },
  {
   "cell_type": "code",
   "execution_count": null,
   "metadata": {},
   "outputs": [],
   "source": [
    "#print(def_lst)"
   ]
  },
  {
   "cell_type": "code",
   "execution_count": null,
   "metadata": {},
   "outputs": [
    {
     "data": {
      "text/plain": [
       "[150, 150, 150, 150, 150]"
      ]
     },
     "execution_count": 32,
     "metadata": {},
     "output_type": "execute_result"
    }
   ],
   "source": [
    "persons_df.iloc[attacker_index,0]"
   ]
  },
  {
   "cell_type": "code",
   "execution_count": null,
   "metadata": {},
   "outputs": [],
   "source": [
    "#persons_df['Position'].iloc[attacker_index]=1"
   ]
  },
  {
   "cell_type": "code",
   "execution_count": null,
   "metadata": {},
   "outputs": [],
   "source": [
    "# a=[1,2,3,4,5]\n",
    "# for i in range(len(a)):\n",
    "#     persons_df.iloc[attacker_index,0][i]=a[i]"
   ]
  },
  {
   "cell_type": "code",
   "execution_count": null,
   "metadata": {},
   "outputs": [],
   "source": [
    "#persons_df.iloc[attacker_index,0]=persons_df.iloc[defender_index,0]"
   ]
  },
  {
   "cell_type": "code",
   "execution_count": null,
   "metadata": {},
   "outputs": [
    {
     "data": {
      "text/plain": [
       "[150, 150, 150, 150, 150]"
      ]
     },
     "execution_count": 36,
     "metadata": {},
     "output_type": "execute_result"
    }
   ],
   "source": [
    "persons_df.iloc[attacker_index,0]"
   ]
  },
  {
   "cell_type": "code",
   "execution_count": null,
   "metadata": {},
   "outputs": [
    {
     "data": {
      "text/plain": [
       "[50, 50, 50, 150, 150]"
      ]
     },
     "execution_count": 37,
     "metadata": {},
     "output_type": "execute_result"
    }
   ],
   "source": [
    "persons_df.iloc[defender_index,0]"
   ]
  },
  {
   "cell_type": "code",
   "execution_count": null,
   "metadata": {},
   "outputs": [],
   "source": [
    "# persons_df.to_csv(\"F:\\Downloads\\projexport.csv\")"
   ]
  },
  {
   "cell_type": "code",
   "execution_count": null,
   "metadata": {},
   "outputs": [],
   "source": [
    "# for j in range(10):\n",
    "#     temp=round(random.uniform(1,4))\n",
    "#     if temp==1:\n",
    "#         print(temp,\"one\")\n",
    "#     elif temp==2:\n",
    "#         print(temp)\n",
    "#     elif temp==3:\n",
    "#         print(temp)\n",
    "#     else:\n",
    "#         print(temp)"
   ]
  },
  {
   "cell_type": "code",
   "execution_count": null,
   "metadata": {},
   "outputs": [
    {
     "data": {
      "text/plain": [
       "150"
      ]
     },
     "execution_count": 40,
     "metadata": {},
     "output_type": "execute_result"
    }
   ],
   "source": [
    "persons_df['Position'].iloc[1][0]"
   ]
  },
  {
   "cell_type": "code",
   "execution_count": null,
   "metadata": {},
   "outputs": [],
   "source": [
    "# a=[[0, 0, 0, 0, 0, 0, 0],[1,1,1,1,1,1,1]]\n",
    "# # for i in range(1):\n",
    "# #     print(sum(a[:][i]))\n",
    "# a[0][i]+=a[1][i]\n",
    "# print(a)\n",
    "# [value,index]=[max(a[0]),a[0].index(max(a[0]))]\n",
    "# print(value)\n"
   ]
  },
  {
   "cell_type": "code",
   "execution_count": null,
   "metadata": {},
   "outputs": [],
   "source": [
    "# print(tetta*2)"
   ]
  },
  {
   "cell_type": "code",
   "execution_count": null,
   "metadata": {},
   "outputs": [],
   "source": [
    "# a=np.ones(5,dtype=np.int16)\n",
    "# a[1]*a[2]\n"
   ]
  },
  {
   "cell_type": "code",
   "execution_count": null,
   "metadata": {},
   "outputs": [],
   "source": [
    "# a=max([2,3,4],5)\n",
    "# a"
   ]
  },
  {
   "cell_type": "code",
   "execution_count": null,
   "metadata": {},
   "outputs": [
    {
     "name": "stdout",
     "output_type": "stream",
     "text": [
      "0.13436424411240122 0.10525112810500004\n",
      "0.357301148400125\n",
      "2\n",
      "2\n",
      "0.304675584347625\n",
      "2\n",
      "2\n",
      "0.25205002029512497\n",
      "2\n",
      "2\n",
      "0.19942445624262495\n",
      "2\n",
      "2\n",
      "0.81985342490525\n",
      "2\n",
      "2\n",
      "0.71460229680025\n",
      "2\n",
      "2\n",
      "0.60935116869525\n",
      "2\n",
      "2\n",
      "0.5041000405902499\n",
      "2\n",
      "2\n",
      "1.3876568295153748\n",
      "2\n",
      "2\n",
      "1.229780137357875\n",
      "2\n",
      "2\n",
      "1.071903445200375\n",
      "2\n",
      "2\n",
      "0.914026753042875\n",
      "2\n",
      "2\n",
      "2.0607113622305\n",
      "2.0607113622305\n",
      "2.0607113622305\n",
      "1.8502091060205\n",
      "2\n",
      "2\n",
      "1.6397068498105\n",
      "2\n",
      "2\n",
      "1.4292045936005\n",
      "2\n",
      "2\n"
     ]
    }
   ],
   "source": [
    "x1=[1,2,3,4]\n",
    "x2=[4,3,2,1]\n",
    "random.seed(1)\n",
    "a=random.random()\n",
    "b=np.sin(0.9)*a\n",
    "print(a,b)\n",
    "y=[]\n",
    "varmax=3\n",
    "varmin=2\n",
    "for i in x1:\n",
    "    for j in x2:\n",
    "        c=i*((1-b)+(i+j)/2)*b\n",
    "        print(c)\n",
    "        z=max(c,varmin)\n",
    "        print(z)\n",
    "        z=min(z,varmax)\n",
    "        print(z)\n",
    "        y.append(z)"
   ]
  },
  {
   "cell_type": "code",
   "execution_count": null,
   "metadata": {},
   "outputs": [
    {
     "name": "stdout",
     "output_type": "stream",
     "text": [
      "[2, 2, 2, 2, 2, 2, 2, 2, 2, 2, 2, 2, 2.0607113622305, 2, 2, 2]\n"
     ]
    }
   ],
   "source": [
    "print(y)"
   ]
  },
  {
   "cell_type": "code",
   "execution_count": null,
   "metadata": {},
   "outputs": [
    {
     "data": {
      "text/plain": [
       "2"
      ]
     },
     "execution_count": 47,
     "metadata": {},
     "output_type": "execute_result"
    }
   ],
   "source": [
    "max(0.357301148400125,2)"
   ]
  }
 ],
 "metadata": {
  "kernelspec": {
   "display_name": "myenv",
   "language": "python",
   "name": "python3"
  },
  "language_info": {
   "codemirror_mode": {
    "name": "ipython",
    "version": 3
   },
   "file_extension": ".py",
   "mimetype": "text/x-python",
   "name": "python",
   "nbconvert_exporter": "python",
   "pygments_lexer": "ipython3",
   "version": "3.9.10"
  },
  "orig_nbformat": 4,
  "vscode": {
   "interpreter": {
    "hash": "0a817508bf620584500b051b7a05f83321e0518b7353592b64b66dada2243bb7"
   }
  }
 },
 "nbformat": 4,
 "nbformat_minor": 2
}
