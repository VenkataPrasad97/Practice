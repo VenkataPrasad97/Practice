{
 "cells": [
  {
   "cell_type": "code",
   "execution_count": 575,
   "metadata": {},
   "outputs": [],
   "source": [
    "import random\n",
    "import numpy as np\n",
    "import pandas as pd\n",
    "import matplotlib.pyplot as plt\n",
    "import copy\n",
    "#random.seed(4)\n",
    "#according to fillrate calc other transport qty"
   ]
  },
  {
   "cell_type": "code",
   "execution_count": 576,
   "metadata": {},
   "outputs": [],
   "source": [
    "# Problem paramters\n",
    "I=4\n",
    "J=4\n",
    "K=4\n",
    "L=4\n",
    "M=4\n",
    "N=4\n",
    "P=4\n",
    "R=4\n",
    "S=4\n",
    "nvar=5\n",
    "nobj=2\n",
    "varmax=150\n",
    "varmin=100\n",
    "#check"
   ]
  },
  {
   "cell_type": "code",
   "execution_count": 577,
   "metadata": {},
   "outputs": [
    {
     "data": {
      "text/plain": [
       "array([148, 101, 140, 140, 129])"
      ]
     },
     "execution_count": 577,
     "metadata": {},
     "output_type": "execute_result"
    }
   ],
   "source": [
    "a=np.random.randint(100,150,size=5)\n",
    "a"
   ]
  },
  {
   "cell_type": "code",
   "execution_count": 578,
   "metadata": {},
   "outputs": [],
   "source": [
    "#parameters\n",
    "pci=np.random.randint(100,150,size=I)\n",
    "#fixed cost\n",
    "fcj=np.random.randint(10000,150000,size=J)\n",
    "fck=np.random.randint(5000,10000,size=K)\n",
    "fcl=np.random.randint(5000,10000,size=L)\n",
    "fcm=np.random.randint(5000,10000,size=M)\n",
    "fcn=np.random.randint(5000,10000,size=N)\n",
    "fcp=np.random.randint(5000,10000,size=P)\n",
    "fcr=np.random.randint(5000,10000,size=R)\n",
    "fcs=np.random.randint(5000,10000,size=S)\n",
    "#fill rate assumption\n",
    "fill_j=1\n",
    "fill_k=0.99\n",
    "fill_l=0.95\n",
    "#variable cost (manufacturing cost)\n",
    "mcj=np.random.randint(10,150,size=J)\n",
    "#Inventory cost\n",
    "invj=np.random.randint(10,15,size=J)\n",
    "invk=np.random.randint(15,25,size=K)\n",
    "invl=np.random.randint(20,50,size=L)\n",
    "invm=np.random.randint(20,50,size=M)\n",
    "invn=np.random.randint(20,50,size=N)\n",
    "invp=np.random.randint(20,50,size=P)\n",
    "invr=np.random.randint(15,25,size=R)\n",
    "invs=np.random.randint(10,15,size=S)\n",
    "#Transportation cost\n",
    "tcij=np.random.randint(10,15,size=(I,J))\n",
    "tcjk=np.random.randint(10,15,size=(J,K))\n",
    "tckl=np.random.randint(10,15,size=(K,L))\n",
    "tclm=np.random.randint(10,15,size=(L,M))\n",
    "tcmn=np.random.randint(10,15,size=(M,N))\n",
    "tcmp=np.random.randint(10,15,size=(M,P))\n",
    "tcmr=np.random.randint(10,15,size=(M,R))\n",
    "tcms=np.random.randint(10,15,size=(M,S))\n",
    "tcns=np.random.randint(10,15,size=(N,S))\n",
    "tcps=np.random.randint(10,15,size=(P,S))\n",
    "tcrs=np.random.randint(10,15,size=(R,S))\n",
    "tcri=np.random.randint(10,15,size=(R,I))\n",
    "tcpj=np.random.randint(10,15,size=(P,J))\n",
    "tcnk=np.random.randint(10,15,size=(N,K))\n",
    "#Time present in the inventory\n",
    "invtj=np.random.randint(10,15,size=J)\n",
    "invtk=np.random.randint(15,25,size=K)\n",
    "invtl=np.random.randint(20,50,size=L)\n",
    "invtm=np.random.randint(20,50,size=M)\n",
    "invtn=np.random.randint(20,50,size=N)\n",
    "invtp=np.random.randint(20,50,size=P)\n",
    "invtr=np.random.randint(15,25,size=R)\n",
    "invts=np.random.randint(10,15,size=S)\n",
    "#Fixed job oppurtunities\n",
    "fjj=np.random.randint(500,1000,size=J)\n",
    "fjk=np.random.randint(100,150,size=K)\n",
    "fjl=np.random.randint(100,150,size=L)\n",
    "fjm=np.random.randint(100,150,size=M)\n",
    "fjn=np.random.randint(100,150,size=N)\n",
    "fjp=np.random.randint(100,150,size=P)\n",
    "fjr=np.random.randint(100,150,size=R)\n",
    "fjs=np.random.randint(100,150,size=S)\n",
    "#Variable job oppurtunities\n",
    "vjj=np.random.randint(50,100,size=J)\n",
    "vjk=np.random.randint(10,15,size=K)\n",
    "vjl=np.random.randint(10,15,size=L)\n",
    "vjm=np.random.randint(10,15,size=M)\n",
    "vjn=np.random.randint(10,15,size=N)\n",
    "vjp=np.random.randint(10,15,size=P)\n",
    "vjr=np.random.randint(10,15,size=R)\n",
    "vjs=np.random.randint(10,15,size=S)\n",
    "#Capacity\n",
    "pj=np.random.randint(15,25,size=J)\n",
    "pk=np.random.randint(50,100,size=K)\n",
    "pl=np.random.randint(50,100,size=L)\n",
    "pm=np.random.randint(50,100,size=M)\n",
    "pn=np.random.randint(50,100,size=N)\n",
    "pp=np.random.randint(50,100,size=P)\n",
    "pr=np.random.randint(50,100,size=R)\n",
    "ps=np.random.randint(50,100,size=S)\n",
    "#Distance between facilities\n",
    "dij=np.random.randint(1000,1500,size=(I,J))\n",
    "djk=np.random.randint(100,150,size=(J,K))\n",
    "dkl=np.random.randint(70,120,size=(K,L))\n",
    "dlm=np.random.randint(50,75,size=(L,M))\n",
    "dmn=np.random.randint(50,75,size=(M,N))\n",
    "dmp=np.random.randint(100,150,size=(M,P))\n",
    "dmr=np.random.randint(100,150,size=(M,R))\n",
    "dms=np.random.randint(100,150,size=(M,S))\n",
    "dns=np.random.randint(100,150,size=(N,S))\n",
    "dps=np.random.randint(100,150,size=(P,S))\n",
    "drs=np.random.randint(100,150,size=(R,S))\n",
    "dri=np.random.randint(100,150,size=(R,I))\n",
    "dpj=np.random.randint(100,150,size=(P,J))\n",
    "dnk=np.random.randint(100,150,size=(N,K))"
   ]
  },
  {
   "cell_type": "code",
   "execution_count": 579,
   "metadata": {},
   "outputs": [],
   "source": [
    "#Hyper paramters\n",
    "#alpha\n",
    "al=0.1\n",
    "#betta\n",
    "bn=0.3\n",
    "bp=0.3\n",
    "br=0.15\n",
    "bs=0.15\n",
    "#Gamma\n",
    "gn=0.9\n",
    "gp=0.9\n",
    "gr=0.9\n",
    "#Monetary gain\n",
    "scd=0.5\n",
    "scm=0.4\n",
    "scr=0.35\n",
    "scu=0.15\n",
    "#Product weight\n",
    "pw=0.450/1000\n",
    "#Social cost of carbon\n",
    "co2e=73.45\n",
    "scc=86\n",
    "#Maximum desired facilities\n",
    "maxi=2\n",
    "maxj=2\n",
    "maxk=3\n",
    "maxl=4\n",
    "maxm=3\n",
    "maxn=2\n",
    "maxp=2\n",
    "maxr=1\n",
    "maxs=1"
   ]
  },
  {
   "cell_type": "code",
   "execution_count": 580,
   "metadata": {},
   "outputs": [],
   "source": [
    "#Cost function1\n",
    "def calc_objective1(lst_pq):\n",
    "    p_q=round(np.average(lst_pq))\n",
    "    Yi=np.ones(maxi,dtype=np.int16)\n",
    "    Yj=np.ones(maxj,dtype=np.int16)\n",
    "    Yk=np.ones(maxk,dtype=np.int16)\n",
    "    Yl=np.ones(maxl,dtype=np.int16)\n",
    "    Ym=np.ones(maxm,dtype=np.int16)\n",
    "    Yn=np.ones(maxn,dtype=np.int16)\n",
    "    Yp=np.ones(maxp,dtype=np.int16)\n",
    "    Yr=np.ones(maxr,dtype=np.int16)\n",
    "    Ys=np.ones(maxs,dtype=np.int16)\n",
    "    #cost paramters calc\n",
    "    zfc=0\n",
    "    for i in range(maxi):\n",
    "        zfc+=fcj[i]*Yi[i]\n",
    "    for j in range(maxj):\n",
    "        zfc+=fcj[j]*Yj[j]\n",
    "    for k in range(maxk):\n",
    "        zfc+=fcn[k]*Yk[k]\n",
    "    for l in range(maxl):\n",
    "        zfc+=fcn[l]*Yl[l]\n",
    "    for m in range(maxm):\n",
    "        zfc+=fcn[m]*Ym[m]\n",
    "    for n in range(maxn):\n",
    "        zfc+=fcn[n]*Yn[n]\n",
    "    for p in range(maxp):\n",
    "        zfc+=fcp[p]*Yp[p]\n",
    "    for r in range(maxr):\n",
    "        zfc+=fcr[r]*Yr[r]\n",
    "    for s in range(maxs):\n",
    "        zfc+=fcs[s]*Ys[s]\n",
    "    #purchasing cost\n",
    "    zpc=0\n",
    "    for i in range(maxi):\n",
    "        zpc+=pci[i]*Yi[i]*p_q\n",
    "    #mfg cost\n",
    "    zmc=0\n",
    "    for i in range(maxj):\n",
    "        zmc+=mcj[i]*Yj[i]*p_q\n",
    "    #inv\n",
    "    zinv=0\n",
    "    for i in range(maxj):\n",
    "        zinv+=invj[i]*invtj[i]*Yj[i]*p_q*fill_j\n",
    "    for i in range(maxk):\n",
    "        zinv+=invk[i]*invtk[i]*Yk[i]*p_q*fill_k\n",
    "    for i in range(maxl):\n",
    "        zinv+=invl[i]*invtl[i]*Yl[i]*p_q*fill_l\n",
    "    for i in range(maxm):\n",
    "        zinv+=invm[i]*invtm[i]*Ym[i]*p_q*al\n",
    "    for i in range(maxn):\n",
    "        zinv+=invn[i]*invtn[i]*Yn[i]*p_q*al*bn\n",
    "    for i in range(maxp):\n",
    "        zinv+=invp[i]*invtp[i]*Yp[i]*p_q*al*bp\n",
    "    for i in range(maxr):\n",
    "        zinv+=invr[i]*invtr[i]*Yr[i]*p_q*al*br\n",
    "    for i in range(maxs):\n",
    "        zinv+=invs[i]*invts[i]*Ys[i]*p_q*al*bs*(3-(gn+gp+gr))\n",
    "    #tc\n",
    "    ztc=0\n",
    "    for temp1 in range(maxi):\n",
    "        for temp2 in range(maxj):\n",
    "            ztc+=tcij[temp1][temp2]*dij[temp1][temp2]*p_q*Yi[temp1]*Yj[temp2]*fill_j\n",
    "    for temp1 in range(maxj):\n",
    "        for temp2 in range(maxk):\n",
    "            ztc+=tcjk[temp1][temp2]*djk[temp1][temp2]*p_q*Yj[temp1]*Yk[temp2]*fill_k\n",
    "    for temp1 in range(maxk):\n",
    "        for temp2 in range(maxl):\n",
    "            ztc+=tckl[temp1][temp2]*dkl[temp1][temp2]*p_q*Yk[temp1]*Yl[temp2]*fill_l\n",
    "    for temp1 in range(maxl):\n",
    "        for temp2 in range(maxm):\n",
    "            ztc+=tclm[temp1][temp2]*dlm[temp1][temp2]*p_q*Yl[temp1]*Ym[temp2]*al\n",
    "    for temp1 in range(maxm):\n",
    "        for temp2 in range(maxn):\n",
    "            ztc+=tcmn[temp1][temp2]*dmn[temp1][temp2]*p_q*Ym[temp1]*Yn[temp2]*al*bn\n",
    "    for temp1 in range(maxm):\n",
    "        for temp2 in range(maxp):\n",
    "            ztc+=tcmp[temp1][temp2]*dmp[temp1][temp2]*p_q*Ym[temp1]*Yp[temp2]*al*bp\n",
    "    for temp1 in range(maxm):\n",
    "        for temp2 in range(maxr):\n",
    "            ztc+=tcmr[temp1][temp2]*dmr[temp1][temp2]*p_q*Ym[temp1]*Yr[temp2]*al*br\n",
    "    for temp1 in range(maxm):\n",
    "        for temp2 in range(maxs):\n",
    "            ztc+=tcms[temp1][temp2]*dms[temp1][temp2]*p_q*Ym[temp1]*Ys[temp2]*al*bs\n",
    "    for temp1 in range(maxr):\n",
    "        for temp2 in range(maxs):\n",
    "            ztc+=tcrs[temp1][temp2]*drs[temp1][temp2]*p_q*Yr[temp1]*Ys[temp2]*al*(1-gr)*br\n",
    "    for temp1 in range(maxp):\n",
    "        for temp2 in range(maxs):\n",
    "            ztc+=tcps[temp1][temp2]*dps[temp1][temp2]*p_q*Yp[temp1]*Ys[temp2]*al*(1-gp)*bp\n",
    "    for temp1 in range(maxn):\n",
    "        for temp2 in range(maxs):\n",
    "            ztc+=tcns[temp1][temp2]*dns[temp1][temp2]*p_q*Yn[temp1]*Ys[temp2]*al*(1-gn)*bn\n",
    "    for temp1 in range(maxn):\n",
    "        for temp2 in range(maxk):\n",
    "            ztc+=tcns[temp1][temp2]*dnk[temp1][temp2]*p_q*Yn[temp1]*Yk[temp2]*al*gn*bn\n",
    "    for temp1 in range(maxp):\n",
    "        for temp2 in range(maxj):\n",
    "            ztc+=tcpj[temp1][temp2]*dpj[temp1][temp2]*p_q*Yp[temp1]*Yj[temp2]*al*gp*bp\n",
    "    for temp1 in range(maxr):\n",
    "        for temp2 in range(maxi):\n",
    "            ztc+=tcri[temp1][temp2]*dri[temp1][temp2]*p_q*Yr[temp1]*Yi[temp2]*al*gr*br\n",
    "    #Monetry savings due to reselling\n",
    "    zscd=0\n",
    "    for i in range(maxn):\n",
    "        for j in range(maxk):\n",
    "            zscd+=scd*(gn*p_q*al*bn*Yn[i]*Yk[j])\n",
    "    zscm=0\n",
    "    for i in range(maxp):\n",
    "        for j in range(maxj):\n",
    "            zscm+=scm*(gp*p_q*al*bp*Yp[i]*Yj[j])\n",
    "    zscr=0\n",
    "    for i in range(maxr):\n",
    "        for j in range(maxi):\n",
    "            zscr+=scr*(gr*p_q*al*br*Yr[i]*Yi[j])\n",
    "    #Co2 emission\n",
    "    zco2ec=0\n",
    "    for temp1 in range(maxi):\n",
    "        for temp2 in range(maxj):\n",
    "            zco2ec+=co2e*scc*dij[temp1][temp2]*pw*p_q*Yi[temp1]*Yj[temp2]*fill_j\n",
    "    for temp1 in range(maxj):\n",
    "        for temp2 in range(maxk):\n",
    "            zco2ec+=co2e*scc*djk[temp1][temp2]*pw*p_q*Yj[temp1]*Yk[temp2]*fill_k\n",
    "    for temp1 in range(maxk):\n",
    "        for temp2 in range(maxl):\n",
    "            zco2ec+=co2e*scc*dkl[temp1][temp2]*pw*p_q*Yk[temp1]*Yl[temp2]*fill_l\n",
    "    for temp1 in range(maxl):\n",
    "        for temp2 in range(maxm):\n",
    "            zco2ec+=co2e*scc*dlm[temp1][temp2]*pw*p_q*Yl[temp1]*Ym[temp2]*al\n",
    "    for temp1 in range(maxm):\n",
    "        for temp2 in range(maxn):\n",
    "            zco2ec+=co2e*scc*dmn[temp1][temp2]*pw*p_q*Ym[temp1]*Yn[temp2]*al*bn\n",
    "    for temp1 in range(maxm):\n",
    "        for temp2 in range(maxp):\n",
    "            zco2ec+=co2e*scc*dmp[temp1][temp2]*pw*p_q*Ym[temp1]*Yp[temp2]*al*bp\n",
    "    for temp1 in range(maxm):\n",
    "        for temp2 in range(maxr):\n",
    "            zco2ec+=co2e*scc*dmr[temp1][temp2]*pw*p_q*Ym[temp1]*Yr[temp2]*al*br\n",
    "    for temp1 in range(maxm):\n",
    "        for temp2 in range(maxs):\n",
    "            zco2ec+=co2e*scc*dms[temp1][temp2]*pw*p_q*Ym[temp1]*Ys[temp2]*al*bs\n",
    "    for temp1 in range(maxr):\n",
    "        for temp2 in range(maxs):\n",
    "            zco2ec+=co2e*scc*drs[temp1][temp2]*pw*p_q*Yr[temp1]*Ys[temp2]*al*(1-gr)*br\n",
    "    for temp1 in range(maxp):\n",
    "        for temp2 in range(maxs):\n",
    "            zco2ec+=co2e*scc*dps[temp1][temp2]*pw*p_q*Yp[temp1]*Ys[temp2]*al*(1-gp)*bp\n",
    "    for temp1 in range(maxn):\n",
    "        for temp2 in range(maxs):\n",
    "            zco2ec+=co2e*scc*dns[temp1][temp2]*pw*p_q*Yn[temp1]*Ys[temp2]*al*(1-gn)*bn\n",
    "    for temp1 in range(maxn):\n",
    "        for temp2 in range(maxk):\n",
    "            zco2ec+=co2e*scc*dnk[temp1][temp2]*pw*p_q*Yn[temp1]*Yk[temp2]*al*gn\n",
    "    for temp1 in range(maxp):\n",
    "        for temp2 in range(maxj):\n",
    "            zco2ec+=co2e*scc*dpj[temp1][temp2]*pw*p_q*Yp[temp1]*Yj[temp2]*al*gp\n",
    "    for temp1 in range(maxr):\n",
    "        for temp2 in range(maxi):\n",
    "            zco2ec+=co2e*scc*dri[temp1][temp2]*pw*p_q*Yr[temp1]*Yi[temp2]*al*gr\n",
    "    #selling waste\n",
    "    zsw=scu*p_q*al*bs*(3-(gn+gp+gr))\n",
    "    #Social paramters\n",
    "    zfj=0\n",
    "    for i in range(maxi):\n",
    "        zfj+=fjj[i]*Yi[i]\n",
    "    for j in range(maxj):\n",
    "        zfj+=fjj[j]*Yj[j]\n",
    "    for k in range(maxk):\n",
    "        zfj+=fjn[k]*Yk[k]\n",
    "    for l in range(maxl):\n",
    "        zfj+=fjn[l]*Yl[l]\n",
    "    for m in range(maxm):\n",
    "        zfj+=fjn[m]*Ym[m]\n",
    "    for n in range(maxn):\n",
    "        zfj+=fjn[n]*Yn[n]\n",
    "    for p in range(maxp):\n",
    "        zfj+=fjp[p]*Yp[p]\n",
    "    for r in range(maxr):\n",
    "        zfj+=fjr[r]*Yr[r]\n",
    "    for s in range(maxs):\n",
    "        zfj+=fjs[s]*Ys[s]\n",
    "    zvj=0\n",
    "    for j in range(maxj):\n",
    "        zvj+=vjj[j]*p_q*fill_j/pj[j]\n",
    "    for k in range(maxk):\n",
    "        zvj+=vjn[k]*p_q*fill_k/pk[k]\n",
    "    for l in range(maxl):\n",
    "        zvj+=vjn[l]*p_q*fill_l/pl[l]\n",
    "    for m in range(maxm):\n",
    "        zvj+=vjn[m]*p_q*al/pm[m]\n",
    "    for n in range(maxn):\n",
    "        zvj+=vjn[n]*p_q*al*bn/pn[n]\n",
    "    for p in range(maxp):\n",
    "        zvj+=vjp[p]*p_q*al*bp/pp[p]\n",
    "    for r in range(maxr):\n",
    "        zvj+=vjr[r]*p_q*al*br/pr[r]\n",
    "    for s in range(maxs):\n",
    "        zvj+=vjs[s]*p_q*al*bs*(3-(gn+gp+gr))/ps[s]\n",
    "    z1=zfc+zpc+zmc+zinv+ztc-zscd-zscm-zscr+zco2ec-zsw\n",
    "    z2=zfj+zvj\n",
    "    return z1"
   ]
  },
  {
   "cell_type": "code",
   "execution_count": 581,
   "metadata": {},
   "outputs": [],
   "source": [
    "#Cost function2\n",
    "def calc_objective2(lst_pq):\n",
    "    p_q=round(np.average(lst_pq))\n",
    "    Yi=np.ones(maxi,dtype=np.int16)\n",
    "    Yj=np.ones(maxj,dtype=np.int16)\n",
    "    Yk=np.ones(maxk,dtype=np.int16)\n",
    "    Yl=np.ones(maxl,dtype=np.int16)\n",
    "    Ym=np.ones(maxm,dtype=np.int16)\n",
    "    Yn=np.ones(maxn,dtype=np.int16)\n",
    "    Yp=np.ones(maxp,dtype=np.int16)\n",
    "    Yr=np.ones(maxr,dtype=np.int16)\n",
    "    Ys=np.ones(maxs,dtype=np.int16)\n",
    "    #cost paramters calc\n",
    "    zfc=0\n",
    "    for i in range(maxi):\n",
    "        zfc+=fcj[i]*Yi[i]\n",
    "    for j in range(maxj):\n",
    "        zfc+=fcj[j]*Yj[j]\n",
    "    for k in range(maxk):\n",
    "        zfc+=fcn[k]*Yk[k]\n",
    "    for l in range(maxl):\n",
    "        zfc+=fcn[l]*Yl[l]\n",
    "    for m in range(maxm):\n",
    "        zfc+=fcn[m]*Ym[m]\n",
    "    for n in range(maxn):\n",
    "        zfc+=fcn[n]*Yn[n]\n",
    "    for p in range(maxp):\n",
    "        zfc+=fcp[p]*Yp[p]\n",
    "    for r in range(maxr):\n",
    "        zfc+=fcr[r]*Yr[r]\n",
    "    for s in range(maxs):\n",
    "        zfc+=fcs[s]*Ys[s]\n",
    "    #purchasing cost\n",
    "    zpc=0\n",
    "    for i in range(maxi):\n",
    "        zpc+=pci[i]*Yi[i]*p_q\n",
    "    #mfg cost\n",
    "    zmc=0\n",
    "    for i in range(maxj):\n",
    "        zmc+=mcj[i]*Yj[i]*p_q\n",
    "    #inv\n",
    "    zinv=0\n",
    "    for i in range(maxj):\n",
    "        zinv+=invj[i]*invtj[i]*Yj[i]*p_q*fill_j\n",
    "    for i in range(maxk):\n",
    "        zinv+=invk[i]*invtk[i]*Yk[i]*p_q*fill_k\n",
    "    for i in range(maxl):\n",
    "        zinv+=invl[i]*invtl[i]*Yl[i]*p_q*fill_l\n",
    "    for i in range(maxm):\n",
    "        zinv+=invm[i]*invtm[i]*Ym[i]*p_q*al\n",
    "    for i in range(maxn):\n",
    "        zinv+=invn[i]*invtn[i]*Yn[i]*p_q*al*bn\n",
    "    for i in range(maxp):\n",
    "        zinv+=invp[i]*invtp[i]*Yp[i]*p_q*al*bp\n",
    "    for i in range(maxr):\n",
    "        zinv+=invr[i]*invtr[i]*Yr[i]*p_q*al*br\n",
    "    for i in range(maxs):\n",
    "        zinv+=invs[i]*invts[i]*Ys[i]*p_q*al*bs*(3-(gn+gp+gr))\n",
    "    #tc\n",
    "    ztc=0\n",
    "    for temp1 in range(maxi):\n",
    "        for temp2 in range(maxj):\n",
    "            ztc+=tcij[temp1][temp2]*dij[temp1][temp2]*p_q*Yi[temp1]*Yj[temp2]*fill_j\n",
    "    for temp1 in range(maxj):\n",
    "        for temp2 in range(maxk):\n",
    "            ztc+=tcjk[temp1][temp2]*djk[temp1][temp2]*p_q*Yj[temp1]*Yk[temp2]*fill_k\n",
    "    for temp1 in range(maxk):\n",
    "        for temp2 in range(maxl):\n",
    "            ztc+=tckl[temp1][temp2]*dkl[temp1][temp2]*p_q*Yk[temp1]*Yl[temp2]*fill_l\n",
    "    for temp1 in range(maxl):\n",
    "        for temp2 in range(maxm):\n",
    "            ztc+=tclm[temp1][temp2]*dlm[temp1][temp2]*p_q*Yl[temp1]*Ym[temp2]*al\n",
    "    for temp1 in range(maxm):\n",
    "        for temp2 in range(maxn):\n",
    "            ztc+=tcmn[temp1][temp2]*dmn[temp1][temp2]*p_q*Ym[temp1]*Yn[temp2]*al*bn\n",
    "    for temp1 in range(maxm):\n",
    "        for temp2 in range(maxp):\n",
    "            ztc+=tcmp[temp1][temp2]*dmp[temp1][temp2]*p_q*Ym[temp1]*Yp[temp2]*al*bp\n",
    "    for temp1 in range(maxm):\n",
    "        for temp2 in range(maxr):\n",
    "            ztc+=tcmr[temp1][temp2]*dmr[temp1][temp2]*p_q*Ym[temp1]*Yr[temp2]*al*br\n",
    "    for temp1 in range(maxm):\n",
    "        for temp2 in range(maxs):\n",
    "            ztc+=tcms[temp1][temp2]*dms[temp1][temp2]*p_q*Ym[temp1]*Ys[temp2]*al*bs\n",
    "    for temp1 in range(maxr):\n",
    "        for temp2 in range(maxs):\n",
    "            ztc+=tcrs[temp1][temp2]*drs[temp1][temp2]*p_q*Yr[temp1]*Ys[temp2]*al*(1-gr)*br\n",
    "    for temp1 in range(maxp):\n",
    "        for temp2 in range(maxs):\n",
    "            ztc+=tcps[temp1][temp2]*dps[temp1][temp2]*p_q*Yp[temp1]*Ys[temp2]*al*(1-gp)*bp\n",
    "    for temp1 in range(maxn):\n",
    "        for temp2 in range(maxs):\n",
    "            ztc+=tcns[temp1][temp2]*dns[temp1][temp2]*p_q*Yn[temp1]*Ys[temp2]*al*(1-gn)*bn\n",
    "    for temp1 in range(maxn):\n",
    "        for temp2 in range(maxk):\n",
    "            ztc+=tcns[temp1][temp2]*dnk[temp1][temp2]*p_q*Yn[temp1]*Yk[temp2]*al*gn*bn\n",
    "    for temp1 in range(maxp):\n",
    "        for temp2 in range(maxj):\n",
    "            ztc+=tcpj[temp1][temp2]*dpj[temp1][temp2]*p_q*Yp[temp1]*Yj[temp2]*al*gp*bp\n",
    "    for temp1 in range(maxr):\n",
    "        for temp2 in range(maxi):\n",
    "            ztc+=tcri[temp1][temp2]*dri[temp1][temp2]*p_q*Yr[temp1]*Yi[temp2]*al*gr*br\n",
    "    #Monetry savings due to reselling\n",
    "    zscd=0\n",
    "    for i in range(maxn):\n",
    "        for j in range(maxk):\n",
    "            zscd+=scd*(gn*p_q*al*bn*Yn[i]*Yk[j])\n",
    "    zscm=0\n",
    "    for i in range(maxp):\n",
    "        for j in range(maxj):\n",
    "            zscm+=scm*(gp*p_q*al*bp*Yp[i]*Yj[j])\n",
    "    zscr=0\n",
    "    for i in range(maxr):\n",
    "        for j in range(maxi):\n",
    "            zscr+=scr*(gr*p_q*al*br*Yr[i]*Yi[j])\n",
    "    #Co2 emission\n",
    "    zco2ec=0\n",
    "    for temp1 in range(maxi):\n",
    "        for temp2 in range(maxj):\n",
    "            zco2ec+=co2e*scc*dij[temp1][temp2]*pw*p_q*Yi[temp1]*Yj[temp2]*fill_j\n",
    "    for temp1 in range(maxj):\n",
    "        for temp2 in range(maxk):\n",
    "            zco2ec+=co2e*scc*djk[temp1][temp2]*pw*p_q*Yj[temp1]*Yk[temp2]*fill_k\n",
    "    for temp1 in range(maxk):\n",
    "        for temp2 in range(maxl):\n",
    "            zco2ec+=co2e*scc*dkl[temp1][temp2]*pw*p_q*Yk[temp1]*Yl[temp2]*fill_l\n",
    "    for temp1 in range(maxl):\n",
    "        for temp2 in range(maxm):\n",
    "            zco2ec+=co2e*scc*dlm[temp1][temp2]*pw*p_q*Yl[temp1]*Ym[temp2]*al\n",
    "    for temp1 in range(maxm):\n",
    "        for temp2 in range(maxn):\n",
    "            zco2ec+=co2e*scc*dmn[temp1][temp2]*pw*p_q*Ym[temp1]*Yn[temp2]*al*bn\n",
    "    for temp1 in range(maxm):\n",
    "        for temp2 in range(maxp):\n",
    "            zco2ec+=co2e*scc*dmp[temp1][temp2]*pw*p_q*Ym[temp1]*Yp[temp2]*al*bp\n",
    "    for temp1 in range(maxm):\n",
    "        for temp2 in range(maxr):\n",
    "            zco2ec+=co2e*scc*dmr[temp1][temp2]*pw*p_q*Ym[temp1]*Yr[temp2]*al*br\n",
    "    for temp1 in range(maxm):\n",
    "        for temp2 in range(maxs):\n",
    "            zco2ec+=co2e*scc*dms[temp1][temp2]*pw*p_q*Ym[temp1]*Ys[temp2]*al*bs\n",
    "    for temp1 in range(maxr):\n",
    "        for temp2 in range(maxs):\n",
    "            zco2ec+=co2e*scc*drs[temp1][temp2]*pw*p_q*Yr[temp1]*Ys[temp2]*al*(1-gr)*br\n",
    "    for temp1 in range(maxp):\n",
    "        for temp2 in range(maxs):\n",
    "            zco2ec+=co2e*scc*dps[temp1][temp2]*pw*p_q*Yp[temp1]*Ys[temp2]*al*(1-gp)*bp\n",
    "    for temp1 in range(maxn):\n",
    "        for temp2 in range(maxs):\n",
    "            zco2ec+=co2e*scc*dns[temp1][temp2]*pw*p_q*Yn[temp1]*Ys[temp2]*al*(1-gn)*bn\n",
    "    for temp1 in range(maxn):\n",
    "        for temp2 in range(maxk):\n",
    "            zco2ec+=co2e*scc*dnk[temp1][temp2]*pw*p_q*Yn[temp1]*Yk[temp2]*al*gn\n",
    "    for temp1 in range(maxp):\n",
    "        for temp2 in range(maxj):\n",
    "            zco2ec+=co2e*scc*dpj[temp1][temp2]*pw*p_q*Yp[temp1]*Yj[temp2]*al*gp\n",
    "    for temp1 in range(maxr):\n",
    "        for temp2 in range(maxi):\n",
    "            zco2ec+=co2e*scc*dri[temp1][temp2]*pw*p_q*Yr[temp1]*Yi[temp2]*al*gr\n",
    "    #selling waste\n",
    "    zsw=scu*p_q*al*bs*(3-(gn+gp+gr))\n",
    "    #Social paramters\n",
    "    zfj=0\n",
    "    for i in range(maxi):\n",
    "        zfj+=fjj[i]*Yi[i]\n",
    "    for j in range(maxj):\n",
    "        zfj+=fjj[j]*Yj[j]\n",
    "    for k in range(maxk):\n",
    "        zfj+=fjn[k]*Yk[k]\n",
    "    for l in range(maxl):\n",
    "        zfj+=fjn[l]*Yl[l]\n",
    "    for m in range(maxm):\n",
    "        zfj+=fjn[m]*Ym[m]\n",
    "    for n in range(maxn):\n",
    "        zfj+=fjn[n]*Yn[n]\n",
    "    for p in range(maxp):\n",
    "        zfj+=fjp[p]*Yp[p]\n",
    "    for r in range(maxr):\n",
    "        zfj+=fjr[r]*Yr[r]\n",
    "    for s in range(maxs):\n",
    "        zfj+=fjs[s]*Ys[s]\n",
    "    zvj=0\n",
    "    for j in range(maxj):\n",
    "        zvj+=vjj[j]*p_q*fill_j/pj[j]\n",
    "    for k in range(maxk):\n",
    "        zvj+=vjn[k]*p_q*fill_k/pk[k]\n",
    "    for l in range(maxl):\n",
    "        zvj+=vjn[l]*p_q*fill_l/pl[l]\n",
    "    for m in range(maxm):\n",
    "        zvj+=vjn[m]*p_q*al/pm[m]\n",
    "    for n in range(maxn):\n",
    "        zvj+=vjn[n]*p_q*al*bn/pn[n]\n",
    "    for p in range(maxp):\n",
    "        zvj+=vjp[p]*p_q*al*bp/pp[p]\n",
    "    for r in range(maxr):\n",
    "        zvj+=vjr[r]*p_q*al*br/pr[r]\n",
    "    for s in range(maxs):\n",
    "        zvj+=vjs[s]*p_q*al*bs*(3-(gn+gp+gr))/ps[s]\n",
    "    z1=zfc+zpc+zmc+zinv+ztc-zscd-zscm-zscr+zco2ec-zsw\n",
    "    z2=zfj+zvj\n",
    "    return -z2"
   ]
  },
  {
   "cell_type": "code",
   "execution_count": 582,
   "metadata": {},
   "outputs": [],
   "source": [
    "# #Non dominated sorting\n",
    "# def NonDominatedSorting(pop):\n",
    "#     npop=len(pop)\n",
    "#     for i in range(npop):\n",
    "#         dominatedset=[]\n",
    "#         dominatedcount=0\n",
    "#     for i in range(npop):\n",
    "#         for j in range(i,npop):\n",
    "#             p=pop(i)\n",
    "#             q=pop(j)\n",
    "#             if \n",
    "\n"
   ]
  },
  {
   "cell_type": "code",
   "execution_count": 583,
   "metadata": {},
   "outputs": [],
   "source": [
    "# SEO Paramters\n",
    "maxit=50\n",
    "alpha=0.7\n",
    "betta=0.2\n",
    "num_c=500"
   ]
  },
  {
   "cell_type": "code",
   "execution_count": 584,
   "metadata": {},
   "outputs": [
    {
     "data": {
      "text/plain": [
       "\"{'Position': [], 'Cost1': [],'Cost2': [], 'Rank': [], 'DominationSet': [], 'DominatedCount': [], 'CrowdingDistance': []}\""
      ]
     },
     "execution_count": 584,
     "metadata": {},
     "output_type": "execute_result"
    }
   ],
   "source": [
    "# Initialization\n",
    "persons={'Position':[],'Cost1':[],'Cost2': []}\n",
    "'''{'Position': [], 'Cost1': [],'Cost2': [], 'Rank': [], 'DominationSet': [], 'DominatedCount': [], 'CrowdingDistance': []}'''"
   ]
  },
  {
   "cell_type": "code",
   "execution_count": 585,
   "metadata": {},
   "outputs": [
    {
     "name": "stdout",
     "output_type": "stream",
     "text": [
      "                    Position         Cost1        Cost2\n",
      "0  [142, 138, 113, 125, 122]  1.404426e+07 -6669.552420\n",
      "1  [133, 139, 105, 101, 142]  1.362161e+07 -6637.691407\n"
     ]
    }
   ],
   "source": [
    "for i in range(2):\n",
    "    a=[]\n",
    "    for i in range(nvar):\n",
    "        a.append(round(random.uniform(varmin,varmax)))\n",
    "    ##persons['Cost'].append(calc_objective(temp))\n",
    "    persons['Position'].append(a)\n",
    "    persons['Cost1'].append(calc_objective1(a))\n",
    "    persons['Cost2'].append(calc_objective2(a))\n",
    "persons_df=pd.DataFrame(persons)\n",
    "print(persons_df)"
   ]
  },
  {
   "cell_type": "code",
   "execution_count": 586,
   "metadata": {},
   "outputs": [],
   "source": [
    "gamma=round(nvar*alpha)\n",
    "#tetta=np.zeros((nobj,gamma),dtype=np.int32)\n",
    "#sigma=0.1*varmax\n",
    "# bestsol_index=attacker_index\n",
    "# bestcost1=np.zeros((maxit,1),dtype=np.int64)\n",
    "# bestcost2=np.zeros((maxit,1),dtype=np.int64)\n",
    "# paretocost=np.zeros((maxit,1),dtype=np.int64)"
   ]
  },
  {
   "cell_type": "code",
   "execution_count": 587,
   "metadata": {},
   "outputs": [],
   "source": [
    "#connect functions\n",
    "def connect_1(a_index,d_index,betta,varmin,varmax):\n",
    "    a=random.random()\n",
    "    b=np.sin(betta)*a\n",
    "    y=[]\n",
    "    x1=persons_df.iloc[a_index,0]\n",
    "    x2=persons_df.iloc[d_index,0]\n",
    "    for i in x1:\n",
    "        for j in x2:\n",
    "            c=i*((1-b)+(i+j)/2)*b\n",
    "            z=max(c,varmin)\n",
    "            z=min(z,varmax)\n",
    "            y.append(z)\n",
    "    return y\n",
    "def connect_2(a_index,d_index,betta,varmin,varmax):\n",
    "    a=random.random()\n",
    "    b=np.sin(betta)*a\n",
    "    bb=np.sin(betta)*a\n",
    "    x1=persons_df.iloc[a_index,0]\n",
    "    x2=persons_df.iloc[d_index,0]\n",
    "    y1=[]\n",
    "    y2=[]\n",
    "    for i in x1:\n",
    "        for j in x2:\n",
    "            c=i*((1-b)+(i+j)/2)*b\n",
    "            cc=j*((1-bb)+(i+j)/2)*bb\n",
    "            z=max(c,varmin)\n",
    "            z=min(z,varmax)\n",
    "            y1.append(z)\n",
    "            z=max(cc,varmin)\n",
    "            z=min(z,varmax)\n",
    "            y2.append(z)\n",
    "    return [y1,y2]\n",
    "def connect_3(a_index,d_index,betta,varmin,varmax):\n",
    "    a=random.random()\n",
    "    b=np.sin(betta)*a\n",
    "    bb=np.sin(betta)*a\n",
    "    x1=persons_df.iloc[a_index,0]\n",
    "    x2=persons_df.iloc[d_index,0]\n",
    "    y=[]\n",
    "    for i in x1:\n",
    "        for j in x2:\n",
    "            c=j*((1-b)+(i*bb*(i+j)/2))*b\n",
    "            z=max(c,varmin)\n",
    "            z=min(z,varmax)\n",
    "            y.append(z)\n",
    "    return y \n",
    "def connect_4(a_index,d_index,betta,varmin,varmax):\n",
    "    a=random.random()\n",
    "    b=np.sin(betta)*a\n",
    "    bb=np.sin(betta)*a\n",
    "    x1=persons_df.iloc[a_index,0]\n",
    "    x2=persons_df.iloc[d_index,0]\n",
    "    y=[]\n",
    "    for i in x1:\n",
    "        for j in x2:\n",
    "            c=j*bb*b+(j*bb*(i+j)/2)*b\n",
    "            z=max(c,varmin)\n",
    "            z=min(z,varmax)\n",
    "            y.append(z)\n",
    "    return y"
   ]
  },
  {
   "cell_type": "code",
   "execution_count": 588,
   "metadata": {},
   "outputs": [
    {
     "data": {
      "text/plain": [
       "0.009999833334166664"
      ]
     },
     "execution_count": 588,
     "metadata": {},
     "output_type": "execute_result"
    }
   ],
   "source": [
    "np.sin(0.01)"
   ]
  },
  {
   "cell_type": "code",
   "execution_count": 589,
   "metadata": {},
   "outputs": [
    {
     "name": "stdout",
     "output_type": "stream",
     "text": [
      "1 0\n"
     ]
    }
   ],
   "source": [
    "# # attacker_index=[x for x in range(2) if persons_df['Cost1'].iloc[x]<=persons_df['Cost2'].iloc[x]]\n",
    "for i in range(2):\n",
    "    for j in range(2):\n",
    "        if i==j:\n",
    "            continue\n",
    "        if persons_df.iloc[i,1]<=persons_df.iloc[j,1]:\n",
    "            attacker_index=i\n",
    "        else:\n",
    "            attacker_index=j\n",
    "if attacker_index==0:\n",
    "    defender_index=1\n",
    "else:\n",
    "    defender_index=0\n",
    "print(attacker_index,defender_index)"
   ]
  },
  {
   "cell_type": "code",
   "execution_count": 590,
   "metadata": {},
   "outputs": [
    {
     "data": {
      "text/plain": [
       "[133, 139, 105, 101, 142]"
      ]
     },
     "execution_count": 590,
     "metadata": {},
     "output_type": "execute_result"
    }
   ],
   "source": [
    "persons_df.iloc[attacker_index,0]"
   ]
  },
  {
   "cell_type": "code",
   "execution_count": 591,
   "metadata": {},
   "outputs": [
    {
     "data": {
      "text/plain": [
       "[142, 138, 113, 125, 122]"
      ]
     },
     "execution_count": 591,
     "metadata": {},
     "output_type": "execute_result"
    }
   ],
   "source": [
    "persons_df.iloc[defender_index,0]"
   ]
  },
  {
   "cell_type": "code",
   "execution_count": 592,
   "metadata": {},
   "outputs": [
    {
     "name": "stdout",
     "output_type": "stream",
     "text": [
      "[[133, 139, 105, 101, 142]] [[142, 138, 113, 125, 122]]\n"
     ]
    }
   ],
   "source": [
    "att_lst1=[]\n",
    "def_lst1=[]\n",
    "a=copy.deepcopy(persons_df.iloc[attacker_index,0])\n",
    "att_lst1.append(a)\n",
    "a=copy.deepcopy(persons_df.iloc[defender_index,0])\n",
    "def_lst1.append(a)\n",
    "print(att_lst1,def_lst1)"
   ]
  },
  {
   "cell_type": "code",
   "execution_count": 593,
   "metadata": {},
   "outputs": [
    {
     "name": "stdout",
     "output_type": "stream",
     "text": [
      "Iteration no.  2\n",
      "Iteration no.  3\n",
      "Iteration no.  4\n",
      "Iteration no.  5\n",
      "Iteration no.  6\n",
      "Iteration no.  7\n",
      "Iteration no.  8\n",
      "Iteration no.  9\n",
      "Iteration no.  10\n",
      "Iteration no.  11\n",
      "Iteration no.  12\n",
      "Iteration no.  13\n",
      "Iteration no.  14\n",
      "Iteration no.  15\n",
      "Iteration no.  16\n",
      "Iteration no.  17\n",
      "Iteration no.  18\n",
      "Iteration no.  19\n",
      "Iteration no.  20\n",
      "Iteration no.  21\n",
      "Iteration no.  22\n",
      "Iteration no.  23\n",
      "Iteration no.  24\n",
      "Iteration no.  25\n",
      "Iteration no.  26\n",
      "Iteration no.  27\n",
      "Iteration no.  28\n",
      "Iteration no.  29\n",
      "Iteration no.  30\n",
      "Iteration no.  31\n",
      "Iteration no.  32\n",
      "Iteration no.  33\n",
      "Iteration no.  34\n",
      "Iteration no.  35\n",
      "Iteration no.  36\n",
      "Iteration no.  37\n",
      "Iteration no.  38\n",
      "Iteration no.  39\n",
      "Iteration no.  40\n",
      "Iteration no.  41\n",
      "Iteration no.  42\n",
      "Iteration no.  43\n",
      "Iteration no.  44\n",
      "Iteration no.  45\n",
      "Iteration no.  46\n",
      "Iteration no.  47\n",
      "Iteration no.  48\n",
      "Iteration no.  49\n",
      "Iteration no.  50\n"
     ]
    }
   ],
   "source": [
    "# SEO main loop\n",
    "paretoposition=[]\n",
    "paretocost1=[]\n",
    "paretocost2=[]\n",
    "sno=[]\n",
    "att_lst=[]\n",
    "def_lst=[]\n",
    "for it in range(2,maxit+1):\n",
    "    a=copy.deepcopy(persons_df.iloc[attacker_index,0])\n",
    "    att_lst.append(a)\n",
    "    a=copy.deepcopy(persons_df.iloc[defender_index,0])\n",
    "    def_lst.append(a)\n",
    "    new_defender=persons_df.iloc[defender_index,0]\n",
    "    # print(new_defender)\n",
    "    # print(persons_df.iloc[defender_index,0])\n",
    "    for i in range(gamma):\n",
    "        temp=np.random.randint(0,nvar)\n",
    "        new_defender[temp]=persons_df.iloc[attacker_index,0][temp]\n",
    "        #print(new_defender[temp])\n",
    "        # curr_def_cost1=calc_objective1(curr_defender)\n",
    "        # curr_def_cost2=calc_objective2(curr_defender)\n",
    "        #Calc cost\n",
    "    #     for j in range(nobj):\n",
    "    #         tetta[j][i]= \n",
    "    #         #current ddefender cost - calc cost of trained defender\n",
    "    #     tetta[0][i]+=tetta[1][i]\n",
    "    # [value,index]=[max(tetta[0]),tetta[0].index(max(tetta[0]))]\n",
    "    # print(new_defender)\n",
    "    if  calc_objective1(new_defender)<=calc_objective1(persons_df.iloc[defender_index,0]) or calc_objective2(new_defender)<=calc_objective2(persons_df.iloc[defender_index,0]):\n",
    "        #### persons_df.iloc[defender_index,0]=new_defender\n",
    "        for xyz in range(nvar):\n",
    "            persons_df.iloc[defender_index,0][xyz]=new_defender[xyz]\n",
    "    # Spotting a attack\n",
    "    for j in range(num_c):\n",
    "        temp=random.randint(1,5)\n",
    "        if temp==1:\n",
    "            new_defender=connect_1(attacker_index,defender_index,betta,varmin,varmax)\n",
    "        elif temp==2:\n",
    "            [new_defender1,new_defender2]=connect_2(attacker_index,defender_index,betta,varmin,varmax)\n",
    "            if  calc_objective1(new_defender1)<=calc_objective1(new_defender2) or calc_objective2(new_defender1)<=calc_objective2(new_defender2):\n",
    "                new_defender=new_defender1\n",
    "                #persons_df['Position'].iloc[defender_index]=\n",
    "            #calculate cost of both new defenders then take best out of it\n",
    "            else:\n",
    "                new_defender=new_defender2\n",
    "        elif temp==3:\n",
    "            new_defender=connect_3(attacker_index,defender_index,betta,varmin,varmax)\n",
    "        else:\n",
    "            new_defender=connect_4(attacker_index,defender_index,betta,varmin,varmax)\n",
    "    # Responding to  SE attack\n",
    "    if calc_objective1(new_defender)<=calc_objective1(persons_df.iloc[defender_index,0]) or calc_objective2(new_defender) <= calc_objective2(persons_df.iloc[defender_index,0]):\n",
    "        if calc_objective1(new_defender)<=calc_objective1(persons_df.iloc[attacker_index,0]) or calc_objective2(new_defender) <= calc_objective2(persons_df.iloc[attacker_index,0]):\n",
    "            ### persons_df.iloc[attacker_index,0]=new_defender\n",
    "            for xyz in range(nvar):\n",
    "                persons_df.iloc[attacker_index,0][xyz]=new_defender[xyz]\n",
    "        else:\n",
    "            ### persons_df.iloc[defender_index,0]=new_defender\n",
    "            for xyz in range(nvar):\n",
    "                persons_df.iloc[defender_index,0][xyz]=new_defender[xyz]\n",
    "    # elif <= or <=:\n",
    "    #     ParetoCost(it)=new_defender #check can be combined with above\n",
    "    elif calc_objective1(new_defender)>=calc_objective1(persons_df.iloc[defender_index,0]) or calc_objective2(new_defender) >= calc_objective2(persons_df.iloc[defender_index,0]):\n",
    "        if calc_objective1(persons_df.iloc[defender_index,0])<=calc_objective1(persons_df.iloc[attacker_index,0]) or calc_objective2(persons_df.iloc[defender_index,0]) <= calc_objective2(persons_df.iloc[attacker_index,0]):\n",
    "            ### persons_df.iloc[attacker_index,0]=persons_df.iloc[defender_index,0]\n",
    "            for xyz in range(nvar):\n",
    "                persons_df.iloc[attacker_index,0][xyz]=persons_df.iloc[defender_index,0][xyz]\n",
    "    else:\n",
    "        print(\"ERROR\")\n",
    "    \n",
    "    att=copy.deepcopy(persons_df.iloc[attacker_index,0])\n",
    "    paretoposition.append(att)\n",
    "    paretocost=calc_objective1(persons_df.iloc[attacker_index,0])\n",
    "    paretocost1.append(paretocost)\n",
    "    paretocost=calc_objective2(persons_df.iloc[attacker_index,0])\n",
    "    paretocost2.append(paretocost)\n",
    "    print(\"Iteration no. \",it)\n",
    "    sno.append(it)\n",
    "    # new random defender\n",
    "bestcost1=min(paretocost1)\n",
    "bestcost2=min(paretocost2)\n",
    "# print(bestcost1,bestcost2)"
   ]
  },
  {
   "cell_type": "code",
   "execution_count": 594,
   "metadata": {},
   "outputs": [
    {
     "data": {
      "image/png": "[encoded data removed]",
      "text/plain": [
       "<Figure size 432x288 with 1 Axes>"
      ]
     },
     "metadata": {
      "needs_background": "light"
     },
     "output_type": "display_data"
    }
   ],
   "source": [
    "temp=[]\n",
    "for i in paretoposition:\n",
    "    temp.append(np.average(i))\n",
    "plt.scatter(sno,temp)\n",
    "plt.show()"
   ]
  },
  {
   "cell_type": "code",
   "execution_count": 595,
   "metadata": {},
   "outputs": [
    {
     "data": {
      "image/png": "[encoded data removed]",
      "text/plain": [
       "<Figure size 432x288 with 1 Axes>"
      ]
     },
     "metadata": {
      "needs_background": "light"
     },
     "output_type": "display_data"
    }
   ],
   "source": [
    "plt.scatter(sno,paretocost1)\n",
    "plt.show()"
   ]
  },
  {
   "cell_type": "code",
   "execution_count": 596,
   "metadata": {},
   "outputs": [
    {
     "data": {
      "image/png": "[encoded data removed]",
      "text/plain": [
       "<Figure size 432x288 with 1 Axes>"
      ]
     },
     "metadata": {
      "needs_background": "light"
     },
     "output_type": "display_data"
    }
   ],
   "source": [
    "temp=[]\n",
    "for i in paretocost2:\n",
    "    temp.append(abs(i))\n",
    "plt.scatter(sno,temp)\n",
    "plt.show()"
   ]
  },
  {
   "cell_type": "code",
   "execution_count": 597,
   "metadata": {},
   "outputs": [
    {
     "data": {
      "image/png": "[encoded data removed]",
      "text/plain": [
       "<Figure size 432x288 with 1 Axes>"
      ]
     },
     "metadata": {
      "needs_background": "light"
     },
     "output_type": "display_data"
    }
   ],
   "source": [
    "plt.scatter(paretocost1,paretocost2)\n",
    "plt.show()"
   ]
  },
  {
   "cell_type": "code",
   "execution_count": 598,
   "metadata": {},
   "outputs": [
    {
     "name": "stdout",
     "output_type": "stream",
     "text": [
      "[[133, 139, 105, 101, 142], [150, 150, 150, 150, 150], [150, 150, 150, 150, 150], [150, 150, 150, 150, 150], [150, 150, 150, 150, 150], [150, 150, 150, 150, 150], [150, 150, 150, 150, 150], [150, 150, 150, 150, 150], [150, 150, 150, 150, 150], [150, 150, 150, 150, 150], [150, 150, 150, 150, 150], [150, 150, 150, 150, 150], [129.3629483285521, 129.3629483285521, 129.3629483285521, 129.3629483285521, 129.3629483285521], [150, 150, 150, 150, 150], [150, 150, 150, 150, 150], [136.74369934268745, 136.74369934268745, 127.39899859378042, 136.74369934268745, 136.74369934268745], [150, 150, 150, 150, 150], [150, 150, 150, 150, 150], [150, 150, 150, 150, 150], [150, 150, 150, 150, 150], [150, 150, 150, 150, 150], [150, 150, 150, 150, 150], [150, 150, 150, 150, 150], [150, 150, 150, 150, 150], [150, 150, 150, 150, 150], [150, 150, 150, 150, 150], [100, 100, 100, 100, 100], [150, 150, 150, 150, 150], [150, 150, 150, 150, 150], [150, 150, 150, 150, 150], [150, 150, 150, 150, 150], [150, 150, 150, 150, 150], [150, 150, 150, 150, 150], [150, 150, 150, 150, 150], [150, 150, 150, 150, 150], [118.03766021695282, 118.03766021695282, 118.03766021695282, 118.03766021695282, 118.03766021695282], [150, 150, 150, 150, 150], [150, 150, 150, 150, 150], [150, 150, 150, 150, 150], [150, 150, 150, 150, 150], [150, 150, 150, 150, 143.382615937947], [150, 150, 150, 150, 150], [150, 150, 150, 150, 150], [150, 150, 150, 150, 150], [150, 150, 150, 150, 150], [150, 150, 150, 150, 150], [150, 150, 150, 150, 150], [150, 150, 150, 150, 150], [150, 150, 150, 150, 150]]\n"
     ]
    }
   ],
   "source": [
    "print(att_lst)"
   ]
  },
  {
   "cell_type": "code",
   "execution_count": 599,
   "metadata": {},
   "outputs": [
    {
     "name": "stdout",
     "output_type": "stream",
     "text": [
      "[[142, 138, 113, 125, 122], [133, 138, 105, 125, 142], [133, 150, 150, 150, 150], [150, 150, 150, 150, 150], [150, 150, 150, 150, 150], [150, 150, 150, 150, 150], [150, 150, 150, 150, 150], [150, 150, 150, 150, 150], [150, 150, 150, 150, 150], [150, 150, 150, 150, 150], [150, 150, 150, 150, 150], [150, 150, 150, 150, 150], [150, 150, 150, 150, 150], [129.3629483285521, 150, 129.3629483285521, 150, 129.3629483285521], [150, 150, 129.3629483285521, 150, 150], [150, 150, 129.3629483285521, 150, 150], [150, 136.74369934268745, 127.39899859378042, 136.74369934268745, 136.74369934268745], [150, 150, 150, 136.74369934268745, 150], [150, 150, 150, 150, 150], [150, 150, 150, 150, 150], [150, 150, 150, 150, 150], [150, 150, 150, 150, 150], [150, 150, 150, 150, 150], [150, 150, 150, 150, 150], [150, 150, 150, 150, 150], [150, 150, 150, 150, 150], [150, 150, 150, 150, 150], [150, 150, 100, 100, 100], [150, 150, 150, 150, 150], [150, 150, 150, 150, 150], [150, 150, 150, 150, 150], [150, 150, 150, 150, 150], [150, 150, 150, 150, 150], [150, 150, 150, 150, 150], [150, 150, 150, 150, 150], [150, 150, 150, 150, 150], [118.03766021695282, 150, 118.03766021695282, 150, 118.03766021695282], [150, 150, 118.03766021695282, 150, 118.03766021695282], [150, 150, 150, 150, 118.03766021695282], [150, 150, 150, 150, 118.03766021695282], [150, 150, 150, 150, 118.03766021695282], [150, 150, 150, 150, 143.382615937947], [150, 150, 150, 150, 143.382615937947], [150, 150, 150, 150, 143.382615937947], [150, 150, 150, 150, 143.382615937947], [150, 150, 150, 150, 150], [150, 150, 150, 150, 150], [150, 150, 150, 150, 150], [150, 150, 150, 150, 150]]\n"
     ]
    }
   ],
   "source": [
    "print(def_lst)"
   ]
  },
  {
   "cell_type": "code",
   "execution_count": 600,
   "metadata": {},
   "outputs": [
    {
     "data": {
      "text/plain": [
       "[150, 150, 150, 150, 150]"
      ]
     },
     "execution_count": 600,
     "metadata": {},
     "output_type": "execute_result"
    }
   ],
   "source": [
    "persons_df.iloc[attacker_index,0]"
   ]
  },
  {
   "cell_type": "code",
   "execution_count": 601,
   "metadata": {},
   "outputs": [],
   "source": [
    "#persons_df['Position'].iloc[attacker_index]=1"
   ]
  },
  {
   "cell_type": "code",
   "execution_count": 602,
   "metadata": {},
   "outputs": [],
   "source": [
    "# a=[1,2,3,4,5]\n",
    "# for i in range(len(a)):\n",
    "#     persons_df.iloc[attacker_index,0][i]=a[i]"
   ]
  },
  {
   "cell_type": "code",
   "execution_count": 603,
   "metadata": {},
   "outputs": [],
   "source": [
    "#persons_df.iloc[attacker_index,0]=persons_df.iloc[defender_index,0]"
   ]
  },
  {
   "cell_type": "code",
   "execution_count": 604,
   "metadata": {},
   "outputs": [
    {
     "data": {
      "text/plain": [
       "[150, 150, 150, 150, 150]"
      ]
     },
     "execution_count": 604,
     "metadata": {},
     "output_type": "execute_result"
    }
   ],
   "source": [
    "persons_df.iloc[attacker_index,0]"
   ]
  },
  {
   "cell_type": "code",
   "execution_count": 605,
   "metadata": {},
   "outputs": [
    {
     "data": {
      "text/plain": [
       "[150, 150, 150, 150, 150]"
      ]
     },
     "execution_count": 605,
     "metadata": {},
     "output_type": "execute_result"
    }
   ],
   "source": [
    "persons_df.iloc[defender_index,0]"
   ]
  },
  {
   "cell_type": "code",
   "execution_count": 606,
   "metadata": {},
   "outputs": [],
   "source": [
    "# persons_df.to_csv(\"F:\\Downloads\\projexport.csv\")"
   ]
  },
  {
   "cell_type": "code",
   "execution_count": 607,
   "metadata": {},
   "outputs": [],
   "source": [
    "# for j in range(10):\n",
    "#     temp=round(random.uniform(1,4))\n",
    "#     if temp==1:\n",
    "#         print(temp,\"one\")\n",
    "#     elif temp==2:\n",
    "#         print(temp)\n",
    "#     elif temp==3:\n",
    "#         print(temp)\n",
    "#     else:\n",
    "#         print(temp)"
   ]
  },
  {
   "cell_type": "code",
   "execution_count": 608,
   "metadata": {},
   "outputs": [
    {
     "data": {
      "text/plain": [
       "150"
      ]
     },
     "execution_count": 608,
     "metadata": {},
     "output_type": "execute_result"
    }
   ],
   "source": [
    "persons_df['Position'].iloc[1][0]"
   ]
  },
  {
   "cell_type": "code",
   "execution_count": 609,
   "metadata": {},
   "outputs": [],
   "source": [
    "# a=[[0, 0, 0, 0, 0, 0, 0],[1,1,1,1,1,1,1]]\n",
    "# # for i in range(1):\n",
    "# #     print(sum(a[:][i]))\n",
    "# a[0][i]+=a[1][i]\n",
    "# print(a)\n",
    "# [value,index]=[max(a[0]),a[0].index(max(a[0]))]\n",
    "# print(value)\n"
   ]
  },
  {
   "cell_type": "code",
   "execution_count": 610,
   "metadata": {},
   "outputs": [],
   "source": [
    "# print(tetta*2)"
   ]
  },
  {
   "cell_type": "code",
   "execution_count": 611,
   "metadata": {},
   "outputs": [],
   "source": [
    "# a=np.ones(5,dtype=np.int16)\n",
    "# a[1]*a[2]\n"
   ]
  },
  {
   "cell_type": "code",
   "execution_count": 612,
   "metadata": {},
   "outputs": [],
   "source": [
    "# a=max([2,3,4],5)\n",
    "# a"
   ]
  },
  {
   "cell_type": "code",
   "execution_count": 613,
   "metadata": {},
   "outputs": [
    {
     "name": "stdout",
     "output_type": "stream",
     "text": [
      "0.13436424411240122 0.10525112810500004\n",
      "0.357301148400125\n",
      "2\n",
      "2\n",
      "0.304675584347625\n",
      "2\n",
      "2\n",
      "0.25205002029512497\n",
      "2\n",
      "2\n",
      "0.19942445624262495\n",
      "2\n",
      "2\n",
      "0.81985342490525\n",
      "2\n",
      "2\n",
      "0.71460229680025\n",
      "2\n",
      "2\n",
      "0.60935116869525\n",
      "2\n",
      "2\n",
      "0.5041000405902499\n",
      "2\n",
      "2\n",
      "1.3876568295153748\n",
      "2\n",
      "2\n",
      "1.229780137357875\n",
      "2\n",
      "2\n",
      "1.071903445200375\n",
      "2\n",
      "2\n",
      "0.914026753042875\n",
      "2\n",
      "2\n",
      "2.0607113622305\n",
      "2.0607113622305\n",
      "2.0607113622305\n",
      "1.8502091060205\n",
      "2\n",
      "2\n",
      "1.6397068498105\n",
      "2\n",
      "2\n",
      "1.4292045936005\n",
      "2\n",
      "2\n"
     ]
    }
   ],
   "source": [
    "x1=[1,2,3,4]\n",
    "x2=[4,3,2,1]\n",
    "random.seed(1)\n",
    "a=random.random()\n",
    "b=np.sin(0.9)*a\n",
    "print(a,b)\n",
    "y=[]\n",
    "varmax=3\n",
    "varmin=2\n",
    "for i in x1:\n",
    "    for j in x2:\n",
    "        c=i*((1-b)+(i+j)/2)*b\n",
    "        print(c)\n",
    "        z=max(c,varmin)\n",
    "        print(z)\n",
    "        z=min(z,varmax)\n",
    "        print(z)\n",
    "        y.append(z)"
   ]
  },
  {
   "cell_type": "code",
   "execution_count": 614,
   "metadata": {},
   "outputs": [
    {
     "name": "stdout",
     "output_type": "stream",
     "text": [
      "[2, 2, 2, 2, 2, 2, 2, 2, 2, 2, 2, 2, 2.0607113622305, 2, 2, 2]\n"
     ]
    }
   ],
   "source": [
    "print(y)"
   ]
  },
  {
   "cell_type": "code",
   "execution_count": 615,
   "metadata": {},
   "outputs": [
    {
     "data": {
      "text/plain": [
       "2"
      ]
     },
     "execution_count": 615,
     "metadata": {},
     "output_type": "execute_result"
    }
   ],
   "source": [
    "max(0.357301148400125,2)"
   ]
  }
 ],
 "metadata": {
  "kernelspec": {
   "display_name": "myenv",
   "language": "python",
   "name": "python3"
  },
  "language_info": {
   "codemirror_mode": {
    "name": "ipython",
    "version": 3
   },
   "file_extension": ".py",
   "mimetype": "text/x-python",
   "name": "python",
   "nbconvert_exporter": "python",
   "pygments_lexer": "ipython3",
   "version": "3.9.10"
  },
  "orig_nbformat": 4,
  "vscode": {
   "interpreter": {
    "hash": "0a817508bf620584500b051b7a05f83321e0518b7353592b64b66dada2243bb7"
   }
  }
 },
 "nbformat": 4,
 "nbformat_minor": 2
}
