{
 "cells": [
  {
   "cell_type": "code",
   "execution_count": 2,
   "metadata": {},
   "outputs": [],
   "source": [
    "p_q=[]\n",
    "import random\n",
    "import numpy as np\n",
    "random.seed(4)\n",
    "#according to fillrate calc other transport qty"
   ]
  },
  {
   "cell_type": "code",
   "execution_count": null,
   "metadata": {},
   "outputs": [],
   "source": [
    "#parameters\n",
    "pci=random.randint()\n",
    "#fixed cost\n",
    "fcj=random.randint()\n",
    "fck=random.randint()\n",
    "fcl=random.randint()\n",
    "fcm=random.randint()\n",
    "fcn=random.randint()\n",
    "fcp=random.randint()\n",
    "fcr=random.randint()\n",
    "fcs=random.randint()\n",
    "#fill rate assumption\n",
    "fill_j=1\n",
    "fill_k=0.99\n",
    "fill_l=0.95\n",
    "#variable cost (manufacturing cost)\n",
    "vcj=random.randint()\n",
    "#Inventory cost\n",
    "invj=random.randint()\n",
    "invk=random.randint()\n",
    "invl=random.randint()\n",
    "invm=random.randint()\n",
    "invn=random.randint()\n",
    "invp=random.randint()\n",
    "invr=random.randint()\n",
    "invs=random.randint()\n",
    "#Transportation cost\n",
    "tcij=random.randint()\n",
    "tcjk=random.randint()\n",
    "tckl=random.randint()\n",
    "tclm=random.randint()\n",
    "tcmn=random.randint()\n",
    "tcmp=random.randint()\n",
    "tcmr=random.randint()\n",
    "tcms=random.randint()\n",
    "tcns=random.randint()\n",
    "tcps=random.randint()\n",
    "tcrs=random.randint()\n",
    "tcri=random.randint()\n",
    "tcpj=random.randint()\n",
    "tcnk=random.randint()\n",
    "#Time present in the inventory\n",
    "invtj=random.randint()\n",
    "invtk=random.randint()\n",
    "invtl=random.randint()\n",
    "invtm=random.randint()\n",
    "invtn=random.randint()\n",
    "invtp=random.randint()\n",
    "invtr=random.randint()\n",
    "invts=random.randint()\n",
    "#Fixed job oppurtunities\n",
    "fjj=random.randint()\n",
    "fjk=random.randint()\n",
    "fjl=random.randint()\n",
    "fjm=random.randint()\n",
    "fjn=random.randint()\n",
    "fjp=random.randint()\n",
    "fjr=random.randint()\n",
    "fjs=random.randint()\n",
    "#Variable job oppurtunities\n",
    "vjj=random.randint()\n",
    "vjk=random.randint()\n",
    "vjl=random.randint()\n",
    "vjm=random.randint()\n",
    "vjn=random.randint()\n",
    "vjp=random.randint()\n",
    "vjr=random.randint()\n",
    "vjs=random.randint()\n",
    "#Capacity\n",
    "pj=random.randint()\n",
    "pk=random.randint()\n",
    "pl=random.randint()\n",
    "pm=random.randint()\n",
    "pn=random.randint()\n",
    "pp=random.randint()\n",
    "pr=random.randint()\n",
    "ps=random.randint()\n",
    "#Distance between facilities\n",
    "dij=random.randint()\n",
    "djk=random.randint()\n",
    "dkl=random.randint()\n",
    "dlm=random.randint()\n",
    "dmn=random.randint()\n",
    "dmp=random.randint()\n",
    "dmr=random.randint()\n",
    "dms=random.randint()\n",
    "dns=random.randint()\n",
    "dps=random.randint()\n",
    "drs=random.randint()\n",
    "dri=random.randint()\n",
    "dpj=random.randint()\n",
    "dnk=random.randint()\n"
   ]
  },
  {
   "cell_type": "code",
   "execution_count": null,
   "metadata": {},
   "outputs": [],
   "source": [
    "#Hyper paramters\n",
    "#Gamma\n",
    "gn=0.9\n",
    "gp=0.9\n",
    "gr=0.9\n",
    "#Monetary gain\n",
    "scd=0.5\n",
    "scm=0.4\n",
    "scr=0.35\n",
    "scu=0.15\n",
    "#Product weight\n",
    "pw=0.450/1000\n",
    "#Social cost of carbon\n",
    "co2e=73.45\n",
    "scc=86\n",
    "#Maximum desired facilities\n",
    "maxi=2\n",
    "maxj=2\n",
    "maxk=3\n",
    "maxl=4\n",
    "maxm=3\n",
    "maxn=2\n",
    "maxp=2\n",
    "maxs=1"
   ]
  },
  {
   "cell_type": "code",
   "execution_count": null,
   "metadata": {},
   "outputs": [],
   "source": [
    "zfc=0\n"
   ]
  },
  {
   "cell_type": "code",
   "execution_count": null,
   "metadata": {},
   "outputs": [],
   "source": [
    "#Cost function\n",
    "def calc_objective(lst):\n",
    "    Yi=np.ones(maxi,dtype=np.int16)\n",
    "    Yj=np.ones(maxj,dtype=np.int16)\n",
    "    Yk=np.ones(maxk,dtype=np.int16)\n",
    "    Yl=np.ones(maxl,dtype=np.int16)\n",
    "    Ym=np.ones(maxm,dtype=np.int16)\n",
    "    Yn=np.ones(maxn,dtype=np.int16)\n",
    "    Yp=np.ones(maxp,dtype=np.int16)\n",
    "    Yr=np.ones(maxr,dtype=np.int16)\n",
    "    Ys=np.ones(maxs,dtype=np.int16)\n",
    "    #cost paramters calc\n",
    "    for i in range(maxi):\n",
    "        zfc+=fcj[i]*Yi[i]\n",
    "    for j in range(maxj):\n",
    "        zfc+=fcj[j]*Yj[j]\n",
    "    for k in range(maxk):\n",
    "            zfc+=fcn[k]*Yk[k]\n",
    "    for l in range(maxl):\n",
    "            zfc+=fcn[l]*Yl[l]\n",
    "    for m in range(maxm):\n",
    "            zfc+=fcn[m]*Ym[m]\n",
    "    for n in range(maxn):\n",
    "            zfc+=fcn[n]*Yn[n]\n",
    "    for p in range(maxp):\n",
    "            zfc+=fcp[p]*Yp[p]\n",
    "    for r in range(maxr):\n",
    "            zfc+=fcr[r]*Yr[r]\n",
    "    for s in range(maxs):\n",
    "            zfc+=fcs[s]*Ys[s]\n",
    "    "
   ]
  },
  {
   "cell_type": "code",
   "execution_count": 8,
   "metadata": {},
   "outputs": [
    {
     "data": {
      "text/plain": [
       "1"
      ]
     },
     "execution_count": 8,
     "metadata": {},
     "output_type": "execute_result"
    }
   ],
   "source": [
    "a=np.ones(5,dtype=np.int16)\n",
    "a[1]*a[2]"
   ]
  }
 ],
 "metadata": {
  "kernelspec": {
   "display_name": "myenv",
   "language": "python",
   "name": "python3"
  },
  "language_info": {
   "codemirror_mode": {
    "name": "ipython",
    "version": 3
   },
   "file_extension": ".py",
   "mimetype": "text/x-python",
   "name": "python",
   "nbconvert_exporter": "python",
   "pygments_lexer": "ipython3",
   "version": "3.9.10"
  },
  "orig_nbformat": 4,
  "vscode": {
   "interpreter": {
    "hash": "0a817508bf620584500b051b7a05f83321e0518b7353592b64b66dada2243bb7"
   }
  }
 },
 "nbformat": 4,
 "nbformat_minor": 2
}
