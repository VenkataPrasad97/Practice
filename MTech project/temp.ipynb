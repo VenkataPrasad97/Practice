{
 "cells": [
  {
   "cell_type": "code",
   "execution_count": 12,
   "metadata": {},
   "outputs": [],
   "source": [
    "import random\n",
    "import numpy as np\n",
    "import pandas as pd\n",
    "import matplotlib.pyplot as plt\n",
    "import copy"
   ]
  },
  {
   "cell_type": "code",
   "execution_count": 13,
   "metadata": {},
   "outputs": [],
   "source": [
    "def generate_random_numbers(min_val, max_val, total_sum, num_elements):\n",
    "    if total_sum < num_elements * min_val or total_sum > num_elements * max_val:\n",
    "        raise ValueError(\"No valid solution exists with the given parameters.\")\n",
    "\n",
    "    remaining_sum = total_sum - num_elements * min_val\n",
    "    random_numbers = [min_val] * num_elements\n",
    "    for i in range(remaining_sum):\n",
    "        idx = random.randint(0, num_elements - 1)\n",
    "        if random_numbers[idx] < max_val:\n",
    "            random_numbers[idx] += 1\n",
    "\n",
    "    return random_numbers"
   ]
  },
  {
   "cell_type": "code",
   "execution_count": 14,
   "metadata": {},
   "outputs": [],
   "source": [
    "lst_pq=[100,200,250,300,500]\n",
    "min_k=50\n",
    "max_k=250"
   ]
  },
  {
   "cell_type": "code",
   "execution_count": 19,
   "metadata": {},
   "outputs": [
    {
     "name": "stdout",
     "output_type": "stream",
     "text": [
      "[50, 50, 101, 99, 125, 125, 142, 158, 230, 250]\n",
      "[17, 18, 15, 17, 15, 18, 35, 32, 34, 34, 29, 36, 41, 41, 43, 45, 42, 38, 49, 47, 46, 56, 45, 57, 85, 75, 70, 81, 88, 81]\n"
     ]
    }
   ],
   "source": [
    "# balance_left=0\n",
    "pq_k=[]\n",
    "pq_l=[]\n",
    "for j in range(len(lst_pq)):\n",
    "    total_sum=lst_pq[j]\n",
    "    temp=generate_random_numbers(min_k, max_k, total_sum, 2)\n",
    "    for k in temp:\n",
    "        pq_k.append(k)\n",
    "    for l in range(len(temp)):\n",
    "        total_sum=temp[l]\n",
    "        min_l=round(min(temp)/4)\n",
    "        max_l=round(max(temp)/2)\n",
    "        temp1=generate_random_numbers(min_l, max_l, total_sum, 3)\n",
    "        for ll in temp1:\n",
    "            pq_l.append(ll)\n",
    "\n",
    "print(pq_k)\n",
    "print(pq_l)"
   ]
  },
  {
   "cell_type": "code",
   "execution_count": 38,
   "metadata": {},
   "outputs": [],
   "source": [
    "J=5\n",
    "K=10\n",
    "L=30\n",
    "M=5"
   ]
  },
  {
   "cell_type": "code",
   "execution_count": 46,
   "metadata": {},
   "outputs": [],
   "source": [
    "pq_jk=np.zeros((J,K),dtype=np.int32)\n",
    "pq_kl=np.zeros((K,L),dtype=np.int32)\n",
    "pq_lm=np.zeros((L,M),dtype=np.int32)"
   ]
  },
  {
   "cell_type": "code",
   "execution_count": 47,
   "metadata": {},
   "outputs": [
    {
     "name": "stdout",
     "output_type": "stream",
     "text": [
      "[[0 0 0 0 0 0 0 0 0 0 0 0 0 0 0 0 0 0 0 0 0 0 0 0 0 0 0 0 0 0]\n",
      " [0 0 0 0 0 0 0 0 0 0 0 0 0 0 0 0 0 0 0 0 0 0 0 0 0 0 0 0 0 0]\n",
      " [0 0 0 0 0 0 0 0 0 0 0 0 0 0 0 0 0 0 0 0 0 0 0 0 0 0 0 0 0 0]\n",
      " [0 0 0 0 0 0 0 0 0 0 0 0 0 0 0 0 0 0 0 0 0 0 0 0 0 0 0 0 0 0]\n",
      " [0 0 0 0 0 0 0 0 0 0 0 0 0 0 0 0 0 0 0 0 0 0 0 0 0 0 0 0 0 0]\n",
      " [0 0 0 0 0 0 0 0 0 0 0 0 0 0 0 0 0 0 0 0 0 0 0 0 0 0 0 0 0 0]\n",
      " [0 0 0 0 0 0 0 0 0 0 0 0 0 0 0 0 0 0 0 0 0 0 0 0 0 0 0 0 0 0]\n",
      " [0 0 0 0 0 0 0 0 0 0 0 0 0 0 0 0 0 0 0 0 0 0 0 0 0 0 0 0 0 0]\n",
      " [0 0 0 0 0 0 0 0 0 0 0 0 0 0 0 0 0 0 0 0 0 0 0 0 0 0 0 0 0 0]\n",
      " [0 0 0 0 0 0 0 0 0 0 0 0 0 0 0 0 0 0 0 0 0 0 0 0 0 0 0 0 0 0]]\n"
     ]
    }
   ],
   "source": [
    "print(pq_kl)"
   ]
  },
  {
   "cell_type": "code",
   "execution_count": 48,
   "metadata": {},
   "outputs": [
    {
     "name": "stdout",
     "output_type": "stream",
     "text": [
      "[[17 18 15  0  0  0  0  0  0  0  0  0  0  0  0  0  0  0  0  0  0  0  0  0\n",
      "   0  0  0  0  0  0]\n",
      " [ 0  0  0 17 15 18  0  0  0  0  0  0  0  0  0  0  0  0  0  0  0  0  0  0\n",
      "   0  0  0  0  0  0]\n",
      " [ 0  0  0  0  0  0 35 32 34  0  0  0  0  0  0  0  0  0  0  0  0  0  0  0\n",
      "   0  0  0  0  0  0]\n",
      " [ 0  0  0  0  0  0  0  0  0 34 29 36  0  0  0  0  0  0  0  0  0  0  0  0\n",
      "   0  0  0  0  0  0]\n",
      " [ 0  0  0  0  0  0  0  0  0  0  0  0 41 41 43  0  0  0  0  0  0  0  0  0\n",
      "   0  0  0  0  0  0]\n",
      " [ 0  0  0  0  0  0  0  0  0  0  0  0  0  0  0 45 42 38  0  0  0  0  0  0\n",
      "   0  0  0  0  0  0]\n",
      " [ 0  0  0  0  0  0  0  0  0  0  0  0  0  0  0  0  0  0 49 47 46  0  0  0\n",
      "   0  0  0  0  0  0]\n",
      " [ 0  0  0  0  0  0  0  0  0  0  0  0  0  0  0  0  0  0  0  0  0 56 45 57\n",
      "   0  0  0  0  0  0]\n",
      " [ 0  0  0  0  0  0  0  0  0  0  0  0  0  0  0  0  0  0  0  0  0  0  0  0\n",
      "  85 75 70  0  0  0]\n",
      " [ 0  0  0  0  0  0  0  0  0  0  0  0  0  0  0  0  0  0  0  0  0  0  0  0\n",
      "   0  0  0 81 88 81]]\n"
     ]
    }
   ],
   "source": [
    "a=0\n",
    "for i in range(len(pq_k)):\n",
    "    for j in range(i*3,(i*3)+3):\n",
    "        pq_kl[i][j]=pq_l[a]\n",
    "        a+=1\n",
    "print(pq_kl)"
   ]
  },
  {
   "cell_type": "code",
   "execution_count": null,
   "metadata": {},
   "outputs": [],
   "source": [
    "#connect functions\n",
    "def connect_1(a_index,d_index,betta,varmin,varmax):\n",
    "    #connect 1 working\n",
    "    a=random.random()\n",
    "    b=np.sin(betta)*a\n",
    "    x1=persons_df.iloc[a_index,0]\n",
    "    x2=persons_df.iloc[d_index,0]\n",
    "    y=[]\n",
    "    for i in range(len(x1)):\n",
    "        c=round(x2[i]*(1-b)+((x1[i]+x2[i])/2)*b)\n",
    "        z=max(c,varmin)\n",
    "        z=min(z,varmax)\n",
    "        y.append(z)\n",
    "    balance=sum(y)-demand\n",
    "    if balance>0:\n",
    "        for i in range(1,balance+1):\n",
    "            max_index=y.index(max(y))\n",
    "            y[max_index]-=1\n",
    "        return y\n",
    "    elif balance<0:\n",
    "        balance=abs(balance)\n",
    "        for i in range(1,balance+1):\n",
    "            min_index=y.index(min(y))\n",
    "            y[min_index]+=1\n",
    "        return y\n",
    "    else:\n",
    "        return y\n",
    "def connect_2(a_index,d_index,betta,varmin,varmax):\n",
    "    x1=persons_df.iloc[a_index,0]\n",
    "    x2=persons_df.iloc[d_index,0]\n",
    "    a=random.random()\n",
    "    b=np.sin(betta)*a\n",
    "    bb=np.cos(betta)*a\n",
    "    y1=[]\n",
    "    y2=[]\n",
    "    for i in range(len(x1)):\n",
    "        c=round((x1[i]*(1-b))+(((x1[i]+x2[i])/2)*b))\n",
    "        cc=round(x2[i]*((1-bb))+((x1[i]+x2[i])/2)*bb)\n",
    "        z=max(c,varmin)\n",
    "        z=min(z,varmax)\n",
    "        y1.append(z)\n",
    "        z=max(cc,varmin)\n",
    "        z=min(z,varmax)\n",
    "        y2.append(z)\n",
    "    balance=sum(y1)-demand\n",
    "    if balance>0:\n",
    "        for i in range(1,balance+1):\n",
    "            max_index=y1.index(max(y1))\n",
    "            y1[max_index]-=1\n",
    "    elif balance<0:\n",
    "        balance=abs(balance)\n",
    "        for i in range(1,balance+1):\n",
    "            min_index=y1.index(min(y1))\n",
    "            y1[min_index]+=1\n",
    "    else:\n",
    "        pass\n",
    "    balance=sum(y2)-demand\n",
    "    if balance>0:\n",
    "        for i in range(1,balance+1):\n",
    "            max_index=y2.index(max(y2))\n",
    "            y2[max_index]-=1\n",
    "    elif balance<0:\n",
    "        balance=abs(balance)\n",
    "        for i in range(1,balance+1):\n",
    "            min_index=y2.index(min(y2))\n",
    "            y2[min_index]+=1\n",
    "    else:\n",
    "        pass\n",
    "    return [y1,y2]\n",
    "def connect_3(a_index,d_index,betta,varmin,varmax):\n",
    "    a=random.random()\n",
    "    b=np.sin(betta)*a\n",
    "    bb=np.cos(betta)*a\n",
    "    x1=persons_df.iloc[a_index,0]\n",
    "    x2=persons_df.iloc[d_index,0]\n",
    "    y=[]\n",
    "    for i in range(len(x1)):\n",
    "        c=round(x2[i]*((1-b))+(((x1[i]*bb)+x2[i])/2)*b)\n",
    "        z=max(c,varmin)\n",
    "        z=min(z,varmax)\n",
    "        y.append(z)\n",
    "    balance=sum(y)-demand\n",
    "    if balance>0:\n",
    "        for i in range(1,balance+1):\n",
    "            max_index=y.index(max(y))\n",
    "            y[max_index]-=1\n",
    "        return y\n",
    "    elif balance<0:\n",
    "        balance=abs(balance)\n",
    "        for i in range(1,balance+1):\n",
    "            min_index=y.index(min(y))\n",
    "            y[min_index]+=1\n",
    "        return y\n",
    "    else:\n",
    "        return y\n",
    "def connect_4(a_index,d_index,betta,varmin,varmax):\n",
    "    a=random.random()\n",
    "    b=np.sin(betta)*a\n",
    "    bb=np.cos(betta)*a\n",
    "    x1=persons_df.iloc[a_index,0]\n",
    "    x2=persons_df.iloc[d_index,0]\n",
    "    y=[]\n",
    "    for i in range(len(x1)):\n",
    "        c=round((x2[i]*(1-b))+((((x2[i]*bb)+x1[i])/2)*b))\n",
    "        z=max(c,varmin)\n",
    "        z=min(z,varmax)\n",
    "        y.append(z)\n",
    "    balance=sum(y)-demand\n",
    "    if balance>0:\n",
    "        for i in range(1,balance+1):\n",
    "            max_index=y.index(max(y))\n",
    "            y[max_index]-=1\n",
    "        return y\n",
    "    elif balance<0:\n",
    "        balance=abs(balance)\n",
    "        for i in range(1,balance+1):\n",
    "            min_index=y.index(min(y))\n",
    "            y[min_index]+=1\n",
    "        return y\n",
    "    else:\n",
    "        return y   "
   ]
  },
  {
   "cell_type": "code",
   "execution_count": 1,
   "metadata": {},
   "outputs": [],
   "source": [
    "import numpy as np\n",
    "import random"
   ]
  },
  {
   "cell_type": "code",
   "execution_count": null,
   "metadata": {},
   "outputs": [],
   "source": [
    "betta=[0.1,0.2,0.3,0.4,0.5,0.6,0.7,0.8,0.9,1]\n",
    "a=[]\n",
    "m=[1,2,3,4,5,6,7,8,9]\n",
    "l=0\n",
    "for i in betta:\n",
    "    for j in m:\n",
    "        b=np.sin(i)*random.random()\n",
    "        c=round(j*(1-b)+((j+j/2)*b))\n",
    "        a.append(c)\n",
    "    \n",
    "\n"
   ]
  },
  {
   "cell_type": "code",
   "execution_count": 5,
   "metadata": {},
   "outputs": [
    {
     "data": {
      "image/png": "[encoded data removed]",
      "text/plain": [
       "<Figure size 432x288 with 1 Axes>"
      ]
     },
     "metadata": {
      "needs_background": "light"
     },
     "output_type": "display_data"
    }
   ],
   "source": [
    "import matplotlib.pyplot as plt\n",
    "import numpy as np\n",
    "\n",
    "x = np.linspace(0, 10, 100)\n",
    "betta = [0.1,0.2,0.3,0.4,0.5,0.6,0.7,0.8,0.9,1]\n",
    "\n",
    "for i in range(len(betta)):\n",
    "    y = x * ((1 - betta[i]) + ((x + 2) / 2) * betta[i])\n",
    "    y = y.reshape((100,))  # reshape y to match the shape of x\n",
    "    plt.plot(x, y, label='betta = {}'.format(betta[i]))\n",
    "\n",
    "plt.xlabel('x')\n",
    "plt.ylabel('y')\n",
    "plt.title('Effect of changing b')\n",
    "plt.legend()\n",
    "plt.show()\n"
   ]
  }
 ],
 "metadata": {
  "kernelspec": {
   "display_name": "myenv",
   "language": "python",
   "name": "python3"
  },
  "language_info": {
   "codemirror_mode": {
    "name": "ipython",
    "version": 3
   },
   "file_extension": ".py",
   "mimetype": "text/x-python",
   "name": "python",
   "nbconvert_exporter": "python",
   "pygments_lexer": "ipython3",
   "version": "3.9.10"
  },
  "orig_nbformat": 4,
  "vscode": {
   "interpreter": {
    "hash": "0a817508bf620584500b051b7a05f83321e0518b7353592b64b66dada2243bb7"
   }
  }
 },
 "nbformat": 4,
 "nbformat_minor": 2
}
