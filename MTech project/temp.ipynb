{
 "cells": [
  {
   "cell_type": "code",
   "execution_count": 12,
   "metadata": {},
   "outputs": [],
   "source": [
    "import random\n",
    "import numpy as np\n",
    "import pandas as pd\n",
    "import matplotlib.pyplot as plt\n",
    "import copy"
   ]
  },
  {
   "cell_type": "code",
   "execution_count": 13,
   "metadata": {},
   "outputs": [],
   "source": [
    "def generate_random_numbers(min_val, max_val, total_sum, num_elements):\n",
    "    if total_sum < num_elements * min_val or total_sum > num_elements * max_val:\n",
    "        raise ValueError(\"No valid solution exists with the given parameters.\")\n",
    "\n",
    "    remaining_sum = total_sum - num_elements * min_val\n",
    "    random_numbers = [min_val] * num_elements\n",
    "    for i in range(remaining_sum):\n",
    "        idx = random.randint(0, num_elements - 1)\n",
    "        if random_numbers[idx] < max_val:\n",
    "            random_numbers[idx] += 1\n",
    "\n",
    "    return random_numbers"
   ]
  },
  {
   "cell_type": "code",
   "execution_count": 14,
   "metadata": {},
   "outputs": [],
   "source": [
    "lst_pq=[100,200,250,300,500]\n",
    "min_k=50\n",
    "max_k=250"
   ]
  },
  {
   "cell_type": "code",
   "execution_count": 19,
   "metadata": {},
   "outputs": [
    {
     "name": "stdout",
     "output_type": "stream",
     "text": [
      "[50, 50, 101, 99, 125, 125, 142, 158, 230, 250]\n",
      "[17, 18, 15, 17, 15, 18, 35, 32, 34, 34, 29, 36, 41, 41, 43, 45, 42, 38, 49, 47, 46, 56, 45, 57, 85, 75, 70, 81, 88, 81]\n"
     ]
    }
   ],
   "source": [
    "# balance_left=0\n",
    "pq_k=[]\n",
    "pq_l=[]\n",
    "for j in range(len(lst_pq)):\n",
    "    total_sum=lst_pq[j]\n",
    "    temp=generate_random_numbers(min_k, max_k, total_sum, 2)\n",
    "    for k in temp:\n",
    "        pq_k.append(k)\n",
    "    for l in range(len(temp)):\n",
    "        total_sum=temp[l]\n",
    "        min_l=round(min(temp)/4)\n",
    "        max_l=round(max(temp)/2)\n",
    "        temp1=generate_random_numbers(min_l, max_l, total_sum, 3)\n",
    "        for ll in temp1:\n",
    "            pq_l.append(ll)\n",
    "\n",
    "print(pq_k)\n",
    "print(pq_l)"
   ]
  },
  {
   "cell_type": "code",
   "execution_count": 38,
   "metadata": {},
   "outputs": [],
   "source": [
    "J=5\n",
    "K=10\n",
    "L=30\n",
    "M=5"
   ]
  },
  {
   "cell_type": "code",
   "execution_count": 46,
   "metadata": {},
   "outputs": [],
   "source": [
    "pq_jk=np.zeros((J,K),dtype=np.int32)\n",
    "pq_kl=np.zeros((K,L),dtype=np.int32)\n",
    "pq_lm=np.zeros((L,M),dtype=np.int32)"
   ]
  },
  {
   "cell_type": "code",
   "execution_count": 47,
   "metadata": {},
   "outputs": [
    {
     "name": "stdout",
     "output_type": "stream",
     "text": [
      "[[0 0 0 0 0 0 0 0 0 0 0 0 0 0 0 0 0 0 0 0 0 0 0 0 0 0 0 0 0 0]\n",
      " [0 0 0 0 0 0 0 0 0 0 0 0 0 0 0 0 0 0 0 0 0 0 0 0 0 0 0 0 0 0]\n",
      " [0 0 0 0 0 0 0 0 0 0 0 0 0 0 0 0 0 0 0 0 0 0 0 0 0 0 0 0 0 0]\n",
      " [0 0 0 0 0 0 0 0 0 0 0 0 0 0 0 0 0 0 0 0 0 0 0 0 0 0 0 0 0 0]\n",
      " [0 0 0 0 0 0 0 0 0 0 0 0 0 0 0 0 0 0 0 0 0 0 0 0 0 0 0 0 0 0]\n",
      " [0 0 0 0 0 0 0 0 0 0 0 0 0 0 0 0 0 0 0 0 0 0 0 0 0 0 0 0 0 0]\n",
      " [0 0 0 0 0 0 0 0 0 0 0 0 0 0 0 0 0 0 0 0 0 0 0 0 0 0 0 0 0 0]\n",
      " [0 0 0 0 0 0 0 0 0 0 0 0 0 0 0 0 0 0 0 0 0 0 0 0 0 0 0 0 0 0]\n",
      " [0 0 0 0 0 0 0 0 0 0 0 0 0 0 0 0 0 0 0 0 0 0 0 0 0 0 0 0 0 0]\n",
      " [0 0 0 0 0 0 0 0 0 0 0 0 0 0 0 0 0 0 0 0 0 0 0 0 0 0 0 0 0 0]]\n"
     ]
    }
   ],
   "source": [
    "print(pq_kl)"
   ]
  },
  {
   "cell_type": "code",
   "execution_count": 48,
   "metadata": {},
   "outputs": [
    {
     "name": "stdout",
     "output_type": "stream",
     "text": [
      "[[17 18 15  0  0  0  0  0  0  0  0  0  0  0  0  0  0  0  0  0  0  0  0  0\n",
      "   0  0  0  0  0  0]\n",
      " [ 0  0  0 17 15 18  0  0  0  0  0  0  0  0  0  0  0  0  0  0  0  0  0  0\n",
      "   0  0  0  0  0  0]\n",
      " [ 0  0  0  0  0  0 35 32 34  0  0  0  0  0  0  0  0  0  0  0  0  0  0  0\n",
      "   0  0  0  0  0  0]\n",
      " [ 0  0  0  0  0  0  0  0  0 34 29 36  0  0  0  0  0  0  0  0  0  0  0  0\n",
      "   0  0  0  0  0  0]\n",
      " [ 0  0  0  0  0  0  0  0  0  0  0  0 41 41 43  0  0  0  0  0  0  0  0  0\n",
      "   0  0  0  0  0  0]\n",
      " [ 0  0  0  0  0  0  0  0  0  0  0  0  0  0  0 45 42 38  0  0  0  0  0  0\n",
      "   0  0  0  0  0  0]\n",
      " [ 0  0  0  0  0  0  0  0  0  0  0  0  0  0  0  0  0  0 49 47 46  0  0  0\n",
      "   0  0  0  0  0  0]\n",
      " [ 0  0  0  0  0  0  0  0  0  0  0  0  0  0  0  0  0  0  0  0  0 56 45 57\n",
      "   0  0  0  0  0  0]\n",
      " [ 0  0  0  0  0  0  0  0  0  0  0  0  0  0  0  0  0  0  0  0  0  0  0  0\n",
      "  85 75 70  0  0  0]\n",
      " [ 0  0  0  0  0  0  0  0  0  0  0  0  0  0  0  0  0  0  0  0  0  0  0  0\n",
      "   0  0  0 81 88 81]]\n"
     ]
    }
   ],
   "source": [
    "a=0\n",
    "for i in range(len(pq_k)):\n",
    "    for j in range(i*3,(i*3)+3):\n",
    "        pq_kl[i][j]=pq_l[a]\n",
    "        a+=1\n",
    "print(pq_kl)"
   ]
  }
 ],
 "metadata": {
  "kernelspec": {
   "display_name": "myenv",
   "language": "python",
   "name": "python3"
  },
  "language_info": {
   "codemirror_mode": {
    "name": "ipython",
    "version": 3
   },
   "file_extension": ".py",
   "mimetype": "text/x-python",
   "name": "python",
   "nbconvert_exporter": "python",
   "pygments_lexer": "ipython3",
   "version": "3.9.10"
  },
  "orig_nbformat": 4,
  "vscode": {
   "interpreter": {
    "hash": "0a817508bf620584500b051b7a05f83321e0518b7353592b64b66dada2243bb7"
   }
  }
 },
 "nbformat": 4,
 "nbformat_minor": 2
}
