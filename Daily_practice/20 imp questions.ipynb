{
 "cells": [
  {
   "attachments": {},
   "cell_type": "markdown",
   "metadata": {},
   "source": [
    "Count the consonants and vowels in your name.\n",
    "Input : “Udit Gupta”\n",
    "Output : [4,5]\n",
    "Explanation: Vowels = 4 (“U”, “i”, “u”, “a”], Consonants = 5 (“d”,”t”,”G”,”p”,”t”)"
   ]
  },
  {
   "cell_type": "code",
   "execution_count": 8,
   "metadata": {},
   "outputs": [
    {
     "name": "stdout",
     "output_type": "stream",
     "text": [
      "5 8\n"
     ]
    }
   ],
   "source": [
    "#in_str=input()\n",
    "in_str=\"Venkata Prasad\"\n",
    "a=[]\n",
    "b=[]\n",
    "for i in range(len(in_str)):\n",
    "    if in_str[i] in ['a','e','i','o','u','A','E','I','O','U']:\n",
    "        a.append(in_str[i])\n",
    "    elif in_str[i] == \" \":\n",
    "        pass\n",
    "    else:\n",
    "        b.append(in_str[i])\n",
    "print(len(a),len(b))"
   ]
  },
  {
   "attachments": {},
   "cell_type": "markdown",
   "metadata": {},
   "source": [
    "Check whether the given string is palindromic or not.\n",
    "Input: “naman”\n",
    "Output: True\n",
    "Explanation: Pallindrome is the word which looks similar to the original after reversing the word."
   ]
  },
  {
   "cell_type": "code",
   "execution_count": 25,
   "metadata": {},
   "outputs": [
    {
     "name": "stdout",
     "output_type": "stream",
     "text": [
      "Palindrome\n"
     ]
    }
   ],
   "source": [
    "in_str=\"madam\"\n",
    "#in_str=input()\n",
    "a=0\n",
    "for i in range(len(in_str)):\n",
    "    if in_str[i]==in_str[-i-1]:\n",
    "        a+=1\n",
    "if a==len(in_str):\n",
    "    print(\"Palindrome\")\n",
    "else:\n",
    "    print(\"Not Palindrome\")"
   ]
  },
  {
   "cell_type": "code",
   "execution_count": 26,
   "metadata": {},
   "outputs": [
    {
     "name": "stdout",
     "output_type": "stream",
     "text": [
      "Palindrome\n"
     ]
    }
   ],
   "source": [
    "in_str=\"MADAM\"\n",
    "if in_str==in_str[::-1]:\n",
    "    print(\"Palindrome\")\n",
    "else:\n",
    "    print(\"Not Palindrome\")"
   ]
  },
  {
   "attachments": {},
   "cell_type": "markdown",
   "metadata": {},
   "source": [
    "Reverse Integer. (a. by string method, b. by mathematical formulation)\n",
    "Input: n = 321\n",
    "Output: 123\n"
   ]
  },
  {
   "cell_type": "code",
   "execution_count": 27,
   "metadata": {},
   "outputs": [
    {
     "name": "stdout",
     "output_type": "stream",
     "text": [
      "123\n"
     ]
    }
   ],
   "source": [
    "in_num=321\n",
    "in_str=str(in_num)\n",
    "print(in_str[::-1])"
   ]
  },
  {
   "cell_type": "code",
   "execution_count": 2,
   "metadata": {},
   "outputs": [
    {
     "name": "stdout",
     "output_type": "stream",
     "text": [
      "983\n"
     ]
    }
   ],
   "source": [
    "#in_num=int(input())\n",
    "in_num=389\n",
    "s=in_num\n",
    "out_num=0\n",
    "while s!=0:\n",
    "    out_num=out_num*10+s%10\n",
    "    s=s//10\n",
    "print(out_num)"
   ]
  },
  {
   "attachments": {},
   "cell_type": "markdown",
   "metadata": {},
   "source": [
    "Count odd, even number.\n",
    "Input: arr = [2, 16, 19, 0, 5, 10]\n",
    "Output: [4,2]"
   ]
  },
  {
   "cell_type": "code",
   "execution_count": 30,
   "metadata": {},
   "outputs": [
    {
     "name": "stdout",
     "output_type": "stream",
     "text": [
      "[4, 2]\n"
     ]
    }
   ],
   "source": [
    "#in_arr=input.split()\n",
    "in_arr=[2, 16, 19, 0, 5, 10]\n",
    "a=[]\n",
    "b=[]\n",
    "for i in in_arr:\n",
    "    if i%2==0:\n",
    "        a.append(i)\n",
    "    else:\n",
    "        b.append(i)\n",
    "print([len(a),len(b)])"
   ]
  },
  {
   "attachments": {},
   "cell_type": "markdown",
   "metadata": {},
   "source": [
    "Given an array of integers nums and an integer target, return indices of the two numbers such that they add up to target.\n",
    "\n",
    "You may assume that each input would have exactly one solution, and you may not use the same element twice.\n",
    "\n",
    "You can return the answer in any order.\n",
    "\n",
    "Input: nums = [2,7,11,15], target = 9\n",
    "Output: [0,1]\n",
    "Explanation: Because nums[0] + nums[1] == 9, we return [0, 1]."
   ]
  },
  {
   "cell_type": "code",
   "execution_count": 6,
   "metadata": {},
   "outputs": [
    {
     "name": "stdout",
     "output_type": "stream",
     "text": [
      "[0, 1]\n"
     ]
    }
   ],
   "source": [
    "in_arr=[2,7,11,15]\n",
    "target=9\n",
    "for i in range(len(in_arr)):\n",
    "    bal=target-in_arr[i]\n",
    "    if bal in in_arr:\n",
    "        print([i,in_arr.index(bal)])\n",
    "        break"
   ]
  },
  {
   "cell_type": "code",
   "execution_count": 44,
   "metadata": {},
   "outputs": [
    {
     "name": "stdout",
     "output_type": "stream",
     "text": [
      "['World', 'Hello']\n"
     ]
    }
   ],
   "source": [
    "in_str=\"Hello World\"\n",
    "arr_str=in_str.split()\n",
    "a=arr_str[::-1]\n",
    "print(a)\n"
   ]
  },
  {
   "cell_type": "code",
   "execution_count": 100,
   "metadata": {},
   "outputs": [
    {
     "data": {
      "text/plain": [
       "'lhp'"
      ]
     },
     "execution_count": 100,
     "metadata": {},
     "output_type": "execute_result"
    }
   ],
   "source": [
    "a='h'\n",
    "b='lp'\n",
    "a.join(b)"
   ]
  },
  {
   "cell_type": "code",
   "execution_count": 41,
   "metadata": {},
   "outputs": [
    {
     "name": "stdout",
     "output_type": "stream",
     "text": [
      "No\n",
      "yes\n"
     ]
    }
   ],
   "source": [
    "def venkat():\n",
    "    print(\"No\")\n",
    "    return 'yes'\n",
    "#venkat()\n",
    "#print(venkat())\n",
    "a=venkat()\n",
    "print(a)"
   ]
  },
  {
   "cell_type": "code",
   "execution_count": 43,
   "metadata": {},
   "outputs": [
    {
     "name": "stdout",
     "output_type": "stream",
     "text": [
      "[1, 2, 3, -1, -2, -3]\n"
     ]
    }
   ],
   "source": [
    "a=[1,2,3]\n",
    "b=[-1,-2,-3]\n",
    "#c=[1,2,3]+[-1,-2,-3]\n",
    "c=a+b\n",
    "print(c)"
   ]
  },
  {
   "cell_type": "code",
   "execution_count": 4,
   "metadata": {},
   "outputs": [
    {
     "name": "stdout",
     "output_type": "stream",
     "text": [
      "5 6\n"
     ]
    }
   ],
   "source": [
    "def no():\n",
    "    return 5,6,7,8\n",
    "a,b,_,_=no()\n",
    "print(a,b)"
   ]
  },
  {
   "cell_type": "code",
   "execution_count": 5,
   "metadata": {},
   "outputs": [
    {
     "name": "stdout",
     "output_type": "stream",
     "text": [
      "10000000.0\n"
     ]
    }
   ],
   "source": [
    "amount = 10_000_000.0\n",
    "print(amount)"
   ]
  },
  {
   "cell_type": "code",
   "execution_count": 10,
   "metadata": {},
   "outputs": [
    {
     "name": "stdout",
     "output_type": "stream",
     "text": [
      "10\n"
     ]
    }
   ],
   "source": [
    "class Myclass:\n",
    "    def __init__(self):\n",
    "        self.__variable = 10\n",
    " \n",
    "    def func(self):\n",
    "        print(self.__variable)\n",
    "a=Myclass()\n",
    "a.func()"
   ]
  }
 ],
 "metadata": {
  "kernelspec": {
   "display_name": "myenv",
   "language": "python",
   "name": "python3"
  },
  "language_info": {
   "codemirror_mode": {
    "name": "ipython",
    "version": 3
   },
   "file_extension": ".py",
   "mimetype": "text/x-python",
   "name": "python",
   "nbconvert_exporter": "python",
   "pygments_lexer": "ipython3",
   "version": "3.9.10"
  },
  "orig_nbformat": 4,
  "vscode": {
   "interpreter": {
    "hash": "0a817508bf620584500b051b7a05f83321e0518b7353592b64b66dada2243bb7"
   }
  }
 },
 "nbformat": 4,
 "nbformat_minor": 2
}
