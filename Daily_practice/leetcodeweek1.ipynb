{
 "cells": [
  {
   "cell_type": "code",
   "execution_count": 16,
   "metadata": {},
   "outputs": [
    {
     "name": "stdout",
     "output_type": "stream",
     "text": [
      "False\n"
     ]
    }
   ],
   "source": [
    "#Leet code 217\n",
    "'''nums=[1,2,3,4]\n",
    "for i in range(len(nums)):\n",
    "    for j in range(i+1,len(nums)):\n",
    "        if nums[i]==nums[j]:\n",
    "            print('true')\n",
    "print('false')\n",
    "'''\n",
    "nums=[1,2,3,4]\n",
    "print(len(nums) != len(set(nums)))"
   ]
  },
  {
   "cell_type": "code",
   "execution_count": 17,
   "metadata": {},
   "outputs": [
    {
     "name": "stdout",
     "output_type": "stream",
     "text": [
      "6\n",
      "6\n"
     ]
    }
   ],
   "source": [
    "#Leet code 53\n",
    "nums=[-2,1,-3,4,-1,2,1,-5,4]\n",
    "a=[]\n",
    "for i in range(len(nums)):\n",
    "    s=nums[i]\n",
    "    for j in range(i+1,len(nums)):\n",
    "        s+=nums[j]\n",
    "        a.append(s)\n",
    "print(max(a))\n",
    "#         a=nums[0]\n",
    "#         b=len(nums)\n",
    "#         s=0\n",
    "#       if b==1:\n",
    "#           return nums[0]\n",
    "#         for i in range(b):\n",
    "#             s=nums[i]\n",
    "#             for j in range(i+1,b):\n",
    "#                 s=max(s+nums[j],nums[j])\n",
    "#                 a=max(a,s)\n",
    "#         return a\n",
    "##optimsed code\n",
    "nums=[-2,1,-3,4,-1,2,1,-5,4]\n",
    "maxsub=nums[0]\n",
    "cursum=0\n",
    "for n in nums:\n",
    "    if cursum<0:\n",
    "        cursum=0\n",
    "    cursum+=n\n",
    "    maxsub=max(maxsub,cursum)\n",
    "print(maxsub)"
   ]
  },
  {
   "cell_type": "code",
   "execution_count": 18,
   "metadata": {},
   "outputs": [
    {
     "name": "stdout",
     "output_type": "stream",
     "text": [
      "3\n"
     ]
    }
   ],
   "source": [
    "n ='00000000000000000000000000001011'\n",
    "res=[x for x in n if x!='0']\n",
    "print(len(res))"
   ]
  },
  {
   "cell_type": "code",
   "execution_count": 19,
   "metadata": {},
   "outputs": [
    {
     "name": "stdout",
     "output_type": "stream",
     "text": [
      "[1, 2, 2, 3, 5, 6]\n"
     ]
    }
   ],
   "source": [
    "nums1=[1,2,3,0,0,0]\n",
    "m=3\n",
    "nums2=[2,5,6]\n",
    "n=3\n",
    "nums1=nums1[:m]\n",
    "nums2=nums2[:n]\n",
    "nums1.extend(nums2)\n",
    "nums1=sorted(nums1)\n",
    "print(nums1)"
   ]
  },
  {
   "cell_type": "code",
   "execution_count": 20,
   "metadata": {},
   "outputs": [
    {
     "ename": "IndentationError",
     "evalue": "expected an indented block (3415415605.py, line 5)",
     "output_type": "error",
     "traceback": [
      "\u001b[1;36m  Input \u001b[1;32mIn [20]\u001b[1;36m\u001b[0m\n\u001b[1;33m    if target<nums[l//2]:\u001b[0m\n\u001b[1;37m    ^\u001b[0m\n\u001b[1;31mIndentationError\u001b[0m\u001b[1;31m:\u001b[0m expected an indented block\n"
     ]
    }
   ],
   "source": [
    "nums=[-1,0,3,5,9,12]\n",
    "target=9\n",
    "l=len(nums)\n",
    "while i!=target:\n",
    "if target<nums[l//2]:\n",
    "    nums[:l//2]\n",
    "    i=nums[0]\n",
    "else:\n",
    "    nums[l//2:]\n",
    "    i=nums[0]"
   ]
  },
  {
   "cell_type": "code",
   "execution_count": null,
   "metadata": {},
   "outputs": [
    {
     "name": "stdout",
     "output_type": "stream",
     "text": [
      "[0, 1, 9, 16, 100]\n"
     ]
    }
   ],
   "source": [
    "nums=[-4,-1,0,3,10]\n",
    "a=len(nums)\n",
    "for i in range(a):\n",
    "    nums[i]*=nums[i]\n",
    "nums.sort()\n",
    "print(nums)\n",
    "# class Solution:\n",
    "#     def sortedSquares(self, nums: List[int]) -> List[int]:\n",
    "#         left = 0\n",
    "#         right = len(nums) - 1 \n",
    "#         i = len(nums) - 1 \n",
    "#         a = [0]*len(nums)\n",
    "#         while i >= 0 : #-4,-1,0,3,10  -4<10  0<4\n",
    "#             if nums[left] * -1 < nums[right]:  \n",
    "#                 a[i] = nums[right] * nums[right] \n",
    "#                 right -= 1 \n",
    "#             else:\n",
    "#                 a[i] = nums[left] * nums[left] \n",
    "#                 left += 1  \n",
    "#             i -= 1\n",
    "\n",
    "#         return a"
   ]
  },
  {
   "cell_type": "code",
   "execution_count": null,
   "metadata": {},
   "outputs": [
    {
     "name": "stdout",
     "output_type": "stream",
     "text": [
      "[5, 6, 7]\n",
      "[5, 6, 7, 1, 2, 3, 1]\n"
     ]
    }
   ],
   "source": [
    "nums=[1,2,3,4,5,6,7]\n",
    "k=3\n",
    "a=len(nums)\n",
    "b=nums[a-k:a]\n",
    "print(b)\n",
    "for i in range(a-k):\n",
    "    nums[i+k]=nums[i]\n",
    "nums[:k]=b\n",
    "print(nums)"
   ]
  },
  {
   "cell_type": "code",
   "execution_count": null,
   "metadata": {},
   "outputs": [
    {
     "name": "stdout",
     "output_type": "stream",
     "text": [
      "[2, 1]\n"
     ]
    }
   ],
   "source": [
    "nums=[1,2]\n",
    "k=5\n",
    "a=len(nums)\n",
    "if k>a:\n",
    "    k=k%a\n",
    "b=nums[a-k:a]\n",
    "nums[:]=b[:]+nums[:a-k]\n",
    "print(nums)"
   ]
  },
  {
   "cell_type": "code",
   "execution_count": null,
   "metadata": {},
   "outputs": [
    {
     "name": "stdout",
     "output_type": "stream",
     "text": [
      "0\n"
     ]
    }
   ],
   "source": [
    "print(5%5)"
   ]
  },
  {
   "cell_type": "code",
   "execution_count": null,
   "metadata": {},
   "outputs": [],
   "source": [
    "        if sum(nums[1:len(nums)])==0:\n",
    "            return 0\n",
    "        for i in range(1,len(nums)-1):\n",
    "            if sum(nums[:i])==sum(nums[i+1:]):\n",
    "                return i\n",
    "        if sum(nums[:len(nums)-1])==0:\n",
    "            return len(nums)-1\n",
    "        return -1"
   ]
  },
  {
   "cell_type": "code",
   "execution_count": null,
   "metadata": {},
   "outputs": [
    {
     "name": "stdout",
     "output_type": "stream",
     "text": [
      "['o', 'l', 'l', 'e', 'h']\n"
     ]
    }
   ],
   "source": [
    "s = [\"h\",\"e\",\"l\",\"l\",\"o\"]\n",
    "for i in range(len(s)//2):\n",
    "    s[i],s[-(i+1)]=s[-(i+1)],s[i]\n",
    "print(s)"
   ]
  },
  {
   "cell_type": "code",
   "execution_count": null,
   "metadata": {},
   "outputs": [
    {
     "name": "stdout",
     "output_type": "stream",
     "text": [
      "s'teL ekat edoCteeL tsetnoc\n"
     ]
    }
   ],
   "source": [
    "s = \"Let's take LeetCode contest\"\n",
    "t=s.split()\n",
    "s=\"\"\n",
    "for i in t:\n",
    "    s+=i[::-1]\n",
    "    s+=\" \"\n",
    "print(s.strip())"
   ]
  },
  {
   "cell_type": "code",
   "execution_count": 21,
   "metadata": {},
   "outputs": [
    {
     "name": "stdout",
     "output_type": "stream",
     "text": [
      "0\n"
     ]
    }
   ],
   "source": [
    "nums=[1,2,1,10]\n",
    "a=0\n",
    "for i in range(len(nums)):\n",
    "    for j in range(i+1,len(nums)):\n",
    "        for k in range(j+1,len(nums)):\n",
    "            if nums[i]+nums[j]>nums[k] and nums[j]+nums[k]>nums[i] and nums[i]+nums[k]>nums[j]:\n",
    "                a=nums[i]+nums[j]+nums[k]\n",
    "\n",
    "if a==0:\n",
    "    print(0)\n",
    "else:\n",
    "    print(a)         "
   ]
  },
  {
   "cell_type": "code",
   "execution_count": 25,
   "metadata": {},
   "outputs": [
    {
     "name": "stdout",
     "output_type": "stream",
     "text": [
      "8\n",
      "0\n",
      "[0]\n"
     ]
    }
   ],
   "source": [
    "nums=[1,2,1,10]\n",
    "nums.sort(reverse=True)\n",
    "i=0\n",
    "a=0\n",
    "l=len(nums)\n",
    "b=[0]\n",
    "while i<=l-1:\n",
    "    balance=nums[i]-nums[i+1]\n",
    "    print(balance)\n",
    "    m=[j for j in range(i+2,l) if nums[j]>balance]\n",
    "    for j in m:\n",
    "        a=nums[i]+nums[i+1]+nums[j]\n",
    "        b.append(a)\n",
    "        print(b)\n",
    "    i+=2\n",
    "print(b)"
   ]
  },
  {
   "cell_type": "code",
   "execution_count": 39,
   "metadata": {},
   "outputs": [
    {
     "name": "stdout",
     "output_type": "stream",
     "text": [
      "2\n"
     ]
    }
   ],
   "source": [
    "x,y=3,4\n",
    "points=[[1,2],[3,1],[2,4],[2,3],[4,4]]\n",
    "dic1={}\n",
    "a=0\n",
    "index=0\n",
    "for i,j in points:\n",
    "    if x==i or y==j:\n",
    "        md=abs(x-i)+abs(y-j)\n",
    "        dic1[a]=md\n",
    "    a+=1\n",
    "ans=min(dic1.values())\n",
    "for k,v in dic1.items():\n",
    "    if v==ans:\n",
    "        index=k\n",
    "        break\n",
    "print(index)\n"
   ]
  },
  {
   "cell_type": "code",
   "execution_count": 43,
   "metadata": {},
   "outputs": [
    {
     "name": "stdout",
     "output_type": "stream",
     "text": [
      "3\n"
     ]
    }
   ],
   "source": [
    "nums = [1,7,3,6,5,6]\n",
    "# if len(nums)==1:\n",
    "#     print()\n",
    "for i in range(len(nums)-1):\n",
    "    if sum(nums[i+1:])==sum(nums[:i]) or sum(nums[i+1:])==0 or sum(nums[:i])==0:\n",
    "        print(i)"
   ]
  },
  {
   "cell_type": "code",
   "execution_count": 62,
   "metadata": {},
   "outputs": [
    {
     "name": "stdout",
     "output_type": "stream",
     "text": [
      "8310\n"
     ]
    }
   ],
   "source": [
    "# nums = [1,7,3,6,5,6]\n",
    "nums=[1,2,5,3,5,0,0,0,0]\n",
    "#nums=[-1,-1,1,1,-1,-1]\n",
    "# if len(nums)==1:\n",
    "#     print()\n",
    "for i in range(len(nums)):\n",
    "    if sum(nums[i+1:])==sum(nums[:i]) or (sum(nums[i+1:])==0 and i==0) or (sum(nums[:i])==0 and (i!=0 and sum(nums[i+1:])==0)):\n",
    "        print(i)"
   ]
  },
  {
   "cell_type": "code",
   "execution_count": 63,
   "metadata": {},
   "outputs": [
    {
     "name": "stdout",
     "output_type": "stream",
     "text": [
      "973\n"
     ]
    }
   ],
   "source": [
    "print(nums[8310]"
   ]
  },
  {
   "cell_type": "code",
   "execution_count": 133,
   "metadata": {},
   "outputs": [
    {
     "name": "stdout",
     "output_type": "stream",
     "text": [
      "['alice,50,100,mtv', 'alice,50,100,mtv', 'alice,51,100,frankfurt']\n"
     ]
    }
   ],
   "source": [
    "#transactions=[\"alice,20,800,mtv\",\"alice,50,1200,mtv\"]\n",
    "transactions=[\"alice,20,800,mtv\",\"alice,50,100,mtv\",\"alice,51,100,frankfurt\"]\n",
    "iter=0\n",
    "invalid_trans=[]\n",
    "for i in transactions:\n",
    "    j=i.split(',')\n",
    "    if iter==0:\n",
    "        prev_trans=j.copy()\n",
    "        iter+=1\n",
    "        prev_i=i\n",
    "        continue\n",
    "    if prev_trans[0]==j[0] and int(j[1])-int(prev_trans[1])<=60 and prev_trans[3]!=j[3]:\n",
    "        invalid_trans.append(prev_i)\n",
    "    if eval(j[2])>1000 or (prev_trans[0]==j[0] and int(j[1])-int(prev_trans[1])<=60):\n",
    "        invalid_trans.append(i)\n",
    "    prev_trans=j.copy()\n",
    "    prev_i=i\n",
    "print(invalid_trans)"
   ]
  },
  {
   "cell_type": "code",
   "execution_count": 106,
   "metadata": {},
   "outputs": [
    {
     "name": "stdout",
     "output_type": "stream",
     "text": [
      "500\n"
     ]
    }
   ],
   "source": [
    "a=['500']\n",
    "if eval(a[0])==500:\n",
    "    print('500')"
   ]
  },
  {
   "cell_type": "code",
   "execution_count": 142,
   "metadata": {},
   "outputs": [
    {
     "name": "stdout",
     "output_type": "stream",
     "text": [
      "alice,20,800,mtv\n",
      "alice,50,100,mtv\n",
      "alice,51,100,frankfurt\n",
      "[['alice', '20', '800', 'mtv'], ['alice', '50', '100', 'mtv'], ['alice', '51', '100', 'frankfurt']]\n",
      "['alice', '50', '100', 'mtv']\n"
     ]
    }
   ],
   "source": [
    "transactions=[\"alice,20,800,mtv\",\"alice,50,100,mtv\",\"alice,51,100,frankfurt\"]\n",
    "list1=[]\n",
    "for i in transactions:\n",
    "    print(i)\n",
    "    j=i.split(',')\n",
    "    list1.append(j)\n",
    "print(list1)\n"
   ]
  },
  {
   "cell_type": "code",
   "execution_count": 151,
   "metadata": {},
   "outputs": [
    {
     "name": "stdout",
     "output_type": "stream",
     "text": [
      "{'alice': ('51', '100')}\n"
     ]
    }
   ],
   "source": [
    "transactions=[\"alice,20,800,mtv\",\"alice,50,100,mtv\",\"alice,51,100,frankfurt\"]\n",
    "list1=[]\n",
    "dic1={}\n",
    "for i in transactions:\n",
    "    # print(i)\n",
    "    j=i.split(',')\n",
    "    list1.append(j)\n",
    "for m in range(len(transactions)):\n",
    "    dic1[list1[m][0]]=(list1[m][1],list1[m][2])\n",
    "print(dic1)"
   ]
  },
  {
   "cell_type": "code",
   "execution_count": 7,
   "metadata": {},
   "outputs": [
    {
     "name": "stdout",
     "output_type": "stream",
     "text": [
      "[4, 5, 6]\n"
     ]
    }
   ],
   "source": [
    "head=[1,2,3,4,5,6]\n",
    "len_list=len(head)\n",
    "mid=(len_list//2)\n",
    "print(head[mid:])"
   ]
  },
  {
   "cell_type": "code",
   "execution_count": 31,
   "metadata": {},
   "outputs": [
    {
     "name": "stdout",
     "output_type": "stream",
     "text": [
      "d\n",
      "dv\n",
      "df\n",
      "['dv', 'df']\n",
      "2\n"
     ]
    }
   ],
   "source": [
    "s=\"dvdf\"\n",
    "ans=''\n",
    "a,b=[],[]\n",
    "for i in s:\n",
    "    if i not in ans:\n",
    "        ans=ans+i\n",
    "        print(ans)\n",
    "    else:\n",
    "        a.append(ans)\n",
    "        ans=i\n",
    "a.append(ans)\n",
    "print(a)\n",
    "for i in a:\n",
    "    b.append(len(i))\n",
    "print(max(b))"
   ]
  },
  {
   "cell_type": "code",
   "execution_count": null,
   "metadata": {},
   "outputs": [],
   "source": [
    "arr=[16,22,35,8,20,1,21,11]\n",
    "total=sum(arr)\n"
   ]
  },
  {
   "cell_type": "code",
   "execution_count": 33,
   "metadata": {},
   "outputs": [
    {
     "name": "stdout",
     "output_type": "stream",
     "text": [
      "{'o', 'H', 'l', 'e'}\n",
      "{'a', 'l', 'p', 'e'}\n",
      "{'e', 'p', 'i'}\n"
     ]
    }
   ],
   "source": [
    "strparam=\"Hello apple pie\"\n",
    "ans=strparam.split()\n",
    "for i in ans:\n",
    "    j=set(i)\n",
    "    dic1[i]=()"
   ]
  },
  {
   "cell_type": "code",
   "execution_count": 6,
   "metadata": {},
   "outputs": [
    {
     "name": "stdout",
     "output_type": "stream",
     "text": [
      "True\n",
      "False\n"
     ]
    }
   ],
   "source": [
    "str1=\"kelb\"\n",
    "str2=\"kelb\"\n",
    "check=0\n",
    "if str1==str2:\n",
    "    print(True)\n",
    "for i in range(len(str1)):\n",
    "    if str1[i]!=str2[i]:\n",
    "        a=str2.find(str1[i])\n",
    "        check+=1\n",
    "if check==2:\n",
    "    print(True)\n",
    "else:\n",
    "    print(False)\n",
    "str2.replace(str2[i],str2[a])"
   ]
  },
  {
   "cell_type": "code",
   "execution_count": null,
   "metadata": {},
   "outputs": [],
   "source": [
    "a=[i for i in range(1,5)]"
   ]
  }
 ],
 "metadata": {
  "kernelspec": {
   "display_name": "myenv",
   "language": "python",
   "name": "python3"
  },
  "language_info": {
   "codemirror_mode": {
    "name": "ipython",
    "version": 3
   },
   "file_extension": ".py",
   "mimetype": "text/x-python",
   "name": "python",
   "nbconvert_exporter": "python",
   "pygments_lexer": "ipython3",
   "version": "3.9.10 (tags/v3.9.10:f2f3f53, Jan 17 2022, 15:14:21) [MSC v.1929 64 bit (AMD64)]"
  },
  "orig_nbformat": 4,
  "vscode": {
   "interpreter": {
    "hash": "0a817508bf620584500b051b7a05f83321e0518b7353592b64b66dada2243bb7"
   }
  }
 },
 "nbformat": 4,
 "nbformat_minor": 2
}
