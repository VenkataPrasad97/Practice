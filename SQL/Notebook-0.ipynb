{
    "cells": [
        {
            "cell_type": "code",
            "execution_count": 1,
            "metadata": {
                "azdata_cell_guid": "d23c9957-c573-41e7-a5eb-6afc68e49a5b",
                "dotnet_interactive": {
                    "language": "sql"
                },
                "language": "sql",
                "tags": [],
                "vscode": {
                    "languageId": "dotnet-interactive.sql"
                }
            },
            "outputs": [
                {
                    "data": {
                        "text/html": [
                            "\r\n",
                            "<p>A SQL connection has not been established.</p>\r\n",
                            "<p>To connect to a database, first add the SQL extension package by running the following in a C# cell:</p>\r\n",
                            "<code>\r\n",
                            "    <pre>\r\n",
                            "    #r \"nuget:Microsoft.DotNet.Interactive.SqlServer,*-*\"\r\n",
                            "    </pre>\r\n",
                            "</code>\r\n",
                            "Now, you can connect to a Microsoft SQL Server database by running the following in a C# cell:\r\n",
                            "<code>\r\n",
                            "    <pre>\r\n",
                            "    #!connect mssql --kernel-name mydatabase \"Persist Security Info=False; Integrated Security=true; Initial Catalog=MyDatabase; Server=localhost\"\r\n",
                            "    </pre>\r\n",
                            "</code>\r\n",
                            "<p>Once a connection is established, you can send SQL statements by prefixing them with the magic command for your connection.</p>\r\n",
                            "<code>\r\n",
                            "    <pre>\r\n",
                            "    #!sql-mydatabase\r\n",
                            "    SELECT * FROM MyDatabase.MyTable\r\n",
                            "    </pre>\r\n",
                            "</code>\r\n"
                        ]
                    },
                    "metadata": {},
                    "output_type": "display_data"
                }
            ],
            "source": [
                "USE Northwind\n",
                "SELECT *\n",
                "FROM CATEGORIES"
            ]
        },
        {
            "cell_type": "code",
            "execution_count": null,
            "metadata": {
                "azdata_cell_guid": "a91a4924-5cd3-49ef-8b18-1b220bd4fa61",
                "dotnet_interactive": {
                    "language": "sql"
                },
                "language": "sql",
                "vscode": {
                    "languageId": "dotnet-interactive.sql"
                }
            },
            "outputs": [],
            "source": []
        }
    ],
    "metadata": {
        "kernelspec": {
            "display_name": ".NET (C#)",
            "language": "C#",
            "name": ".net-csharp"
        },
        "language_info": {
            "file_extension": ".cs",
            "mimetype": "text/x-csharp",
            "name": "C#",
            "pygments_lexer": "csharp",
            "version": "9.0"
        },
        "vscode": {
            "interpreter": {
                "hash": "11938c6bc6919ae2720b4d5011047913343b08a43b18698fd82dedb0d4417594"
            }
        }
    },
    "nbformat": 4,
    "nbformat_minor": 2
}
