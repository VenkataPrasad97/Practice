{
 "cells": [
  {
   "cell_type": "code",
   "execution_count": 1,
   "metadata": {},
   "outputs": [
    {
     "name": "stdout",
     "output_type": "stream",
     "text": [
      "Hello World\n"
     ]
    }
   ],
   "source": [
    "print(\"Hello World\")"
   ]
  },
  {
   "cell_type": "code",
   "execution_count": 4,
   "metadata": {},
   "outputs": [
    {
     "name": "stdout",
     "output_type": "stream",
     "text": [
      "0:40:22\n"
     ]
    }
   ],
   "source": [
    "s=\"12:40:22AM\"\n",
    "hh=s[:2]\n",
    "hh=int(hh)\n",
    "mm=s[3:5]\n",
    "ss=s[6:8]\n",
    "ampm=s[8:10]\n",
    "if ampm=='PM' and hh<12:\n",
    "    hh+=12\n",
    "if ampm=='AM' and hh==12:\n",
    "    hh=0\n",
    "print('{}:{}:{}'.format(hh,mm,ss))"
   ]
  }
 ],
 "metadata": {
  "kernelspec": {
   "display_name": "Python 3",
   "language": "python",
   "name": "python3"
  },
  "language_info": {
   "codemirror_mode": {
    "name": "ipython",
    "version": 3
   },
   "file_extension": ".py",
   "mimetype": "text/x-python",
   "name": "python",
   "nbconvert_exporter": "python",
   "pygments_lexer": "ipython3",
   "version": "3.9.10"
  },
  "orig_nbformat": 4
 },
 "nbformat": 4,
 "nbformat_minor": 2
}
