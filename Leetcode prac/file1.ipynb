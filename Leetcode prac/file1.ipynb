{
 "cells": [
  {
   "cell_type": "code",
   "execution_count": 31,
   "metadata": {},
   "outputs": [],
   "source": [
    "nums1 = [1,2]\n",
    "nums2 = [3,4]"
   ]
  },
  {
   "cell_type": "code",
   "execution_count": 32,
   "metadata": {},
   "outputs": [
    {
     "name": "stdout",
     "output_type": "stream",
     "text": [
      "2 2 2\n"
     ]
    }
   ],
   "source": [
    "l1=len(nums1)\n",
    "l2=len(nums2)\n",
    "stop=(l1+l2)//2 if (l1+l2)%2==0 else (l1+l2)//2+1\n",
    "print(l1,l2,stop)"
   ]
  },
  {
   "cell_type": "code",
   "execution_count": 38,
   "metadata": {},
   "outputs": [
    {
     "ename": "IndexError",
     "evalue": "list index out of range",
     "output_type": "error",
     "traceback": [
      "\u001b[1;31m---------------------------------------------------------------------------\u001b[0m",
      "\u001b[1;31mIndexError\u001b[0m                                Traceback (most recent call last)",
      "\u001b[1;32mc:\\Users\\HP\\OneDrive\\Documents\\GitHub\\Practice\\Leetcode prac\\file1.ipynb Cell 3\u001b[0m in \u001b[0;36m<cell line: 4>\u001b[1;34m()\u001b[0m\n\u001b[0;32m      <a href='vscode-notebook-cell:/c%3A/Users/HP/OneDrive/Documents/GitHub/Practice/Leetcode%20prac/file1.ipynb#W3sZmlsZQ%3D%3D?line=2'>3</a>\u001b[0m res\u001b[39m=\u001b[39m[]\n\u001b[0;32m      <a href='vscode-notebook-cell:/c%3A/Users/HP/OneDrive/Documents/GitHub/Practice/Leetcode%20prac/file1.ipynb#W3sZmlsZQ%3D%3D?line=3'>4</a>\u001b[0m \u001b[39mfor\u001b[39;00m i \u001b[39min\u001b[39;00m \u001b[39mrange\u001b[39m(stop\u001b[39m+\u001b[39m\u001b[39m1\u001b[39m):\n\u001b[1;32m----> <a href='vscode-notebook-cell:/c%3A/Users/HP/OneDrive/Documents/GitHub/Practice/Leetcode%20prac/file1.ipynb#W3sZmlsZQ%3D%3D?line=4'>5</a>\u001b[0m     \u001b[39mif\u001b[39;00m nums1[a]\u001b[39m<\u001b[39m\u001b[39m=\u001b[39mnums2[b]:\n\u001b[0;32m      <a href='vscode-notebook-cell:/c%3A/Users/HP/OneDrive/Documents/GitHub/Practice/Leetcode%20prac/file1.ipynb#W3sZmlsZQ%3D%3D?line=5'>6</a>\u001b[0m         \u001b[39mif\u001b[39;00m nums1[a]\u001b[39m==\u001b[39mnums2[b]:\n\u001b[0;32m      <a href='vscode-notebook-cell:/c%3A/Users/HP/OneDrive/Documents/GitHub/Practice/Leetcode%20prac/file1.ipynb#W3sZmlsZQ%3D%3D?line=6'>7</a>\u001b[0m             res\u001b[39m.\u001b[39mappend(nums1[a])\n",
      "\u001b[1;31mIndexError\u001b[0m: list index out of range"
     ]
    }
   ],
   "source": [
    "a=0\n",
    "b=0\n",
    "res=[]\n",
    "for i in range(stop+1):\n",
    "    if nums1[a]<=nums2[b]:\n",
    "        if nums1[a]==nums2[b]:\n",
    "            res.append(nums1[a])\n",
    "            res.append(nums2[b])\n",
    "            a= a+1 if a<l1 else None\n",
    "            b= b+1 if b<l2 else None\n",
    "            continue\n",
    "        res.append(nums1[a])\n",
    "        a+=1\n",
    "    else:\n",
    "        res.append(nums2[b])\n",
    "        b+=1\n",
    "result=res[-2] if (l1+l2)%2!=0 else (res[-2]+res[-1]/2)\n",
    "print(result)\n",
    "print(res)"
   ]
  },
  {
   "cell_type": "code",
   "execution_count": 50,
   "metadata": {},
   "outputs": [
    {
     "name": "stdout",
     "output_type": "stream",
     "text": [
      "[1, 2, 3, 4, 9, 9, 11, 11]\n",
      "6.5\n"
     ]
    }
   ],
   "source": [
    "# nums1 = [1,3]\n",
    "# nums2 = [2]\n",
    "nums1 = [1,2,9,11]\n",
    "nums2 = [3,4,9,11]\n",
    "nums1.extend(nums2)\n",
    "nums1.sort()\n",
    "print(nums1)\n",
    "if len(nums1)%2==0:\n",
    "    a,b=nums1[len(nums1)//2-1:len(nums1)//2+1]\n",
    "    c=(a+b)/2\n",
    "else:\n",
    "    c=nums1[len(nums1)//2]\n",
    "print(c)"
   ]
  }
 ],
 "metadata": {
  "kernelspec": {
   "display_name": "Python 3",
   "language": "python",
   "name": "python3"
  },
  "language_info": {
   "codemirror_mode": {
    "name": "ipython",
    "version": 3
   },
   "file_extension": ".py",
   "mimetype": "text/x-python",
   "name": "python",
   "nbconvert_exporter": "python",
   "pygments_lexer": "ipython3",
   "version": "3.9.10"
  },
  "orig_nbformat": 4
 },
 "nbformat": 4,
 "nbformat_minor": 2
}
