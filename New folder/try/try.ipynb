{
 "cells": [
  {
   "cell_type": "code",
   "execution_count": 27,
   "metadata": {},
   "outputs": [
    {
     "name": "stdout",
     "output_type": "stream",
     "text": [
      "   1  B201234ME    AASHEERWAD MEENA      8   8.1  8.2    6    9\n",
      "0  2  B200037ME  ABDUL AZEEM SUBAIR    9.0   8.0  9.0  0.0  8.0\n",
      "1  3  B201064ME           ABHINAV A    9.0   8.0  9.0  9.0  9.0\n",
      "2  4  B201166ME     ABHINAV VELUKAR    8.0  10.0  8.0  8.0  8.0\n",
      "3  5  B201046ME          AISWARYA R    8.0   8.0  8.0  8.5  8.5\n",
      "4  6  B201124ME        AJIL P ASHOK    8.0   0.0  8.0  0.0  8.0\n"
     ]
    }
   ],
   "source": [
    "import pandas as pd\n",
    "df=pd.read_csv(r\"F:\\Downloads\\try.csv\")\n",
    "print(df.head())"
   ]
  },
  {
   "cell_type": "code",
   "execution_count": 28,
   "metadata": {},
   "outputs": [
    {
     "name": "stdout",
     "output_type": "stream",
     "text": [
      "[0, 1, 2, 3, 4, 5, 6, 7, 8, 9, 10, 11, 12, 13, 14, 15, 16, 17, 18, 19, 20, 21, 22, 23, 24, 25, 26, 27, 28, 29, 30, 31, 32, 33, 34, 35, 36, 37, 38, 39, 40, 41, 42, 43, 44, 45, 46, 47, 48, 49, 50, 51]\n"
     ]
    }
   ],
   "source": [
    "lst=[]\n",
    "for i in range(52):\n",
    "    lst.append(i)\n",
    "print(lst)"
   ]
  },
  {
   "cell_type": "code",
   "execution_count": 30,
   "metadata": {},
   "outputs": [
    {
     "name": "stdout",
     "output_type": "stream",
     "text": [
      "    B201234ME                     AASHEERWAD MEENA       8   8.2     9   8.1  \\\n",
      "0   B200037ME                   ABDUL AZEEM SUBAIR     9.0   9.0   8.0   8.0   \n",
      "1   B201064ME                            ABHINAV A     9.0   9.0   9.0   8.0   \n",
      "2   B201166ME                      ABHINAV VELUKAR     8.0   8.0   8.0  10.0   \n",
      "3   B201046ME                           AISWARYA R     8.0   8.0   8.5   8.0   \n",
      "4   B201124ME                         AJIL P ASHOK     8.0   8.0   8.0   0.0   \n",
      "5   B201090ME                        AKHIL R KURUP     8.0   8.0   7.0   8.0   \n",
      "6   B201048ME                            AMRITHA A     8.0   8.0   7.0   8.0   \n",
      "7   B201188ME                     ANANTH ATHRESH A     8.0   6.0   6.0   0.0   \n",
      "8   B201158ME         ARAVABHUMI SAI DHANUSH REDDY     9.0   7.0   7.5   0.0   \n",
      "9   B201168ME  ARAVETI NAGANRUSIMHA SIVA BHASWANTH     6.0   0.0   8.0   0.0   \n",
      "10  B201128ME                        ASHWIN KAILAS     0.0   8.0   6.0   0.0   \n",
      "11  B201066ME                           ASWIN REJI     9.0   8.0   8.0   8.0   \n",
      "12  B201190ME                            AYUSH JHA     8.0  10.0  10.0   9.0   \n",
      "13  B201297ME                          B S VASANTH     8.0   8.0   7.0   4.0   \n",
      "14  B201150ME                       BALIJA MOUNIKA     9.0   4.0   7.0   0.0   \n",
      "15  B201236ME         BANAVATHU PRAVEEN KUMAR NAIK     6.0   6.0   7.0   0.0   \n",
      "16  B201170ME                         BANDI THARUN     9.0   4.0   8.0   0.0   \n",
      "17  B201222ME                BANGARU CHAITANYA RAJ     9.0   4.0   7.0   0.0   \n",
      "18  B201154ME                  BANOTH DRUTHIKA BAI     8.0   8.0   8.0   8.0   \n",
      "19  B201152ME                     BATTU NITYA TEJA     8.0   4.0   8.0   8.0   \n",
      "20  B201224ME                         BOTLA VAMSHI     6.0   4.0   6.0   0.0   \n",
      "21  B201192ME                       CHADALA NIKHIL     8.0   9.0   8.0   0.0   \n",
      "22  B201144ME                   CHINTHIREDDY BHANU     9.0   6.0   9.0   7.0   \n",
      "23  B201160ME                 CHINTHIRLA MANIKANTA     9.0   4.0   6.0   NaN   \n",
      "24  B201162ME                  JOPARTHI UDAY KUMAR     8.0   7.0   7.0   0.0   \n",
      "25  B201088ME                              AKASH R     8.0   9.0   7.0   0.0   \n",
      "26  B201092ME                        ALBERT JOSEPH     8.0   8.0   8.0   7.5   \n",
      "27  B201126ME                            ANAND A S     9.0   6.0   7.0   8.0   \n",
      "28  B201096ME                     ANANDAKRISHNAN S     9.0   5.0   8.5   6.0   \n",
      "29  B201050ME                        ANN LIYA RAJU     8.0   8.0   8.0   9.0   \n",
      "30  B201052ME                      CAROLYNE THOMAS     8.0   6.0   8.0   8.0   \n",
      "31  B201238ME              DABETWAR NISHANT KISHOR     9.0   8.0   9.0   8.0   \n",
      "32  B200076ME                    DEEPAK KALADHARAN     8.0   8.0   7.0   8.0   \n",
      "33  B201172ME                 DEV GYAN PRIYADARSHI     9.0   9.0   9.0   8.0   \n",
      "34  B201194ME             DEVIREDDY CHANVITH REDDY     8.0   7.0   7.0   0.0   \n",
      "35  B201156ME                    DHEERAVATH ANUSHA     9.0   6.0   7.0   0.0   \n",
      "36  B201098ME                           ERIC DAVIS     9.0   8.0   8.0   6.0   \n",
      "37  B201068ME                      FAHEEM MUHAMMED     8.0   7.0   8.0   6.0   \n",
      "38  B201196ME            GAIKWAD PRATHAMESH SANDIP     9.0   9.0   9.0   8.0   \n",
      "39  B201174ME                  GODE SRI RAM SUJITH     9.0   0.0   8.0   0.0   \n",
      "40  B201100ME                            GOKUL R S     9.0   8.0   8.0   9.0   \n",
      "41  B201102ME                             GOVIND G     9.0   9.0   8.0   8.0   \n",
      "42  B201240ME                      GUGULOTH RAJESH     8.0   9.0   9.0   0.0   \n",
      "43  B200618ME                      GUNDU YASHWANTH    10.0   6.0   7.0  10.0   \n",
      "44  B201070ME                          HARSHAD A K     8.0   6.0   8.0   0.0   \n",
      "45  B201104ME                    INDEEVAR S PILLAI     9.0   8.0   8.0   0.0   \n",
      "46  B201060ME                            JALJITH S     8.0   6.0   6.0   0.0   \n",
      "47  B201242ME               JATAVATH PUNEETH VIVEK     8.0   9.0   9.0   0.0   \n",
      "48  B201084ME                         JEWEL JAISON     8.0   0.0   8.0   0.0   \n",
      "49  B201106ME                             JIBRAN V     0.0   8.0   9.0   0.0   \n",
      "50  B200039ME                           JOEL BINOY     8.0   9.0   9.0   8.0   \n",
      "51  B201162ME                  JOPARTHI UDAY KUMAR     NaN   NaN   NaN   NaN   \n",
      "\n",
      "     1    6  \n",
      "0    2  0.0  \n",
      "1    3  9.0  \n",
      "2    4  8.0  \n",
      "3    5  8.5  \n",
      "4    6  0.0  \n",
      "5    7  8.0  \n",
      "6    8  8.0  \n",
      "7    9  6.0  \n",
      "8   10  8.0  \n",
      "9   11  8.0  \n",
      "10  12  0.0  \n",
      "11  13  8.0  \n",
      "12  14  9.5  \n",
      "13  15  8.0  \n",
      "14  16  6.0  \n",
      "15  17  6.0  \n",
      "16  18  8.0  \n",
      "17  19  7.0  \n",
      "18  20  8.0  \n",
      "19  21  9.0  \n",
      "20  22  7.0  \n",
      "21  23  7.5  \n",
      "22  24  8.0  \n",
      "23  25  8.0  \n",
      "24  26  8.5  \n",
      "25  27  8.0  \n",
      "26  28  8.0  \n",
      "27  29  8.0  \n",
      "28  30  8.0  \n",
      "29  31  0.0  \n",
      "30  32  0.0  \n",
      "31  33  9.0  \n",
      "32  34  7.0  \n",
      "33  35  9.5  \n",
      "34  36  8.0  \n",
      "35  37  7.0  \n",
      "36  38  0.0  \n",
      "37  39  0.0  \n",
      "38  40  8.0  \n",
      "39  41  8.0  \n",
      "40  42  8.0  \n",
      "41  43  8.0  \n",
      "42  44  9.0  \n",
      "43  45  8.0  \n",
      "44  46  0.0  \n",
      "45  47  7.0  \n",
      "46  48  8.0  \n",
      "47  49  9.0  \n",
      "48  50  0.0  \n",
      "49  51  8.0  \n",
      "50  52  7.0  \n",
      "51  53  NaN  \n"
     ]
    }
   ],
   "source": [
    "a=df.sort_values(by=lst,axis=1,ascending=False)\n",
    "print(a)"
   ]
  }
 ],
 "metadata": {
  "kernelspec": {
   "display_name": "Python 3.9.10 ('myenv': venv)",
   "language": "python",
   "name": "python3"
  },
  "language_info": {
   "codemirror_mode": {
    "name": "ipython",
    "version": 3
   },
   "file_extension": ".py",
   "mimetype": "text/x-python",
   "name": "python",
   "nbconvert_exporter": "python",
   "pygments_lexer": "ipython3",
   "version": "3.9.10"
  },
  "orig_nbformat": 4,
  "vscode": {
   "interpreter": {
    "hash": "0a817508bf620584500b051b7a05f83321e0518b7353592b64b66dada2243bb7"
   }
  }
 },
 "nbformat": 4,
 "nbformat_minor": 2
}
