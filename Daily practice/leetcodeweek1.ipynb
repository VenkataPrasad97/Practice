{
 "cells": [
  {
   "cell_type": "code",
   "execution_count": 16,
   "metadata": {},
   "outputs": [
    {
     "name": "stdout",
     "output_type": "stream",
     "text": [
      "False\n"
     ]
    }
   ],
   "source": [
    "#Leet code 217\n",
    "'''nums=[1,2,3,4]\n",
    "for i in range(len(nums)):\n",
    "    for j in range(i+1,len(nums)):\n",
    "        if nums[i]==nums[j]:\n",
    "            print('true')\n",
    "print('false')\n",
    "'''\n",
    "nums=[1,2,3,4]\n",
    "print(len(nums) != len(set(nums)))"
   ]
  },
  {
   "cell_type": "code",
   "execution_count": 38,
   "metadata": {},
   "outputs": [
    {
     "name": "stdout",
     "output_type": "stream",
     "text": [
      "6\n",
      "6\n"
     ]
    }
   ],
   "source": [
    "#Leet code 53\n",
    "nums=[-2,1,-3,4,-1,2,1,-5,4]\n",
    "a=[]\n",
    "for i in range(len(nums)):\n",
    "    s=nums[i]\n",
    "    for j in range(i+1,len(nums)):\n",
    "        s+=nums[j]\n",
    "        a.append(s)\n",
    "print(max(a))\n",
    "#         a=nums[0]\n",
    "#         b=len(nums)\n",
    "#         s=0\n",
    "#       if b==1:\n",
    "#           return nums[0]\n",
    "#         for i in range(b):\n",
    "#             s=nums[i]\n",
    "#             for j in range(i+1,b):\n",
    "#                 s=max(s+nums[j],nums[j])\n",
    "#                 a=max(a,s)\n",
    "#         return a\n",
    "##optimsed code\n",
    "nums=[-2,1,-3,4,-1,2,1,-5,4]\n",
    "maxsub=nums[0]\n",
    "cursum=0\n",
    "for n in nums:\n",
    "    if cursum<0:\n",
    "        cursum=0\n",
    "    cursum+=n\n",
    "    maxsub=max(maxsub,cursum)\n",
    "print(maxsub)"
   ]
  },
  {
   "cell_type": "code",
   "execution_count": 3,
   "metadata": {},
   "outputs": [
    {
     "name": "stdout",
     "output_type": "stream",
     "text": [
      "3\n"
     ]
    }
   ],
   "source": [
    "n ='00000000000000000000000000001011'\n",
    "res=[x for x in n if x!='0']\n",
    "print(len(res))"
   ]
  },
  {
   "cell_type": "code",
   "execution_count": 15,
   "metadata": {},
   "outputs": [
    {
     "name": "stdout",
     "output_type": "stream",
     "text": [
      "[1, 2, 2, 3, 5, 6]\n"
     ]
    }
   ],
   "source": [
    "nums1=[1,2,3,0,0,0]\n",
    "m=3\n",
    "nums2=[2,5,6]\n",
    "n=3\n",
    "nums1=nums1[:m]\n",
    "nums2=nums2[:n]\n",
    "nums1.extend(nums2)\n",
    "nums1=sorted(nums1)\n",
    "print(nums1)"
   ]
  },
  {
   "cell_type": "code",
   "execution_count": 4,
   "metadata": {},
   "outputs": [
    {
     "name": "stdout",
     "output_type": "stream",
     "text": [
      "4\n"
     ]
    }
   ],
   "source": [
    "nums=[-1,0,3,5,9,12]\n",
    "target=9\n",
    "l=len(nums)\n",
    "while i!=target:\n",
    "if target<nums[l//2]:\n",
    "    nums[:l//2]\n",
    "    i=nums[0]\n",
    "else:\n",
    "    nums[l//2:]\n",
    "    i=nums[0]"
   ]
  },
  {
   "cell_type": "code",
   "execution_count": 2,
   "metadata": {},
   "outputs": [
    {
     "name": "stdout",
     "output_type": "stream",
     "text": [
      "[0, 1, 9, 16, 100]\n"
     ]
    }
   ],
   "source": [
    "nums=[-4,-1,0,3,10]\n",
    "a=len(nums)\n",
    "for i in range(a):\n",
    "    nums[i]*=nums[i]\n",
    "nums.sort()\n",
    "print(nums)\n",
    "# class Solution:\n",
    "#     def sortedSquares(self, nums: List[int]) -> List[int]:\n",
    "#         left = 0\n",
    "#         right = len(nums) - 1 \n",
    "#         i = len(nums) - 1 \n",
    "#         a = [0]*len(nums)\n",
    "#         while i >= 0 : #-4,-1,0,3,10  -4<10  0<4\n",
    "#             if nums[left] * -1 < nums[right]:  \n",
    "#                 a[i] = nums[right] * nums[right] \n",
    "#                 right -= 1 \n",
    "#             else:\n",
    "#                 a[i] = nums[left] * nums[left] \n",
    "#                 left += 1  \n",
    "#             i -= 1\n",
    "\n",
    "#         return a"
   ]
  },
  {
   "cell_type": "code",
   "execution_count": 11,
   "metadata": {},
   "outputs": [
    {
     "name": "stdout",
     "output_type": "stream",
     "text": [
      "[5, 6, 7]\n",
      "[5, 6, 7, 1, 2, 3, 1]\n"
     ]
    }
   ],
   "source": [
    "nums=[1,2,3,4,5,6,7]\n",
    "k=3\n",
    "a=len(nums)\n",
    "b=nums[a-k:a]\n",
    "print(b)\n",
    "for i in range(a-k):\n",
    "    nums[i+k]=nums[i]\n",
    "nums[:k]=b\n",
    "print(nums)"
   ]
  },
  {
   "cell_type": "code",
   "execution_count": 24,
   "metadata": {},
   "outputs": [
    {
     "name": "stdout",
     "output_type": "stream",
     "text": [
      "[2, 1]\n"
     ]
    }
   ],
   "source": [
    "nums=[1,2]\n",
    "k=5\n",
    "a=len(nums)\n",
    "if k>a:\n",
    "    k=k%a\n",
    "b=nums[a-k:a]\n",
    "nums[:]=b[:]+nums[:a-k]\n",
    "print(nums)"
   ]
  },
  {
   "cell_type": "code",
   "execution_count": 23,
   "metadata": {},
   "outputs": [
    {
     "name": "stdout",
     "output_type": "stream",
     "text": [
      "0\n"
     ]
    }
   ],
   "source": [
    "print(5%5)"
   ]
  }
 ],
 "metadata": {
  "kernelspec": {
   "display_name": "myenv",
   "language": "python",
   "name": "python3"
  },
  "language_info": {
   "codemirror_mode": {
    "name": "ipython",
    "version": 3
   },
   "file_extension": ".py",
   "mimetype": "text/x-python",
   "name": "python",
   "nbconvert_exporter": "python",
   "pygments_lexer": "ipython3",
   "version": "3.9.10"
  },
  "orig_nbformat": 4,
  "vscode": {
   "interpreter": {
    "hash": "0a817508bf620584500b051b7a05f83321e0518b7353592b64b66dada2243bb7"
   }
  }
 },
 "nbformat": 4,
 "nbformat_minor": 2
}
