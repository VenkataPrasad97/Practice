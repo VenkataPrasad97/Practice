{
 "cells": [
  {
   "cell_type": "code",
   "execution_count": 16,
   "metadata": {},
   "outputs": [
    {
     "name": "stdout",
     "output_type": "stream",
     "text": [
      "False\n"
     ]
    }
   ],
   "source": [
    "#Leet code 217\n",
    "'''nums=[1,2,3,4]\n",
    "for i in range(len(nums)):\n",
    "    for j in range(i+1,len(nums)):\n",
    "        if nums[i]==nums[j]:\n",
    "            print('true')\n",
    "print('false')\n",
    "'''\n",
    "nums=[1,2,3,4]\n",
    "print(len(nums) != len(set(nums)))"
   ]
  },
  {
   "cell_type": "code",
   "execution_count": 38,
   "metadata": {},
   "outputs": [
    {
     "name": "stdout",
     "output_type": "stream",
     "text": [
      "6\n",
      "6\n"
     ]
    }
   ],
   "source": [
    "#Leet code 53\n",
    "nums=[-2,1,-3,4,-1,2,1,-5,4]\n",
    "a=[]\n",
    "for i in range(len(nums)):\n",
    "    s=nums[i]\n",
    "    for j in range(i+1,len(nums)):\n",
    "        s+=nums[j]\n",
    "        a.append(s)\n",
    "print(max(a))\n",
    "#         a=nums[0]\n",
    "#         b=len(nums)\n",
    "#         s=0\n",
    "#       if b==1:\n",
    "#           return nums[0]\n",
    "#         for i in range(b):\n",
    "#             s=nums[i]\n",
    "#             for j in range(i+1,b):\n",
    "#                 s=max(s+nums[j],nums[j])\n",
    "#                 a=max(a,s)\n",
    "#         return a\n",
    "##optimsed code\n",
    "nums=[-2,1,-3,4,-1,2,1,-5,4]\n",
    "maxsub=nums[0]\n",
    "cursum=0\n",
    "for n in nums:\n",
    "    if cursum<0:\n",
    "        cursum=0\n",
    "    cursum+=n\n",
    "    maxsub=max(maxsub,cursum)\n",
    "print(maxsub)"
   ]
  }
 ],
 "metadata": {
  "kernelspec": {
   "display_name": "myenv",
   "language": "python",
   "name": "python3"
  },
  "language_info": {
   "codemirror_mode": {
    "name": "ipython",
    "version": 3
   },
   "file_extension": ".py",
   "mimetype": "text/x-python",
   "name": "python",
   "nbconvert_exporter": "python",
   "pygments_lexer": "ipython3",
   "version": "3.9.10"
  },
  "orig_nbformat": 4,
  "vscode": {
   "interpreter": {
    "hash": "0a817508bf620584500b051b7a05f83321e0518b7353592b64b66dada2243bb7"
   }
  }
 },
 "nbformat": 4,
 "nbformat_minor": 2
}
