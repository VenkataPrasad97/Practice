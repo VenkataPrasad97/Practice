{
 "cells": [
  {
   "attachments": {},
   "cell_type": "markdown",
   "metadata": {},
   "source": [
    "Count the consonants and vowels in your name.\n",
    "Input : “Udit Gupta”\n",
    "Output : [4,5]\n",
    "Explanation: Vowels = 4 (“U”, “i”, “u”, “a”], Consonants = 5 (“d”,”t”,”G”,”p”,”t”)"
   ]
  },
  {
   "cell_type": "code",
   "execution_count": 8,
   "metadata": {},
   "outputs": [
    {
     "name": "stdout",
     "output_type": "stream",
     "text": [
      "5 8\n"
     ]
    }
   ],
   "source": [
    "#in_str=input()\n",
    "in_str=\"Venkata Prasad\"\n",
    "a=[]\n",
    "b=[]\n",
    "for i in range(len(in_str)):\n",
    "    if in_str[i] in ['a','e','i','o','u','A','E','I','O','U']:\n",
    "        a.append(in_str[i])\n",
    "    elif in_str[i] == \" \":\n",
    "        pass\n",
    "    else:\n",
    "        b.append(in_str[i])\n",
    "print(len(a),len(b))"
   ]
  },
  {
   "attachments": {},
   "cell_type": "markdown",
   "metadata": {},
   "source": [
    "Check whether the given string is palindromic or not.\n",
    "Input: “naman”\n",
    "Output: True\n",
    "Explanation: Pallindrome is the word which looks similar to the original after reversing the word."
   ]
  },
  {
   "cell_type": "code",
   "execution_count": 25,
   "metadata": {},
   "outputs": [
    {
     "name": "stdout",
     "output_type": "stream",
     "text": [
      "Palindrome\n"
     ]
    }
   ],
   "source": [
    "in_str=\"madam\"\n",
    "#in_str=input()\n",
    "a=0\n",
    "for i in range(len(in_str)):\n",
    "    if in_str[i]==in_str[-i-1]:\n",
    "        a+=1\n",
    "if a==len(in_str):\n",
    "    print(\"Palindrome\")\n",
    "else:\n",
    "    print(\"Not Palindrome\")"
   ]
  },
  {
   "cell_type": "code",
   "execution_count": 26,
   "metadata": {},
   "outputs": [
    {
     "name": "stdout",
     "output_type": "stream",
     "text": [
      "Palindrome\n"
     ]
    }
   ],
   "source": [
    "in_str=\"MADAM\"\n",
    "if in_str==in_str[::-1]:\n",
    "    print(\"Palindrome\")\n",
    "else:\n",
    "    print(\"Not Palindrome\")"
   ]
  },
  {
   "attachments": {},
   "cell_type": "markdown",
   "metadata": {},
   "source": [
    "Reverse Integer. (a. by string method, b. by mathematical formulation)\n",
    "Input: n = 321\n",
    "Output: 123\n"
   ]
  },
  {
   "cell_type": "code",
   "execution_count": 27,
   "metadata": {},
   "outputs": [
    {
     "name": "stdout",
     "output_type": "stream",
     "text": [
      "123\n"
     ]
    }
   ],
   "source": [
    "in_num=321\n",
    "in_str=str(in_num)\n",
    "print(in_str[::-1])"
   ]
  },
  {
   "cell_type": "code",
   "execution_count": 29,
   "metadata": {},
   "outputs": [
    {
     "name": "stdout",
     "output_type": "stream",
     "text": [
      "123\n"
     ]
    }
   ],
   "source": [
    "#in_num=int(input())\n",
    "in_num=321\n",
    "s=in_num\n",
    "out_num=0\n",
    "while s!=0:\n",
    "    out_num=out_num*10+s%10\n",
    "    s=s//10\n",
    "print(out_num)"
   ]
  },
  {
   "attachments": {},
   "cell_type": "markdown",
   "metadata": {},
   "source": [
    "Count odd, even number.\n",
    "Input: arr = [2, 16, 19, 0, 5, 10]\n",
    "Output: [4,2]"
   ]
  },
  {
   "cell_type": "code",
   "execution_count": 30,
   "metadata": {},
   "outputs": [
    {
     "name": "stdout",
     "output_type": "stream",
     "text": [
      "[4, 2]\n"
     ]
    }
   ],
   "source": [
    "#in_arr=input.split()\n",
    "in_arr=[2, 16, 19, 0, 5, 10]\n",
    "a=[]\n",
    "b=[]\n",
    "for i in in_arr:\n",
    "    if i%2==0:\n",
    "        a.append(i)\n",
    "    else:\n",
    "        b.append(i)\n",
    "print([len(a),len(b)])"
   ]
  },
  {
   "attachments": {},
   "cell_type": "markdown",
   "metadata": {},
   "source": [
    "Given an array of integers nums and an integer target, return indices of the two numbers such that they add up to target.\n",
    "\n",
    "You may assume that each input would have exactly one solution, and you may not use the same element twice.\n",
    "\n",
    "You can return the answer in any order.\n",
    "\n",
    "Input: nums = [2,7,11,15], target = 9\n",
    "Output: [0,1]\n",
    "Explanation: Because nums[0] + nums[1] == 9, we return [0, 1]."
   ]
  },
  {
   "cell_type": "code",
   "execution_count": null,
   "metadata": {},
   "outputs": [],
   "source": [
    "in_arr=[2,7,11,15]\n",
    "a=len(in_arr)\n",
    "\n"
   ]
  },
  {
   "cell_type": "code",
   "execution_count": 44,
   "metadata": {},
   "outputs": [
    {
     "name": "stdout",
     "output_type": "stream",
     "text": [
      "['World', 'Hello']\n"
     ]
    }
   ],
   "source": [
    "in_str=\"Hello World\"\n",
    "arr_str=in_str.split()\n",
    "a=arr_str[::-1]\n",
    "print(a)\n"
   ]
  },
  {
   "cell_type": "code",
   "execution_count": 100,
   "metadata": {},
   "outputs": [
    {
     "data": {
      "text/plain": [
       "'lhp'"
      ]
     },
     "execution_count": 100,
     "metadata": {},
     "output_type": "execute_result"
    }
   ],
   "source": [
    "a='h'\n",
    "b='lp'\n",
    "a.join(b)"
   ]
  }
 ],
 "metadata": {
  "kernelspec": {
   "display_name": "myenv",
   "language": "python",
   "name": "python3"
  },
  "language_info": {
   "codemirror_mode": {
    "name": "ipython",
    "version": 3
   },
   "file_extension": ".py",
   "mimetype": "text/x-python",
   "name": "python",
   "nbconvert_exporter": "python",
   "pygments_lexer": "ipython3",
   "version": "3.9.10"
  },
  "orig_nbformat": 4,
  "vscode": {
   "interpreter": {
    "hash": "0a817508bf620584500b051b7a05f83321e0518b7353592b64b66dada2243bb7"
   }
  }
 },
 "nbformat": 4,
 "nbformat_minor": 2
}
