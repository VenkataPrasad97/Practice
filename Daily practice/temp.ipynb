{
 "cells": [
  {
   "cell_type": "code",
   "execution_count": null,
   "metadata": {},
   "outputs": [],
   "source": [
    "test_case=int(input())\n",
    "n_p=input().split()\n",
    "num=int(n_p[0])\n",
    "days=int(n_p[1])\n",
    "player_worth=input().split()\n",
    "player_worth=int(player_worth)\n",
    "def sample(num,days,pw,day):\n",
    "    if day==0:\n",
    "        sample(num,days,pw,day+1)\n",
    "    if day==1:\n",
    "        for i in range(num):\n",
    "            if i%2==0:\n",
    "                continue\n",
    "            else:\n",
    "                pw[i]+=2\n",
    "    for i in range(num):\n",
    "        if i==0 or i==num-1:\n",
    "            pw[i]+=2\n",
    "        else:\n",
    "            pw[i]+=4\n",
    "    if days<day:\n",
    "        sample(num,days,pw,day+1)\n",
    "    else:\n",
    "        return pw\n",
    "sample(num,days,player_worth,0)"
   ]
  },
  {
   "cell_type": "code",
   "execution_count": null,
   "metadata": {},
   "outputs": [],
   "source": [
    "test_case=int(input())\n",
    "n_p=input().split()\n",
    "num=int(n_p[0])\n",
    "days=int(n_p[1])\n",
    "player_worth=input().split()\n",
    "for i in range(num):\n",
    "    player_worth[i]=int(player_worth[i])\n",
    "a=sum(player_worth)\n",
    "def sample(num,days,pw,day):\n",
    "    if day==0:\n",
    "        sample(num,days,pw,day+1)\n",
    "    if day==1:\n",
    "        for i in range(num):\n",
    "            if i%2==0:\n",
    "                continue\n",
    "            else:\n",
    "                pw[i]+=2\n",
    "    for i in range(num):\n",
    "        if i==0 or i==num-1:\n",
    "            pw[i]+=2\n",
    "        elif i>0 or i<num-1:\n",
    "            pw[i]+=2\n",
    "    if days<day:\n",
    "        sample(num,days,pw,day+1)\n",
    "    else:\n",
    "        return pw\n",
    "print(sum(sample(num,days,player_worth,0))-a)"
   ]
  },
  {
   "cell_type": "code",
   "execution_count": null,
   "metadata": {},
   "outputs": [],
   "source": [
    "test_case=int(input())\n",
    "for m in range(test_case):\n",
    "    n_p=input().split(' ',2)\n",
    "    num=int(n_p[0])\n",
    "    wallet=int(n_p[1])\n",
    "    price=input().split(' ',num)\n",
    "    a=0\n",
    "    for i in range(num):\n",
    "        price[i]=int(price[i])\n",
    "        if price[i]<=wallet:\n",
    "            a+=1\n",
    "    if a>0:\n",
    "        print(\"YES\")\n",
    "    else:\n",
    "        print(\"NO\")\n",
    "\n",
    "\n",
    "# def sample(num,days,pw,day):\n",
    "#     if day==0:\n",
    "#         sample(num,days,pw,day+1)\n",
    "#     if day==1:\n",
    "#         for i in range(num):\n",
    "#             if i%2==0:\n",
    "#                 continue\n",
    "#             else:\n",
    "#                 pw[i]+=2\n",
    "#     for i in range(num):\n",
    "#         if i==0 or i==num-1:\n",
    "#             pw[i]+=2\n",
    "#         elif i>0 or i<num-1:\n",
    "#             pw[i]+=2\n",
    "#     if days<day:\n",
    "#         sample(num,days,pw,day+1)\n",
    "#     else:\n",
    "#         return pw\n",
    "# print(sum(sample(num,days,player_worth,0))-a)"
   ]
  },
  {
   "cell_type": "code",
   "execution_count": null,
   "metadata": {},
   "outputs": [],
   "source": [
    "def fun(num):\n",
    "    if num>0:\n",
    "        print(num)\n",
    "        fun(num-1)\n",
    "fun(3)"
   ]
  },
  {
   "cell_type": "code",
   "execution_count": 2,
   "metadata": {},
   "outputs": [
    {
     "name": "stdout",
     "output_type": "stream",
     "text": [
      "from 1 to 3\n",
      "from 1 to 2\n",
      "from 3 to 2\n",
      "from 1 to 3\n",
      "from 2 to 1\n",
      "from 2 to 3\n",
      "from 1 to 3\n"
     ]
    }
   ],
   "source": [
    "def hanoi(n,a,b,c):\n",
    "    if n>0:\n",
    "        hanoi(n-1,a,c,b)\n",
    "        print(\"from {} to {}\".format(a,c))\n",
    "        hanoi(n-1,b,a,c)\n",
    "hanoi(3,1,2,3)"
   ]
  }
 ],
 "metadata": {
  "kernelspec": {
   "display_name": "myenv",
   "language": "python",
   "name": "python3"
  },
  "language_info": {
   "codemirror_mode": {
    "name": "ipython",
    "version": 3
   },
   "file_extension": ".py",
   "mimetype": "text/x-python",
   "name": "python",
   "nbconvert_exporter": "python",
   "pygments_lexer": "ipython3",
   "version": "3.9.10"
  },
  "orig_nbformat": 4,
  "vscode": {
   "interpreter": {
    "hash": "0a817508bf620584500b051b7a05f83321e0518b7353592b64b66dada2243bb7"
   }
  }
 },
 "nbformat": 4,
 "nbformat_minor": 2
}
