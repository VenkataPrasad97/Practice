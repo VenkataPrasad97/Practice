{
 "cells": [
  {
   "cell_type": "markdown",
   "metadata": {},
   "source": [
    "Source UNSTOP\n"
   ]
  },
  {
   "cell_type": "markdown",
   "metadata": {},
   "source": [
    "1)Problem Statement\n",
    "Ram was learning the tree data structure when John saw him. Seeing Ram John challenged him to calculate the bias of the tree.\n",
    "\n",
    "The bias was defined as the sum of the depths of all tree nodes.\n",
    "\n",
    "Given a tree help Ram in finding the bias of the tree. Consider node with value 1 as the root of the tree\n",
    "\n",
    "And consider the depth of the root node as 0.\n",
    "\n",
    "Input Format\n",
    "The first line contains n the number of nodes in the tree. The nodes are numbered from 1 to n.\n",
    "The following n-1 lines contain two numbers, a and b, denoting that there is an edge between a and b\n",
    "Output Format\n",
    "Print the bias of the tree.\n",
    "Constraints\n",
    "1<=n<=105\n",
    "1<=a<=n\n",
    "1<=b<=n\n",
    "Sample Testcase 0\n",
    "Testcase Input\n",
    "7\n",
    "1 2 \n",
    "2 4 \n",
    "2 3 \n",
    "1 7 \n",
    "7 6\n",
    "7 5\n",
    "Testcase Output\n",
    "10\n",
    "Explanation\n",
    "Explanation of test case 1 :  \n",
    "The depths of each of the nodes of the tree are : \n",
    "For node 1 : 0\n",
    "For node 2: 1\n",
    "For node 3: 2\n",
    "For node 4: 2\n",
    "For node 5: 2\n",
    "For node 6: 2\n",
    "For node 7: 1\n",
    "Therefore the bias of the tree is the sum of all depths of the tree = 0 + 1 + 2 + 2 + 2 + 2 + 1 = 10\n",
    "Sample Testcase 1\n",
    "Testcase Input\n",
    "4\n",
    "1 2 \n",
    "2 3 \n",
    "3 4\n",
    "Testcase Output\n",
    "6\n",
    "Explanation\n",
    "Explanation of test case 2 : \n",
    "The depths of each node of the tree : \n",
    "For node 1 : 0\n",
    "For node 2: 1\n",
    "For node 3: 2\n",
    "For node 4: 3\n",
    "Therefore bias of the tree is : 0 + 1 + 2 + 3 = 6"
   ]
  },
  {
   "cell_type": "code",
   "execution_count": null,
   "metadata": {},
   "outputs": [],
   "source": []
  }
 ],
 "metadata": {
  "language_info": {
   "name": "python"
  },
  "orig_nbformat": 4
 },
 "nbformat": 4,
 "nbformat_minor": 2
}
