{
 "cells": [
  {
   "cell_type": "markdown",
   "metadata": {},
   "source": [
    "Source UNSTOP\n"
   ]
  },
  {
   "cell_type": "markdown",
   "metadata": {},
   "source": [
    "1)Problem Statement\n",
    "Ram was learning the tree data structure when John saw him. Seeing Ram John challenged him to calculate the bias of the tree.\n",
    "\n",
    "The bias was defined as the sum of the depths of all tree nodes.\n",
    "\n",
    "Given a tree help Ram in finding the bias of the tree. Consider node with value 1 as the root of the tree\n",
    "\n",
    "And consider the depth of the root node as 0.\n",
    "\n",
    "Input Format\n",
    "The first line contains n the number of nodes in the tree. The nodes are numbered from 1 to n.\n",
    "The following n-1 lines contain two numbers, a and b, denoting that there is an edge between a and b\n",
    "Output Format\n",
    "Print the bias of the tree.\n",
    "Constraints\n",
    "1<=n<=105\n",
    "1<=a<=n\n",
    "1<=b<=n\n",
    "Sample Testcase 0\n",
    "Testcase Input\n",
    "7\n",
    "1 2 \n",
    "2 4 \n",
    "2 3 \n",
    "1 7 \n",
    "7 6\n",
    "7 5\n",
    "Testcase Output\n",
    "10\n",
    "Explanation\n",
    "Explanation of test case 1 :\n",
    "The depths of each of the nodes of the tree are : \n",
    "For node 1 : 0\n",
    "For node 2: 1\n",
    "For node 3: 2\n",
    "For node 4: 2\n",
    "For node 5: 2\n",
    "For node 6: 2\n",
    "For node 7: 1\n",
    "Therefore the bias of the tree is the sum of all depths of the tree = 0 + 1 + 2 + 2 + 2 + 2 + 1 = 10\n",
    "Sample Testcase 1\n",
    "Testcase Input\n",
    "4\n",
    "1 2 \n",
    "2 3 \n",
    "3 4\n",
    "Testcase Output\n",
    "6\n",
    "Explanation\n",
    "Explanation of test case 2 : \n",
    "The depths of each node of the tree : \n",
    "For node 1 : 0\n",
    "For node 2: 1\n",
    "For node 3: 2\n",
    "For node 4: 3\n",
    "Therefore bias of the tree is : 0 + 1 + 2 + 3 = 6"
   ]
  },
  {
   "cell_type": "code",
   "execution_count": 13,
   "metadata": {},
   "outputs": [
    {
     "name": "stdout",
     "output_type": "stream",
     "text": [
      "1\n"
     ]
    }
   ],
   "source": [
    "print(0 or 1)"
   ]
  },
  {
   "cell_type": "code",
   "execution_count": 12,
   "metadata": {},
   "outputs": [
    {
     "name": "stdout",
     "output_type": "stream",
     "text": [
      "1\n"
     ]
    },
    {
     "ename": "IndexError",
     "evalue": "string index out of range",
     "output_type": "error",
     "traceback": [
      "\u001b[1;31m---------------------------------------------------------------------------\u001b[0m",
      "\u001b[1;31mIndexError\u001b[0m                                Traceback (most recent call last)",
      "\u001b[1;32mf:\\Python files\\Practice\\Daily practice\\day1to20.ipynb Cell 3\u001b[0m in \u001b[0;36m<cell line: 4>\u001b[1;34m()\u001b[0m\n\u001b[0;32m      <a href='vscode-notebook-cell:/f%3A/Python%20files/Practice/Daily%20practice/day1to20.ipynb#W0sZmlsZQ%3D%3D?line=6'>7</a>\u001b[0m     \u001b[39mfor\u001b[39;00m j \u001b[39min\u001b[39;00m \u001b[39mrange\u001b[39m(\u001b[39m2\u001b[39m):\n\u001b[0;32m      <a href='vscode-notebook-cell:/f%3A/Python%20files/Practice/Daily%20practice/day1to20.ipynb#W0sZmlsZQ%3D%3D?line=7'>8</a>\u001b[0m         \u001b[39m# x[i][j]=int(x[i][j])\u001b[39;00m\n\u001b[0;32m      <a href='vscode-notebook-cell:/f%3A/Python%20files/Practice/Daily%20practice/day1to20.ipynb#W0sZmlsZQ%3D%3D?line=8'>9</a>\u001b[0m         \u001b[39mif\u001b[39;00m i\u001b[39m==\u001b[39m\u001b[39m0\u001b[39m:\n\u001b[1;32m---> <a href='vscode-notebook-cell:/f%3A/Python%20files/Practice/Daily%20practice/day1to20.ipynb#W0sZmlsZQ%3D%3D?line=9'>10</a>\u001b[0m             \u001b[39mprint\u001b[39m(x[i][j])\n\u001b[0;32m     <a href='vscode-notebook-cell:/f%3A/Python%20files/Practice/Daily%20practice/day1to20.ipynb#W0sZmlsZQ%3D%3D?line=10'>11</a>\u001b[0m \u001b[39mprint\u001b[39m(x)\n",
      "\u001b[1;31mIndexError\u001b[0m: string index out of range"
     ]
    }
   ],
   "source": [
    "n=int(input())\n",
    "a=[]\n",
    "b=[]\n",
    "for i in range(n):\n",
    "    x=0\n",
    "    x=list((input().split()))\n",
    "    a.append(x[i][j])\n",
    "print(x)"
   ]
  },
  {
   "cell_type": "code",
   "execution_count": 2,
   "metadata": {},
   "outputs": [
    {
     "data": {
      "text/plain": [
       "'HELLO'"
      ]
     },
     "execution_count": 2,
     "metadata": {},
     "output_type": "execute_result"
    }
   ],
   "source": [
    "a='hello'\n",
    "a.upper()"
   ]
  },
  {
   "cell_type": "code",
   "execution_count": 1,
   "metadata": {},
   "outputs": [
    {
     "ename": "SyntaxError",
     "evalue": "invalid syntax (3183016072.py, line 1)",
     "output_type": "error",
     "traceback": [
      "\u001b[1;36m  Input \u001b[1;32mIn [1]\u001b[1;36m\u001b[0m\n\u001b[1;33m    use northwind\u001b[0m\n\u001b[1;37m        ^\u001b[0m\n\u001b[1;31mSyntaxError\u001b[0m\u001b[1;31m:\u001b[0m invalid syntax\n"
     ]
    }
   ],
   "source": []
  }
 ],
 "metadata": {
  "kernelspec": {
   "display_name": "Python 3.9.10 64-bit",
   "language": "python",
   "name": "python3"
  },
  "language_info": {
   "codemirror_mode": {
    "name": "ipython",
    "version": 3
   },
   "file_extension": ".py",
   "mimetype": "text/x-python",
   "name": "python",
   "nbconvert_exporter": "python",
   "pygments_lexer": "ipython3",
   "version": "3.9.10"
  },
  "orig_nbformat": 4,
  "vscode": {
   "interpreter": {
    "hash": "11938c6bc6919ae2720b4d5011047913343b08a43b18698fd82dedb0d4417594"
   }
  }
 },
 "nbformat": 4,
 "nbformat_minor": 2
}
