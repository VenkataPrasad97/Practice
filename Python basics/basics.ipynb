{
 "cells": [
  {
   "cell_type": "markdown",
   "metadata": {},
   "source": [
    "Strings"
   ]
  },
  {
   "cell_type": "code",
   "execution_count": 121,
   "metadata": {},
   "outputs": [
    {
     "name": "stdout",
     "output_type": "stream",
     "text": [
      "Venkata Prasad\n",
      "VENKATA PRASAD\n",
      "venkata prasad\n",
      "False\n",
      "False\n",
      "14\n",
      "P\n",
      "Venkat\n",
      "8\n",
      "4\n",
      "VK Prasad\n"
     ]
    }
   ],
   "source": [
    "first_name=\"Venkata\"\n",
    "last_name=\"Prasad\"\n",
    "print(first_name +\" \"+ last_name)\n",
    "#String_concatenation\n",
    "full_name=\"Venkata Prasad\"\n",
    "print(full_name.upper())\n",
    "print(full_name.lower())\n",
    "print(full_name.isupper())\n",
    "print(full_name.islower())\n",
    "print(len(full_name))\n",
    "print(full_name[8])\n",
    "\n",
    "print(full_name[0:6])\n",
    "print(full_name.index(\"P\"))\n",
    "print(full_name.index(\"ata\"))\n",
    "print(full_name.replace(\"Venkata\",\"VK\"))"
   ]
  },
  {
   "cell_type": "code",
   "execution_count": 122,
   "metadata": {},
   "outputs": [
    {
     "name": "stdout",
     "output_type": "stream",
     "text": [
      "Length of the string: 14\n",
      "d\n",
      "a\n",
      "s\n",
      "a\n",
      "r\n",
      "P\n",
      " \n",
      "a\n",
      "t\n",
      "a\n",
      "k\n",
      "n\n",
      "e\n",
      "V\n"
     ]
    }
   ],
   "source": [
    "# print(full_name[-1])\n",
    "# print(full_name[-2])\n",
    "# print(full_name[-3])\n",
    "# print(full_name[-4])\n",
    "print(\"Length of the string:\",len(full_name))\n",
    "for i in range(15):\n",
    "    if i==0:\n",
    "        continue\n",
    "    print(full_name[-i])\n"
   ]
  },
  {
   "cell_type": "code",
   "execution_count": 123,
   "metadata": {},
   "outputs": [
    {
     "name": "stdout",
     "output_type": "stream",
     "text": [
      "<class 'str'>\n",
      "<class 'int'>\n",
      "<class 'float'>\n"
     ]
    }
   ],
   "source": [
    "print(type(\"50\"))\n",
    "print(type(50))\n",
    "print(type(50.55))\n"
   ]
  },
  {
   "cell_type": "code",
   "execution_count": 124,
   "metadata": {},
   "outputs": [
    {
     "name": "stdout",
     "output_type": "stream",
     "text": [
      "10\n",
      "5+5\n",
      "12.5\n",
      "15.0\n",
      "2.5\n",
      "1\n",
      "2\n",
      "2.555\n",
      "100\n",
      "8\n",
      "1\n",
      "45\n",
      "4\n"
     ]
    }
   ],
   "source": [
    "from math import sqrt\n",
    "\n",
    "\n",
    "print(5+5)\n",
    "print(\"5+5\")\n",
    "print(5/2*5)\n",
    "print(5/2*5+2.5)\n",
    "print(5/2)\n",
    "print(5%2)\n",
    "print(int(5/2))\n",
    "print(str(5/2)+\"55\")\n",
    "#absolute\n",
    "print(abs(-100))\n",
    "#power\n",
    "print(pow(2,3))\n",
    "#min max\n",
    "print(min(5,6,7,1))\n",
    "print(max(1,2,9,10,45))\n",
    "print(round(3.6))"
   ]
  },
  {
   "cell_type": "code",
   "execution_count": 125,
   "metadata": {
    "notebookRunGroups": {
     "groupValue": ""
    }
   },
   "outputs": [
    {
     "name": "stdout",
     "output_type": "stream",
     "text": [
      "Your name 55\n",
      "Your name 55\n"
     ]
    }
   ],
   "source": [
    "a=input(\"Enter your name\")\n",
    "print(\"Your name\",a)\n",
    "print(\"Your name\"+ \" \" +a)"
   ]
  },
  {
   "cell_type": "markdown",
   "metadata": {},
   "source": [
    "List"
   ]
  },
  {
   "cell_type": "code",
   "execution_count": 126,
   "metadata": {},
   "outputs": [
    {
     "name": "stdout",
     "output_type": "stream",
     "text": [
      "['Kholi', 'Dhoni', 'Sachin', 32, 39, 45, 'Dravid']\n"
     ]
    }
   ],
   "source": [
    "name=[\"Kholi\",\"Dhoni\",\"Sachin\"]\n",
    "age=[32,39,45]\n",
    "name.extend(age)\n",
    "name.append(\"Dravid\")\n",
    "print(name)"
   ]
  },
  {
   "cell_type": "markdown",
   "metadata": {},
   "source": [
    "How extend function works for 2D array ?"
   ]
  },
  {
   "cell_type": "code",
   "execution_count": 127,
   "metadata": {},
   "outputs": [
    {
     "name": "stdout",
     "output_type": "stream",
     "text": [
      "['Kholi', 'Yuvraj', 'Dhoni', 'Sachin', 32, 39, 45, 'Dravid']\n"
     ]
    }
   ],
   "source": [
    "name.insert(1,\"Yuvraj\")\n",
    "print(name)"
   ]
  },
  {
   "cell_type": "code",
   "execution_count": 128,
   "metadata": {},
   "outputs": [
    {
     "name": "stdout",
     "output_type": "stream",
     "text": [
      "['Kholi', 'Yuvraj', 'Dhoni', 'Sachin', 32, 39, 45]\n"
     ]
    }
   ],
   "source": [
    "name.pop()\n",
    "#name.clear()\n",
    "print(name)\n"
   ]
  },
  {
   "cell_type": "code",
   "execution_count": 129,
   "metadata": {},
   "outputs": [
    {
     "name": "stdout",
     "output_type": "stream",
     "text": [
      "1\n"
     ]
    }
   ],
   "source": [
    "print(name.count(32))"
   ]
  },
  {
   "cell_type": "code",
   "execution_count": 130,
   "metadata": {},
   "outputs": [
    {
     "ename": "TypeError",
     "evalue": "'<' not supported between instances of 'int' and 'str'",
     "output_type": "error",
     "traceback": [
      "\u001b[1;31m---------------------------------------------------------------------------\u001b[0m",
      "\u001b[1;31mTypeError\u001b[0m                                 Traceback (most recent call last)",
      "\u001b[1;32mf:\\Python files\\Python basics\\basics.ipynb Cell 12'\u001b[0m in \u001b[0;36m<module>\u001b[1;34m\u001b[0m\n\u001b[1;32m----> <a href='vscode-notebook-cell:/f%3A/Python%20files/Python%20basics/basics.ipynb#X13sZmlsZQ%3D%3D?line=0'>1</a>\u001b[0m name\u001b[39m.\u001b[39;49msort()\n",
      "\u001b[1;31mTypeError\u001b[0m: '<' not supported between instances of 'int' and 'str'"
     ]
    }
   ],
   "source": [
    "name.sort()"
   ]
  },
  {
   "cell_type": "code",
   "execution_count": 131,
   "metadata": {},
   "outputs": [
    {
     "name": "stdout",
     "output_type": "stream",
     "text": [
      "[32, 39, 45]\n"
     ]
    }
   ],
   "source": [
    "age.sort()\n",
    "print(age)"
   ]
  },
  {
   "cell_type": "code",
   "execution_count": 132,
   "metadata": {},
   "outputs": [
    {
     "name": "stdout",
     "output_type": "stream",
     "text": [
      "[45, 39, 32]\n"
     ]
    }
   ],
   "source": [
    "age.reverse()\n",
    "print(age)"
   ]
  },
  {
   "cell_type": "code",
   "execution_count": 133,
   "metadata": {},
   "outputs": [
    {
     "name": "stdout",
     "output_type": "stream",
     "text": [
      "['Dhoni', 'Kholi', 'Sachin', 'Yuvraj', 32, 39, 45]\n"
     ]
    }
   ],
   "source": [
    "copy_name=name.copy()\n",
    "print(copy_name)"
   ]
  },
  {
   "cell_type": "markdown",
   "metadata": {},
   "source": [
    "Tuples"
   ]
  },
  {
   "cell_type": "code",
   "execution_count": 134,
   "metadata": {},
   "outputs": [
    {
     "ename": "TypeError",
     "evalue": "'tuple' object does not support item assignment",
     "output_type": "error",
     "traceback": [
      "\u001b[1;31m---------------------------------------------------------------------------\u001b[0m",
      "\u001b[1;31mTypeError\u001b[0m                                 Traceback (most recent call last)",
      "\u001b[1;32mf:\\Python files\\Python basics\\basics.ipynb Cell 17'\u001b[0m in \u001b[0;36m<module>\u001b[1;34m\u001b[0m\n\u001b[0;32m      <a href='vscode-notebook-cell:/f%3A/Python%20files/Python%20basics/basics.ipynb#X20sZmlsZQ%3D%3D?line=0'>1</a>\u001b[0m name\u001b[39m=\u001b[39m(\u001b[39m\"\u001b[39m\u001b[39mKholi\u001b[39m\u001b[39m\"\u001b[39m,\u001b[39m\"\u001b[39m\u001b[39mDhoni\u001b[39m\u001b[39m\"\u001b[39m,\u001b[39m\"\u001b[39m\u001b[39mSachin\u001b[39m\u001b[39m\"\u001b[39m)\n\u001b[1;32m----> <a href='vscode-notebook-cell:/f%3A/Python%20files/Python%20basics/basics.ipynb#X20sZmlsZQ%3D%3D?line=1'>2</a>\u001b[0m name[\u001b[39m0\u001b[39m]\u001b[39m=\u001b[39m\u001b[39m\"\u001b[39m\u001b[39mDravid\u001b[39m\u001b[39m\"\u001b[39m\n",
      "\u001b[1;31mTypeError\u001b[0m: 'tuple' object does not support item assignment"
     ]
    }
   ],
   "source": [
    "name=(\"Kholi\",\"Dhoni\",\"Sachin\")\n",
    "name[0]=\"Dravid\"\n",
    "#tuple is immutable"
   ]
  },
  {
   "cell_type": "markdown",
   "metadata": {},
   "source": [
    "Functions"
   ]
  },
  {
   "cell_type": "code",
   "execution_count": 135,
   "metadata": {},
   "outputs": [],
   "source": [
    "def print_name():\n",
    "    print(\"Venkat\")"
   ]
  },
  {
   "cell_type": "code",
   "execution_count": 136,
   "metadata": {},
   "outputs": [
    {
     "name": "stdout",
     "output_type": "stream",
     "text": [
      "Kholi\n",
      "Venkat\n"
     ]
    }
   ],
   "source": [
    "#Function Call\n",
    "print(\"Kholi\")\n",
    "print_name()"
   ]
  },
  {
   "cell_type": "code",
   "execution_count": 137,
   "metadata": {},
   "outputs": [],
   "source": [
    "def print_name1(name,age):\n",
    "    print(\"Name:\"+name + \" Age:\",age)"
   ]
  },
  {
   "cell_type": "code",
   "execution_count": 138,
   "metadata": {},
   "outputs": [
    {
     "name": "stdout",
     "output_type": "stream",
     "text": [
      "Name:Venkat Age: 24\n"
     ]
    }
   ],
   "source": [
    "print_name1(\"Venkat\",24)"
   ]
  },
  {
   "cell_type": "markdown",
   "metadata": {},
   "source": [
    "Functions & Statements"
   ]
  },
  {
   "cell_type": "code",
   "execution_count": 139,
   "metadata": {},
   "outputs": [
    {
     "data": {
      "text/plain": [
       "25"
      ]
     },
     "execution_count": 139,
     "metadata": {},
     "output_type": "execute_result"
    }
   ],
   "source": [
    "def square(num):\n",
    "    return num*num\n",
    "square(5)"
   ]
  },
  {
   "cell_type": "code",
   "execution_count": 140,
   "metadata": {},
   "outputs": [
    {
     "name": "stdout",
     "output_type": "stream",
     "text": [
      "25\n"
     ]
    }
   ],
   "source": [
    "def square(num):\n",
    "    print(num*num)\n",
    "square(5)"
   ]
  },
  {
   "cell_type": "code",
   "execution_count": 141,
   "metadata": {},
   "outputs": [
    {
     "name": "stdout",
     "output_type": "stream",
     "text": [
      "25\n"
     ]
    }
   ],
   "source": [
    "def square(num):\n",
    "    return num*num\n",
    "print(square(5))"
   ]
  },
  {
   "cell_type": "code",
   "execution_count": 142,
   "metadata": {},
   "outputs": [
    {
     "data": {
      "text/plain": [
       "25"
      ]
     },
     "execution_count": 142,
     "metadata": {},
     "output_type": "execute_result"
    }
   ],
   "source": [
    "def square(num):\n",
    "    return num*num\n",
    "    print(\"Square\")\n",
    "square(5)"
   ]
  },
  {
   "cell_type": "code",
   "execution_count": 143,
   "metadata": {},
   "outputs": [
    {
     "name": "stdout",
     "output_type": "stream",
     "text": [
      "Square\n",
      "25\n"
     ]
    }
   ],
   "source": [
    "def square(num):\n",
    "    print(\"Square\")\n",
    "    return num*num\n",
    "print(square(5))"
   ]
  },
  {
   "cell_type": "markdown",
   "metadata": {},
   "source": [
    "IF"
   ]
  },
  {
   "cell_type": "code",
   "execution_count": 144,
   "metadata": {},
   "outputs": [
    {
     "name": "stdout",
     "output_type": "stream",
     "text": [
      "you are a batsman\n"
     ]
    }
   ],
   "source": [
    "is_batsman=True\n",
    "if is_batsman is True:\n",
    "    print(\"you are a batsman\")"
   ]
  },
  {
   "cell_type": "code",
   "execution_count": 145,
   "metadata": {},
   "outputs": [
    {
     "name": "stdout",
     "output_type": "stream",
     "text": [
      "you are a batsman\n"
     ]
    }
   ],
   "source": [
    "is_batsman=True\n",
    "if is_batsman:\n",
    "    print(\"you are a batsman\")"
   ]
  },
  {
   "cell_type": "code",
   "execution_count": 146,
   "metadata": {},
   "outputs": [
    {
     "name": "stdout",
     "output_type": "stream",
     "text": [
      "You are not a batsman\n"
     ]
    }
   ],
   "source": [
    "is_batsman=False\n",
    "if is_batsman is True:\n",
    "    print(\"you are a batsman\")\n",
    "else:\n",
    "    print(\"You are not a batsman\")"
   ]
  },
  {
   "cell_type": "code",
   "execution_count": 147,
   "metadata": {},
   "outputs": [
    {
     "name": "stdout",
     "output_type": "stream",
     "text": [
      "you are a batsman and also a captain\n"
     ]
    }
   ],
   "source": [
    "is_batsman=True\n",
    "is_captain=True\n",
    "if is_batsman and is_captain:\n",
    "    print(\"you are a batsman and also a captain\")\n",
    "\n",
    "# and\n",
    "# or"
   ]
  },
  {
   "cell_type": "markdown",
   "metadata": {},
   "source": [
    "&: Bitwise AND operator\n",
    "|: Bitwise OR operator\n",
    "^: Bitwise XOR operator\n",
    "~: Binary ones’ complement operator\n",
    "<<: Binary left shift operator\n",
    ">>: Binary right shift operator\n",
    "and: logical AND operator\n",
    "or: logical OR operator\n",
    "not: logical NOT operator"
   ]
  },
  {
   "cell_type": "code",
   "execution_count": 148,
   "metadata": {},
   "outputs": [
    {
     "name": "stdout",
     "output_type": "stream",
     "text": [
      "you are neither a batsman nor a captain\n"
     ]
    }
   ],
   "source": [
    "is_batsman=False\n",
    "is_captain=False\n",
    "if is_batsman or is_captain:\n",
    "    print(\"you are atlest a batsman or a captain\")\n",
    "else:\n",
    "    print(\"you are neither a batsman nor a captain\")"
   ]
  },
  {
   "cell_type": "code",
   "execution_count": 149,
   "metadata": {},
   "outputs": [
    {
     "name": "stdout",
     "output_type": "stream",
     "text": [
      "you are a batsman and also a captain\n"
     ]
    }
   ],
   "source": [
    "is_batsman=True\n",
    "is_captain=True\n",
    "if is_batsman and is_captain:\n",
    "    print(\"you are a batsman and also a captain\")\n",
    "elif is_batsman and not is_captain:\n",
    "    print(\"You are batsman but not captain\")\n",
    "elif is_captain and not is_batsman:\n",
    "    print(\"You are captain but not batsman\")\n",
    "else:\n",
    "    print(\"you are neither a batsman nor a captain\")\n"
   ]
  },
  {
   "cell_type": "markdown",
   "metadata": {},
   "source": [
    "Dictionaries\n",
    "key:values"
   ]
  },
  {
   "cell_type": "code",
   "execution_count": 150,
   "metadata": {},
   "outputs": [
    {
     "name": "stdout",
     "output_type": "stream",
     "text": [
      "January\n"
     ]
    }
   ],
   "source": [
    "month_names={\n",
    "    \"Jan\":\"January\",\"Feb\":\"February\",\"Mar\":\"March\",\"Apr\":\"April\"\n",
    "}\n",
    "\n",
    "print(month_names[\"Jan\"])\n",
    "print(month_names.get(\"Mar\"))"
   ]
  },
  {
   "cell_type": "code",
   "execution_count": 155,
   "metadata": {},
   "outputs": [
    {
     "name": "stdout",
     "output_type": "stream",
     "text": [
      "Invalid key\n"
     ]
    }
   ],
   "source": [
    "month_names={\n",
    "    \"Jan\":\"January\",\"Feb\":\"February\",\"Mar\":\"March\",\"Apr\":\"April\"\n",
    "}\n",
    "#Formatting\n",
    "print(month_names.get(\"Nov\",\"Invalid key\"))"
   ]
  },
  {
   "cell_type": "markdown",
   "metadata": {},
   "source": [
    "Loops"
   ]
  },
  {
   "cell_type": "code",
   "execution_count": 4,
   "metadata": {},
   "outputs": [
    {
     "name": "stdout",
     "output_type": "stream",
     "text": [
      "1\n",
      "2\n",
      "3\n",
      "4\n",
      "5\n",
      "6\n",
      "7\n",
      "8\n",
      "9\n",
      "10\n"
     ]
    }
   ],
   "source": [
    "i=1\n",
    "while i<=10:\n",
    "    print(i)\n",
    "    i+=1"
   ]
  },
  {
   "cell_type": "code",
   "execution_count": 160,
   "metadata": {},
   "outputs": [
    {
     "name": "stdout",
     "output_type": "stream",
     "text": [
      "0\n",
      "1\n",
      "2\n",
      "3\n",
      "4\n",
      "5\n",
      "6\n",
      "7\n",
      "8\n",
      "9\n"
     ]
    }
   ],
   "source": [
    "for i in range(10):\n",
    "    print(i)"
   ]
  },
  {
   "cell_type": "code",
   "execution_count": 161,
   "metadata": {},
   "outputs": [
    {
     "name": "stdout",
     "output_type": "stream",
     "text": [
      "Kholi\n",
      "Dhoni\n",
      "Sachin\n"
     ]
    }
   ],
   "source": [
    "crickers=[\"Kholi\",\"Dhoni\",\"Sachin\"]\n",
    "for i in crickers:\n",
    "    print(i)"
   ]
  },
  {
   "cell_type": "code",
   "execution_count": 164,
   "metadata": {},
   "outputs": [
    {
     "name": "stdout",
     "output_type": "stream",
     "text": [
      "V\n",
      "e\n",
      "n\n",
      "k\n",
      "a\n",
      "t\n",
      "a\n",
      " \n",
      "P\n",
      "r\n",
      "a\n",
      "s\n",
      "a\n",
      "d\n"
     ]
    }
   ],
   "source": [
    "crickers=[\"Kholi\",\"Dhoni\",\"Sachin\"]\n",
    "full_name=\"Venkata Prasad\"\n",
    "for i in full_name:\n",
    "    print(i)"
   ]
  },
  {
   "cell_type": "markdown",
   "metadata": {},
   "source": [
    "2D List\n",
    "Matrix"
   ]
  },
  {
   "cell_type": "code",
   "execution_count": 165,
   "metadata": {},
   "outputs": [
    {
     "name": "stdout",
     "output_type": "stream",
     "text": [
      "[[1, 2, 3], [4, 5, 6]]\n"
     ]
    }
   ],
   "source": [
    "num=[1,2,3]\n",
    "num1=[4,5,6]\n",
    "num2d=[[1,2,3],[4,5,6]]\n",
    "print(num2d)"
   ]
  },
  {
   "cell_type": "code",
   "execution_count": 167,
   "metadata": {},
   "outputs": [
    {
     "name": "stdout",
     "output_type": "stream",
     "text": [
      "3\n"
     ]
    }
   ],
   "source": [
    "print(num2d[0][2])"
   ]
  },
  {
   "cell_type": "code",
   "execution_count": 168,
   "metadata": {},
   "outputs": [
    {
     "name": "stdout",
     "output_type": "stream",
     "text": [
      "1\n",
      "2\n",
      "3\n",
      "4\n",
      "5\n",
      "6\n"
     ]
    }
   ],
   "source": [
    "for row in num2d:\n",
    "    for col in row:\n",
    "        print(col)"
   ]
  },
  {
   "cell_type": "markdown",
   "metadata": {},
   "source": [
    "try expect"
   ]
  },
  {
   "cell_type": "code",
   "execution_count": 170,
   "metadata": {},
   "outputs": [
    {
     "name": "stdout",
     "output_type": "stream",
     "text": [
      "Invalid Input\n"
     ]
    }
   ],
   "source": [
    "try:\n",
    "    num=int(input(\"Enter number:\"))\n",
    "    print(num)\n",
    "except:\n",
    "    print(\"Invalid Input\")"
   ]
  },
  {
   "cell_type": "code",
   "execution_count": 173,
   "metadata": {},
   "outputs": [
    {
     "name": "stdout",
     "output_type": "stream",
     "text": [
      "Invalid Input\n"
     ]
    }
   ],
   "source": [
    "try:\n",
    "    num=int(input(\"Enter number:\"))\n",
    "    print(num)\n",
    "# except ZeroDivisionError:\n",
    "#     print(\"Dividing by zero\")\n",
    "except ValueError:\n",
    "    print(\"Invalid Input\")"
   ]
  },
  {
   "cell_type": "markdown",
   "metadata": {},
   "source": [
    "Read files"
   ]
  },
  {
   "cell_type": "markdown",
   "metadata": {},
   "source": []
  },
  {
   "cell_type": "code",
   "execution_count": 211,
   "metadata": {},
   "outputs": [
    {
     "name": "stdout",
     "output_type": "stream",
     "text": [
      "True\n",
      "['Ambiguity\\n', 'Paradigms\\n', 'Logistics- the detailed organisation and implementation of a complex operation.\\n', 'consignments\\n', 'Console- ']\n",
      "\n"
     ]
    }
   ],
   "source": [
    "#Check_whether_file_is_readable\n",
    "file=open(r\"C:\\Users\\HP\\OneDrive\\Desktop\\words learnt.txt\")\n",
    "print(file.readable())\n",
    "#print(file.read())\n",
    "#print(file.readline())\n",
    "print(file.readlines())\n",
    "print()\n",
    "file.close()"
   ]
  },
  {
   "cell_type": "code",
   "execution_count": 210,
   "metadata": {},
   "outputs": [],
   "source": [
    "#Check_whether_file_is_readable\n",
    "file=open(r\"C:\\Users\\HP\\OneDrive\\Desktop\\words learnt.txt\",\"a\")\n",
    "file.write(\"\\nConsole- \")\n",
    "file.close()"
   ]
  },
  {
   "cell_type": "markdown",
   "metadata": {},
   "source": [
    "r- read\n",
    "w- write\n",
    "r+- both\n",
    "a- append"
   ]
  },
  {
   "cell_type": "markdown",
   "metadata": {},
   "source": [
    "Modules\n",
    "\n",
    "#from another python file importing functions"
   ]
  },
  {
   "cell_type": "markdown",
   "metadata": {},
   "source": [
    "import filename\n",
    "\n",
    "filename.function1_name()\n",
    "filename.function2_name()\n",
    "\n",
    "#\n",
    "from filename import function1_name\n",
    "\n",
    "function1_name() #Calling the function"
   ]
  },
  {
   "cell_type": "markdown",
   "metadata": {},
   "source": [
    "###Classes and Objects"
   ]
  },
  {
   "cell_type": "code",
   "execution_count": 214,
   "metadata": {},
   "outputs": [
    {
     "name": "stdout",
     "output_type": "stream",
     "text": [
      "Virat_Kholi\n",
      "Dhoni\n"
     ]
    }
   ],
   "source": [
    "class Batsman:\n",
    "    def __init__(self,name,age,ipl_team):\n",
    "        self.name=name\n",
    "        self.age=age\n",
    "        self.ipl_team=ipl_team\n",
    "\n",
    "oject=Batsman(\"Virat_Kholi\",32,\"RCB\")\n",
    "oject1=Batsman(\"Dhoni\",39,\"CSK\")\n",
    "print(oject.name)\n",
    "print(oject1.name)\n"
   ]
  },
  {
   "cell_type": "markdown",
   "metadata": {},
   "source": [
    "Functions & Objects"
   ]
  },
  {
   "cell_type": "code",
   "execution_count": 225,
   "metadata": {},
   "outputs": [
    {
     "name": "stdout",
     "output_type": "stream",
     "text": [
      "Virat_Kholi\n",
      "32\n",
      "RCB\n",
      "Dhoni\n",
      "39\n",
      "CSK\n"
     ]
    }
   ],
   "source": [
    "class Batsman:\n",
    "    def __init__(self,name,age,ipl_team):\n",
    "        self.name=name\n",
    "        self.age=age\n",
    "        self.ipl_team=ipl_team\n",
    "    def print_fun(self):\n",
    "        print(self.name)\n",
    "        print(self.age)\n",
    "        print(self.ipl_team)\n",
    "oject=Batsman(\"Virat_Kholi\",32,\"RCB\")\n",
    "oject1=Batsman(\"Dhoni\",39,\"CSK\")\n",
    "oject.print_fun()\n",
    "oject1.print_fun()"
   ]
  },
  {
   "cell_type": "markdown",
   "metadata": {},
   "source": [
    "Inheritance"
   ]
  },
  {
   "cell_type": "code",
   "execution_count": 228,
   "metadata": {},
   "outputs": [
    {
     "name": "stdout",
     "output_type": "stream",
     "text": [
      "Name\n",
      "Age\n",
      "Name\n",
      "Age\n",
      "Runs Scored\n"
     ]
    }
   ],
   "source": [
    "class Human:\n",
    "    #Here there is no init function which means there is no arguments passed\n",
    "    #__init__ only defined by user if any arguments were passed\n",
    "    def name(self):\n",
    "        print(\"Name\")\n",
    "    def age(self):\n",
    "        print(\"Age\")\n",
    "human=Human()\n",
    "human.name()\n",
    "human.age()\n",
    "class Bats_man(Human):\n",
    "    def runs(self):\n",
    "        print(\"Runs Scored\")\n",
    "batsman=Bats_man()\n",
    "batsman.name()\n",
    "batsman.age()\n",
    "batsman.runs()\n",
    "#Bats_man class is derived from parent class; It can access the member functions of parent class."
   ]
  },
  {
   "cell_type": "markdown",
   "metadata": {},
   "source": [
    "Sets"
   ]
  },
  {
   "cell_type": "code",
   "execution_count": 229,
   "metadata": {},
   "outputs": [
    {
     "name": "stdout",
     "output_type": "stream",
     "text": [
      "{1, 2, 3, 4, 5, 6, 7}\n"
     ]
    }
   ],
   "source": [
    "#Creating set\n",
    "set1={1,1,2,3,4,5,6,7,7}\n",
    "print(set1)"
   ]
  },
  {
   "cell_type": "code",
   "execution_count": 232,
   "metadata": {},
   "outputs": [
    {
     "data": {
      "text/plain": [
       "dict"
      ]
     },
     "execution_count": 232,
     "metadata": {},
     "output_type": "execute_result"
    }
   ],
   "source": [
    "set2={}\n",
    "type(set2)\n",
    "#to create empty set we should use keyword function set({})\n",
    "#otherwise python consideres it as a dictionary"
   ]
  },
  {
   "cell_type": "code",
   "execution_count": 233,
   "metadata": {},
   "outputs": [
    {
     "data": {
      "text/plain": [
       "set"
      ]
     },
     "execution_count": 233,
     "metadata": {},
     "output_type": "execute_result"
    }
   ],
   "source": [
    "set2=set({})\n",
    "type(set2)"
   ]
  },
  {
   "cell_type": "code",
   "execution_count": 242,
   "metadata": {},
   "outputs": [
    {
     "name": "stdout",
     "output_type": "stream",
     "text": [
      "{3, 4, 5, 7, 10}\n",
      "{3, 4, 5, 7}\n",
      "{3, 4, 5, 7}\n",
      "3\n",
      "{4, 5, 7}\n"
     ]
    }
   ],
   "source": [
    "set2.add(5)\n",
    "set2.add(4)\n",
    "set2.add(3)\n",
    "set2.add(7)\n",
    "set2.add(7)\n",
    "set2.add(5)\n",
    "set2.add(5)\n",
    "set2.add(10)\n",
    "print(set2)\n",
    "\n",
    "set2.remove(10)\n",
    "#It check whether the number in set and removes if present,show error if not present\n",
    "print(set2)\n",
    "\n",
    "set2.discard(11)\n",
    "#It check whether the number in set and removes if present, dont show error if not present\n",
    "print(set2)\n",
    "\n",
    "#set2.clear()\n",
    "#it clears all \n",
    "\n",
    "print(set2.pop())\n",
    "#Pop removes randomly\n",
    "print(set2)\n",
    " "
   ]
  },
  {
   "cell_type": "markdown",
   "metadata": {},
   "source": [
    "Set operations"
   ]
  },
  {
   "cell_type": "code",
   "execution_count": 245,
   "metadata": {},
   "outputs": [
    {
     "name": "stdout",
     "output_type": "stream",
     "text": [
      "{1, 2, 3, 4, 5, 6, 7, 8, 9}\n",
      "set()\n"
     ]
    }
   ],
   "source": [
    "odds={1,3,5,7,9}\n",
    "even={2,4,6,8}\n",
    "\n",
    "print(odds.union(even))\n",
    "print(odds.intersection(even))"
   ]
  },
  {
   "cell_type": "code",
   "execution_count": 248,
   "metadata": {},
   "outputs": [
    {
     "name": "stdout",
     "output_type": "stream",
     "text": [
      "{1, 2, 3, 4, 5, 10}\n",
      "{1, 2, 3, 4, 5, 10}\n"
     ]
    }
   ],
   "source": [
    "set1={1,2,3,4,5}\n",
    "set2=set1\n",
    "#Need for set copying\n",
    "set2.add(10)\n",
    "print(set2)\n",
    "print(set1)\n"
   ]
  },
  {
   "cell_type": "code",
   "execution_count": 249,
   "metadata": {},
   "outputs": [],
   "source": [
    "set2=set1.copy()\n",
    "set3=set(set1) "
   ]
  },
  {
   "cell_type": "code",
   "execution_count": null,
   "metadata": {},
   "outputs": [],
   "source": []
  }
 ],
 "metadata": {
  "kernelspec": {
   "display_name": "Python 3.9.10 ('myenv': venv)",
   "language": "python",
   "name": "python3"
  },
  "language_info": {
   "codemirror_mode": {
    "name": "ipython",
    "version": 3
   },
   "file_extension": ".py",
   "mimetype": "text/x-python",
   "name": "python",
   "nbconvert_exporter": "python",
   "pygments_lexer": "ipython3",
   "version": "3.9.10"
  },
  "orig_nbformat": 4,
  "vscode": {
   "interpreter": {
    "hash": "0a817508bf620584500b051b7a05f83321e0518b7353592b64b66dada2243bb7"
   }
  }
 },
 "nbformat": 4,
 "nbformat_minor": 2
}
