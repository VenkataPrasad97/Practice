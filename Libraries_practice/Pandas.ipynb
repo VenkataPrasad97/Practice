{
 "cells": [
  {
   "cell_type": "code",
   "execution_count": null,
   "metadata": {},
   "outputs": [],
   "source": []
  }
 ],
 "metadata": {
  "kernelspec": {
   "display_name": "myenv",
   "language": "python",
   "name": "python3"
  },
  "language_info": {
   "name": "python",
   "version": "3.9.10 (tags/v3.9.10:f2f3f53, Jan 17 2022, 15:14:21) [MSC v.1929 64 bit (AMD64)]"
  },
  "orig_nbformat": 4,
  "vscode": {
   "interpreter": {
    "hash": "0a817508bf620584500b051b7a05f83321e0518b7353592b64b66dada2243bb7"
   }
  }
 },
 "nbformat": 4,
 "nbformat_minor": 2
}
